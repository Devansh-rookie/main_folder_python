{
 "cells": [
  {
   "cell_type": "markdown",
   "metadata": {},
   "source": [
    "Question 1:\n",
    "\n",
    "Consider a scenario where a child eats five chocolates every day. The price of each chocolate is different. His parent pays the bill to the chocolate vendor at the end of every week. Develop a program to generate the bills for the chocolates and send them to the parent."
   ]
  },
  {
   "cell_type": "code",
   "execution_count": 5,
   "metadata": {},
   "outputs": [
    {
     "name": "stdout",
     "output_type": "stream",
     "text": [
      "This is the menu for the chocolates:  {1: 56, 2: 77, 3: 94, 4: 65, 5: 10, 6: 20, 7: 8, 8: 33, 9: 84, 10: 99, 11: 21, 12: 7, 13: 62, 14: 22, 15: 64, 16: 90, 17: 43, 18: 75, 19: 58, 20: 95, 21: 1, 22: 4, 23: 33, 24: 6, 25: 46, 26: 51, 27: 61, 28: 43, 29: 79, 30: 60, 31: 23, 32: 53, 33: 76, 34: 97, 35: 43, 36: 80, 37: 97, 38: 32, 39: 25, 40: 59, 41: 10, 42: 30, 43: 27, 44: 6, 45: 15, 46: 64, 47: 78, 48: 70, 49: 7, 50: 5}\n",
      "Number and Price:  20 95\n",
      "Number and Price:  21 1\n",
      "Number and Price:  17 43\n",
      "Number and Price:  13 62\n",
      "Number and Price:  2 77\n",
      "Number and Price:  12 7\n",
      "Number and Price:  22 4\n",
      "Number and Price:  5 10\n",
      "Number and Price:  3 94\n",
      "Number and Price:  19 58\n",
      "Number and Price:  35 43\n",
      "Number and Price:  8 33\n",
      "Number and Price:  19 58\n",
      "Number and Price:  31 23\n",
      "Number and Price:  28 43\n",
      "Number and Price:  28 43\n",
      "Number and Price:  33 76\n",
      "Number and Price:  24 6\n",
      "Number and Price:  8 33\n",
      "Number and Price:  30 60\n",
      "Number and Price:  1 56\n",
      "Number and Price:  15 64\n",
      "Number and Price:  4 65\n",
      "Number and Price:  13 62\n",
      "Number and Price:  26 51\n",
      "Number and Price:  1 56\n",
      "Number and Price:  6 20\n",
      "Number and Price:  4 65\n",
      "Number and Price:  20 95\n",
      "Number and Price:  29 79\n",
      "Number and Price:  21 1\n",
      "Number and Price:  16 90\n",
      "Number and Price:  26 51\n",
      "Number and Price:  5 10\n",
      "Number and Price:  9 84\n",
      "The Grand Total is:  1718\n"
     ]
    }
   ],
   "source": [
    "import random\n",
    "sum = 0\n",
    "list1=[]\n",
    "choco={}\n",
    "for i in range(50):\n",
    "    choco[i+1]= random.randrange(1,100)\n",
    "print(\"This is the menu for the chocolates: \",choco)\n",
    "for i in range(35):\n",
    "    c= random.randrange(1,36)\n",
    "    list1.append(c)\n",
    "    sum+=choco[c]\n",
    "for i in range(35):\n",
    "    print(\"Number and Price: \",list1[i],choco[list1[i]])\n",
    "print(\"The Grand Total is: \",sum)"
   ]
  },
  {
   "cell_type": "markdown",
   "metadata": {},
   "source": [
    "Question 2:\n",
    "\n",
    "Write a Python program to check validity of password.\n"
   ]
  },
  {
   "cell_type": "code",
   "execution_count": 10,
   "metadata": {},
   "outputs": [
    {
     "name": "stdout",
     "output_type": "stream",
     "text": [
      "The password is valid.\n"
     ]
    }
   ],
   "source": [
    "a= input(\"What is the password\")\n",
    "up_len=0\n",
    "low_len=0\n",
    "dig_len=0\n",
    "special_len=0\n",
    "if len(a)>=8:\n",
    "    for i in a:\n",
    "        if i.isalpha() and i.islower():\n",
    "            low_len+=1\n",
    "        elif i.isalpha() and i.isupper():\n",
    "            up_len+=1\n",
    "        elif i.isdigit():\n",
    "            dig_len+=1\n",
    "        else:\n",
    "            special_len+=1\n",
    "else:\n",
    "    print(\"The password is too short\")\n",
    "if special_len==0:\n",
    "    print(\"There are less number of special characters.\")\n",
    "elif up_len==0:\n",
    "    print(\"There are less number of upper case characters.\")\n",
    "elif low_len==0:\n",
    "    print(\"There are less number of lower case characters.\")\n",
    "elif dig_len==0:\n",
    "    print(\"There are less number of numbers.\")\n",
    "else:\n",
    "    print(\"The password is valid.\")"
   ]
  }
 ],
 "metadata": {
  "kernelspec": {
   "display_name": "Python 3",
   "language": "python",
   "name": "python3"
  },
  "language_info": {
   "codemirror_mode": {
    "name": "ipython",
    "version": 3
   },
   "file_extension": ".py",
   "mimetype": "text/x-python",
   "name": "python",
   "nbconvert_exporter": "python",
   "pygments_lexer": "ipython3",
   "version": "3.9.6"
  }
 },
 "nbformat": 4,
 "nbformat_minor": 2
}
