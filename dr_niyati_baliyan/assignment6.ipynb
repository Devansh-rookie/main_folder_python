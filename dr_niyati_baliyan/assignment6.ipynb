{
 "cells": [
  {
   "cell_type": "markdown",
   "metadata": {},
   "source": [
    "1. Write a Python program to convert a list to a list of dictionaries.\n",
    "Sample lists: [\"Black\", \"Red\", \"Maroon\", \"Yellow\"], [\"#000000\", \"#FF0000\",\n",
    "\"#800000\", \"#FFFF00\"]\n",
    "Expected Output: [ {'color_name': 'Black', 'color_code': '#000000'}, {'color_name': 'Red',\n",
    "'color_ code': '#FF0000'}, {'color_ name': 'Maroon', 'color_ code': '#800000'},\n",
    "{'color_ name': 'Yellow', 'color_ code': '#FFFF00'}]\n"
   ]
  },
  {
   "cell_type": "code",
   "execution_count": 5,
   "metadata": {},
   "outputs": [
    {
     "name": "stdout",
     "output_type": "stream",
     "text": [
      "[{'color_name': 'Black', 'color_code': '#000000'}, {'color_name': 'Red', 'color_code': '#FF0000'}, {'color_name': 'Maroon', 'color_code': '#800000'}, {'color_name': 'Yellow', 'color_code': '#FFFF00'}]\n"
     ]
    }
   ],
   "source": [
    "def list_to_dict(list1,list2):\n",
    "    rlist= list()\n",
    "    if len(list1)!=len(list2):\n",
    "        return \"Can't be converted.\"\n",
    "    for i in range(len(list1)):\n",
    "        rlist.append({})\n",
    "        rlist[i][\"color_name\"]=list1[i]\n",
    "        rlist[i][\"color_code\"]= list2[i]\n",
    "    return rlist\n",
    "list1 =[\"Black\", \"Red\", \"Maroon\", \"Yellow\"]\n",
    "list2 = [\"#000000\", \"#FF0000\",\"#800000\", \"#FFFF00\"]\n",
    "print(list_to_dict(list1,list2))"
   ]
  },
  {
   "cell_type": "markdown",
   "metadata": {},
   "source": [
    "2. Write a Python program to find a tuple, the smallest second index value from a list of\n",
    "tuples."
   ]
  },
  {
   "cell_type": "markdown",
   "metadata": {},
   "source": [
    "3. Write a Python program to check if all dictionaries in a list are empty or not.\n",
    "Sample list : [ {}, {}, {}]\n",
    "Return value: True\n",
    "Sample list : [ { I ,2}, {}, {}]\n",
    "Return value : False"
   ]
  },
  {
   "cell_type": "markdown",
   "metadata": {},
   "source": [
    "4.Write a Python program to find the index of an item of a tuple."
   ]
  },
  {
   "cell_type": "markdown",
   "metadata": {},
   "source": [
    "5.Write a Python program to unzip a list of tuples into individual lists."
   ]
  },
  {
   "cell_type": "markdown",
   "metadata": {},
   "source": [
    "6.Write a Python program to remove an empty tuple(s) from a list of tuples.\n",
    "Sample data: [(), O, (\",), ('a', 'b'), ('a', 'b', 'c'), ('d')]\n",
    "Expected output: [(\",), ('a', 'b'), ('a', 'b', 'c'), 'd']"
   ]
  },
  {
   "cell_type": "markdown",
   "metadata": {},
   "source": [
    "7.Write a Python program to create a dictionary from two lists without losing duplicate values.\n",
    "Sample lists: ['Class-V', 'Class-VI', 'Class-VII', 'Class-VIII'], [l, 12, 2, 3]\n",
    "Expected Output: defaultdict(<class 'set'>, {'Class-VU': {2}, 'Class-VI': {2}, 'Class-VIII':\n",
    "{3}, 'Class-V': {1}})"
   ]
  }
 ],
 "metadata": {
  "kernelspec": {
   "display_name": "Python 3",
   "language": "python",
   "name": "python3"
  },
  "language_info": {
   "codemirror_mode": {
    "name": "ipython",
    "version": 3
   },
   "file_extension": ".py",
   "mimetype": "text/x-python",
   "name": "python",
   "nbconvert_exporter": "python",
   "pygments_lexer": "ipython3",
   "version": "3.12.0"
  }
 },
 "nbformat": 4,
 "nbformat_minor": 2
}
