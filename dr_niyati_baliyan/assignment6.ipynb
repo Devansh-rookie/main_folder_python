{
 "cells": [
  {
   "cell_type": "markdown",
   "metadata": {},
   "source": [
    "1. Write a Python program to convert a list to a list of dictionaries.\n",
    "Sample lists: [\"Black\", \"Red\", \"Maroon\", \"Yellow\"], [\"#000000\", \"#FF0000\",\n",
    "\"#800000\", \"#FFFF00\"]\n",
    "Expected Output: [ {'color_name': 'Black', 'color_code': '#000000'}, {'color_name': 'Red',\n",
    "'color_ code': '#FF0000'}, {'color_ name': 'Maroon', 'color_ code': '#800000'},\n",
    "{'color_ name': 'Yellow', 'color_ code': '#FFFF00'}]\n"
   ]
  },
  {
   "cell_type": "code",
   "execution_count": 5,
   "metadata": {},
   "outputs": [
    {
     "name": "stdout",
     "output_type": "stream",
     "text": [
      "[{'color_name': 'Black', 'color_code': '#000000'}, {'color_name': 'Red', 'color_code': '#FF0000'}, {'color_name': 'Maroon', 'color_code': '#800000'}, {'color_name': 'Yellow', 'color_code': '#FFFF00'}]\n"
     ]
    }
   ],
   "source": [
    "def list_to_dict(list1,list2):\n",
    "    rlist= list()\n",
    "    if len(list1)!=len(list2):\n",
    "        return \"Can't be converted.\"\n",
    "    for i in range(len(list1)):\n",
    "        rlist.append({})\n",
    "        rlist[i][\"color_name\"]=list1[i]\n",
    "        rlist[i][\"color_code\"]= list2[i]\n",
    "    return rlist\n",
    "list1 =[\"Black\", \"Red\", \"Maroon\", \"Yellow\"]\n",
    "list2 = [\"#000000\", \"#FF0000\",\"#800000\", \"#FFFF00\"]\n",
    "print(list_to_dict(list1,list2))"
   ]
  },
  {
   "cell_type": "markdown",
   "metadata": {},
   "source": [
    "2. Write a Python program to find a tuple, the smallest second index value from a list of tuples."
   ]
  },
  {
   "cell_type": "code",
   "execution_count": 2,
   "metadata": {},
   "outputs": [
    {
     "name": "stdout",
     "output_type": "stream",
     "text": [
      "[(1, 1), (5, 1), (1, 2), (3, -5)]\n",
      "the smallest second index value from a list of tuples is:  -5\n"
     ]
    }
   ],
   "source": [
    "def find_smallest_second(main_list):\n",
    "    # main_list is a list of tuples with each tuple having atleast 2 elements\n",
    "    min = main_list[0][1]\n",
    "    for i in main_list:\n",
    "        if(min>i[1]):\n",
    "            min = i[1]\n",
    "    return min\n",
    "\n",
    "the_list = eval(input(\"Give a list of tuples with each tuple having at least 2 elements: \"))\n",
    "print(the_list)\n",
    "print(\"the smallest second index value from a list of tuples is: \", find_smallest_second(the_list))"
   ]
  },
  {
   "cell_type": "markdown",
   "metadata": {},
   "source": [
    "3. Write a Python program to check if all dictionaries in a list are empty or not.\n",
    "Sample list : [ {}, {}, {}]\n",
    "Return value: True\n",
    "Sample list : [ { I ,2}, {}, {}]\n",
    "Return value : False"
   ]
  },
  {
   "cell_type": "code",
   "execution_count": 7,
   "metadata": {},
   "outputs": [
    {
     "name": "stdout",
     "output_type": "stream",
     "text": [
      "The List:  [{}, {}, {}]\n",
      "Return Value:  True\n",
      "The List:  [{'I': 2}, {}, {}]\n",
      "Return Value:  False\n"
     ]
    }
   ],
   "source": [
    "def check_all_dict_empty(the_list):\n",
    "    for i in the_list:\n",
    "        if(len(i)!=0):\n",
    "            return False\n",
    "    return True\n",
    "list1 = [ {}, {}, {}]\n",
    "print(\"The List: \", list1)\n",
    "print(\"Return Value: \",check_all_dict_empty(list1))\n",
    "# list2 = [ {\"I\", 2}, {}, {}]# the element is a set not a dictionary as there is a comma not a colon to make it a key and value pair\n",
    "list2 = [ {\"I\": 2}, {}, {}]\n",
    "print(\"The List: \", list2)\n",
    "print(\"Return Value: \",check_all_dict_empty(list2))"
   ]
  },
  {
   "cell_type": "markdown",
   "metadata": {},
   "source": [
    "4.Write a Python program to find the index of an item of a tuple."
   ]
  },
  {
   "cell_type": "code",
   "execution_count": 17,
   "metadata": {},
   "outputs": [
    {
     "name": "stdout",
     "output_type": "stream",
     "text": [
      "Index of 3 is 2\n",
      "Index of 5 is False\n"
     ]
    }
   ],
   "source": [
    "def give_index(a, val): # return the first time\n",
    "    for i in range(len(a)):\n",
    "        if(a[i] == val):\n",
    "            return i\n",
    "    return False\n",
    "a = (2,1,3,6,2,9)\n",
    "val = 3\n",
    "print(f\"Index of {val} is {give_index(a,val)}\")\n",
    "print(f\"Index of {5} is {give_index(a,5)}\")"
   ]
  },
  {
   "cell_type": "markdown",
   "metadata": {},
   "source": [
    "5.Write a Python program to unzip a list of tuples into individual lists."
   ]
  },
  {
   "cell_type": "code",
   "execution_count": 18,
   "metadata": {},
   "outputs": [
    {
     "name": "stdout",
     "output_type": "stream",
     "text": [
      "[1, 2]\n",
      "[2, 3]\n",
      "[3, 4]\n",
      "[4, 5]\n"
     ]
    }
   ],
   "source": [
    "def unzip_list(a):\n",
    "    # a is list of tuples\n",
    "    b= []\n",
    "    for i in a:\n",
    "        b = list(i)\n",
    "        print(b)\n",
    "a = [(1,2),(2,3),(3,4),(4,5)]\n",
    "unzip_list(a)"
   ]
  },
  {
   "cell_type": "markdown",
   "metadata": {},
   "source": [
    "OR"
   ]
  },
  {
   "cell_type": "code",
   "execution_count": 25,
   "metadata": {},
   "outputs": [
    {
     "name": "stdout",
     "output_type": "stream",
     "text": [
      "[1, 2]\n",
      "[2, 3]\n",
      "[3, 4]\n",
      "[4, 5]\n",
      " \n"
     ]
    }
   ],
   "source": [
    "def unzip_list(a,i=(len(a)-1)):\n",
    "    if(i>=0):\n",
    "        unzip_list(a,i-1)\n",
    "        print(list(a[i]))\n",
    "        return list(a[i])\n",
    "a = [(1,2),(2,3),(3,4),(4,5)]\n",
    "unzip_list(a)\n",
    "print(\" \")"
   ]
  },
  {
   "cell_type": "markdown",
   "metadata": {},
   "source": [
    "6.Write a Python program to remove an empty tuple(s) from a list of tuples.\n",
    "Sample data: [(), O, (\",), ('a', 'b'), ('a', 'b', 'c'), ('d')]\n",
    "Expected output: [(\",), ('a', 'b'), ('a', 'b', 'c'), 'd']"
   ]
  },
  {
   "cell_type": "code",
   "execution_count": 14,
   "metadata": {},
   "outputs": [
    {
     "name": "stdout",
     "output_type": "stream",
     "text": [
      "Sample List:  [(), 0, ('',), ('a', 'b'), ('a', 'b', 'c'), 'd']\n",
      "Output:  [('',), ('a', 'b'), ('a', 'b', 'c')]\n"
     ]
    }
   ],
   "source": [
    "def rem_empty_tuple(a):\n",
    "    list1= []\n",
    "    for i in a:\n",
    "        # if(not(type(i) == \"tuple\") or len(i)==0):# this won't work we have to compare classes , some what like we do with None that is with the \"is\" operator\n",
    "        if(not(type(i) is tuple) or len(i)==0):\n",
    "            continue\n",
    "        list1.append(tuple(i))\n",
    "    return list1\n",
    "\n",
    "a = [(), 0, (\"\",), ('a', 'b'), ('a', 'b', 'c'), ('d')]\n",
    "# (\"d\") is not a tuple its a string but (\"d\", ) is a tuple\n",
    "print(\"Sample List: \",a)\n",
    "print(\"Output: \", rem_empty_tuple(a))"
   ]
  },
  {
   "cell_type": "markdown",
   "metadata": {},
   "source": [
    "7.Write a Python program to create a dictionary from two lists without losing duplicate values.\n",
    "Sample lists: ['Class-V', 'Class-VI', 'Class-VII', 'Class-VIII'], [1,2, 2, 3]\n",
    "Expected Output: defaultdict(<class 'set'>, {'Class-VII': {2}, 'Class-VI': {2}, 'Class-VIII': {3}, 'Class-V': {1}})"
   ]
  },
  {
   "cell_type": "code",
   "execution_count": 15,
   "metadata": {},
   "outputs": [
    {
     "name": "stdout",
     "output_type": "stream",
     "text": [
      "Original Lists: \n",
      "['Class-V', 'Class-VI', 'Class-VII', 'Class-VIII']\n",
      "[1, 2, 2, 3]\n",
      "Output:  {'Class-V': 1, 'Class-VI': 2, 'Class-VII': 2, 'Class-VIII': 3}\n"
     ]
    }
   ],
   "source": [
    "def create_dict(a,b):\n",
    "    if not(len(a)== len(b)):\n",
    "        print(\"Not Possible\")\n",
    "        return {}\n",
    "    dict1 = dict()\n",
    "    for i in range(len(a)):\n",
    "        dict1[a[i]]= b[i]\n",
    "    return dict1\n",
    "a,b = ['Class-V', 'Class-VI', 'Class-VII', 'Class-VIII'], [1 ,2, 2, 3]\n",
    "print(\"Original Lists: \",a,b, sep=\"\\n\")\n",
    "print(\"Output: \",create_dict(a,b))"
   ]
  }
 ],
 "metadata": {
  "kernelspec": {
   "display_name": "Python 3",
   "language": "python",
   "name": "python3"
  },
  "language_info": {
   "codemirror_mode": {
    "name": "ipython",
    "version": 3
   },
   "file_extension": ".py",
   "mimetype": "text/x-python",
   "name": "python",
   "nbconvert_exporter": "python",
   "pygments_lexer": "ipython3",
   "version": "3.12.0"
  }
 },
 "nbformat": 4,
 "nbformat_minor": 2
}
