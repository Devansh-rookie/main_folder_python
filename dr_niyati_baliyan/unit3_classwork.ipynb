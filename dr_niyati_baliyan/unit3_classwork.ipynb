{
 "cells": [
  {
   "cell_type": "code",
   "execution_count": 32,
   "metadata": {},
   "outputs": [
    {
     "data": {
      "text/html": [
       "\n",
       "      <svg width=\"800\" height=\"500\">\n",
       "        <rect width=\"100%\" height=\"100%\" fill=\"lavender\"/>\n",
       "        <text x=\"400\" y=\"250\" fill=\"rgb(120,120,120)\" text-anchor=\"middle\" style=\"font-size:40px;font-family:'Arial';font-style:italic;\">Hello</text><line x1=\"400\" y1=\"250\" x2=\"400.0\" y2=\"200.0\" stroke-linecap=\"round\" style=\"stroke:rgb(120,120,120);stroke-width:4\"/><line x1=\"400.0\" y1=\"200.0\" x2=\"450.0\" y2=\"200.0\" stroke-linecap=\"round\" style=\"stroke:rgb(120,120,120);stroke-width:4\"/><line x1=\"450.0\" y1=\"200.0\" x2=\"540.0\" y2=\"200.0\" stroke-linecap=\"round\" style=\"stroke:rgb(120,120,120);stroke-width:4\"/><line x1=\"540.0\" y1=\"200.0\" x2=\"540.0\" y2=\"290.0\" stroke-linecap=\"round\" style=\"stroke:rgb(120,120,120);stroke-width:4\"/><line x1=\"540.0\" y1=\"290.0\" x2=\"450.0\" y2=\"290.0\" stroke-linecap=\"round\" style=\"stroke:rgb(120,120,120);stroke-width:4\"/><line x1=\"450.0\" y1=\"290.0\" x2=\"450.0\" y2=\"200.0\" stroke-linecap=\"round\" style=\"stroke:rgb(120,120,120);stroke-width:4\"/>\n",
       "        \n",
       "      <g visibility=visible transform=\"rotate(-90,450.0,200.0) translate(450.0, 200.0)\">\n",
       "        <circle stroke=\"rgb(120,120,120)\" stroke-width=\"3\" fill=\"transparent\" r=\"12\" cx=\"0\" cy=\"0\"/>\n",
       "        <polygon points=\"0,19 3,16 -3,16\" style=\"fill:rgb(120,120,120);stroke:rgb(120,120,120);stroke-width:2\"/>\n",
       "      </g>\n",
       "    \n",
       "      </svg>\n",
       "    "
      ],
      "text/plain": [
       "<IPython.core.display.HTML object>"
      ]
     },
     "metadata": {},
     "output_type": "display_data"
    }
   ],
   "source": [
    "# a cursor is given, by default it is a turtle in the turtle module but it can be changed to be fixed defined shape\n",
    "\n",
    "# !pip install ColabTurtle, # for colab\n",
    "# from ColabTurtle.Turtle import *\n",
    "# import turtle\n",
    "# wn = turtle.Screen()\n",
    "\n",
    "from ColabTurtle.Turtle import *\n",
    "initializeTurtle()\n",
    "# by default it's bg colour is black and turtle is white\n",
    "# it runs line by line so first spae is changed then bgcolor and color after that\n",
    "\n",
    "shape(\"circle\") # \n",
    "bgcolor(\"lavender\") # remember some colours, crimson or mediumblue lightgreen etc.\n",
    "color(\"black\") # everything we write and, so its foreground colour\n",
    "color(170,90,42) # for rgb values\n",
    "color('rgb(120,120,120)')\n",
    "# only 2 valid shapes are turtle and circle for the cursor\n",
    "\n",
    "# goto(20,30) # this will leave a trace and the cursor goes to x= 20 and y= 30\n",
    "# penup and pendown would lift the pen up and put the pen down and we can write using goto if we use pendown otherwise if penup no line would be made only the cursor is moved\n",
    "\n",
    "# penup()\n",
    "# goto(20,30)\n",
    "# pendown()\n",
    "\n",
    "write(\"Hello\", align='center', font=(40,\"Arial\", \"italic\"))\n",
    "# align uses right, left and center with respect to cursor in align right it will write the text to the left the cursor goes to the left\n",
    "# 3-6 digit hex codes\n",
    "# color('#efefef')\n",
    "forward(50)# went up as cursor was pointing up now we have to change the angle, in pixels, moves towards the face\n",
    "right(90) # in degrees it will move to the right\n",
    "forward(50)\n",
    "for i in range(4): # will draw a square here.\n",
    "    forward(90)\n",
    "    right(90)\n",
    "    # left can also work for angle and \n",
    "    # backward can be used instead of forward here"
   ]
  },
  {
   "cell_type": "code",
   "execution_count": 15,
   "metadata": {},
   "outputs": [
    {
     "data": {
      "text/html": [
       "\n",
       "      <svg width=\"800\" height=\"500\">\n",
       "        <rect width=\"100%\" height=\"100%\" fill=\"black\"/>\n",
       "        <line x1=\"400\" y1=\"250\" x2=\"400.0\" y2=\"150.0\" stroke-linecap=\"round\" style=\"stroke:white;stroke-width:4\"/><line x1=\"400.0\" y1=\"150.0\" x2=\"486.603\" y2=\"100.0\" stroke-linecap=\"round\" style=\"stroke:white;stroke-width:4\"/><line x1=\"486.603\" y1=\"100.0\" x2=\"573.206\" y2=\"150.0\" stroke-linecap=\"round\" style=\"stroke:white;stroke-width:4\"/><line x1=\"573.206\" y1=\"150.0\" x2=\"573.206\" y2=\"250.0\" stroke-linecap=\"round\" style=\"stroke:white;stroke-width:4\"/><line x1=\"573.206\" y1=\"250.0\" x2=\"486.603\" y2=\"300.0\" stroke-linecap=\"round\" style=\"stroke:white;stroke-width:4\"/><line x1=\"486.603\" y1=\"300.0\" x2=\"400.0\" y2=\"250.0\" stroke-linecap=\"round\" style=\"stroke:white;stroke-width:4\"/><line x1=\"400.0\" y1=\"250.0\" x2=\"313.397\" y2=\"300.0\" stroke-linecap=\"round\" style=\"stroke:white;stroke-width:4\"/><line x1=\"313.397\" y1=\"300.0\" x2=\"226.794\" y2=\"250.0\" stroke-linecap=\"round\" style=\"stroke:white;stroke-width:4\"/><line x1=\"226.794\" y1=\"250.0\" x2=\"226.794\" y2=\"150.0\" stroke-linecap=\"round\" style=\"stroke:white;stroke-width:4\"/><line x1=\"226.794\" y1=\"150.0\" x2=\"313.397\" y2=\"100.0\" stroke-linecap=\"round\" style=\"stroke:white;stroke-width:4\"/><line x1=\"313.397\" y1=\"100.0\" x2=\"400.0\" y2=\"150.0\" stroke-linecap=\"round\" style=\"stroke:white;stroke-width:4\"/><line x1=\"400.0\" y1=\"150.0\" x2=\"400.0\" y2=\"250.0\" stroke-linecap=\"round\" style=\"stroke:white;stroke-width:4\"/><line x1=\"400.0\" y1=\"250.0\" x2=\"356.699\" y2=\"275.0\" stroke-linecap=\"round\" style=\"stroke:white;stroke-width:4\"/><line x1=\"356.699\" y1=\"275.0\" x2=\"356.699\" y2=\"325.0\" stroke-linecap=\"round\" style=\"stroke:white;stroke-width:4\"/><line x1=\"356.699\" y1=\"325.0\" x2=\"400.0\" y2=\"350.0\" stroke-linecap=\"round\" style=\"stroke:white;stroke-width:4\"/><line x1=\"400.0\" y1=\"350.0\" x2=\"443.301\" y2=\"325.0\" stroke-linecap=\"round\" style=\"stroke:white;stroke-width:4\"/><line x1=\"443.301\" y1=\"325.0\" x2=\"443.301\" y2=\"275.0\" stroke-linecap=\"round\" style=\"stroke:white;stroke-width:4\"/><line x1=\"443.301\" y1=\"275.0\" x2=\"400.0\" y2=\"250.0\" stroke-linecap=\"round\" style=\"stroke:white;stroke-width:4\"/><line x1=\"400.0\" y1=\"250.0\" x2=\"313.397\" y2=\"300.0\" stroke-linecap=\"round\" style=\"stroke:white;stroke-width:4\"/><line x1=\"313.397\" y1=\"300.0\" x2=\"313.397\" y2=\"400.0\" stroke-linecap=\"round\" style=\"stroke:white;stroke-width:4\"/><line x1=\"313.397\" y1=\"400.0\" x2=\"400.0\" y2=\"450.0\" stroke-linecap=\"round\" style=\"stroke:white;stroke-width:4\"/><line x1=\"400.0\" y1=\"450.0\" x2=\"486.603\" y2=\"400.0\" stroke-linecap=\"round\" style=\"stroke:white;stroke-width:4\"/><line x1=\"486.603\" y1=\"400.0\" x2=\"486.603\" y2=\"300.0\" stroke-linecap=\"round\" style=\"stroke:white;stroke-width:4\"/><line x1=\"486.603\" y1=\"300.0\" x2=\"400.0\" y2=\"250.0\" stroke-linecap=\"round\" style=\"stroke:white;stroke-width:4\"/><line x1=\"313.397\" y1=\"200.0\" x2=\"304.737\" y2=\"195.0\" stroke-linecap=\"round\" style=\"stroke:white;stroke-width:4\"/><line x1=\"304.737\" y1=\"195.0\" x2=\"302.149\" y2=\"185.341\" stroke-linecap=\"round\" style=\"stroke:white;stroke-width:4\"/><line x1=\"302.149\" y1=\"185.341\" x2=\"307.149\" y2=\"176.681\" stroke-linecap=\"round\" style=\"stroke:white;stroke-width:4\"/><line x1=\"307.149\" y1=\"176.681\" x2=\"316.808\" y2=\"174.093\" stroke-linecap=\"round\" style=\"stroke:white;stroke-width:4\"/><line x1=\"316.808\" y1=\"174.093\" x2=\"325.468\" y2=\"179.093\" stroke-linecap=\"round\" style=\"stroke:white;stroke-width:4\"/><line x1=\"325.468\" y1=\"179.093\" x2=\"328.056\" y2=\"188.752\" stroke-linecap=\"round\" style=\"stroke:white;stroke-width:4\"/><line x1=\"328.056\" y1=\"188.752\" x2=\"323.056\" y2=\"197.412\" stroke-linecap=\"round\" style=\"stroke:white;stroke-width:4\"/><line x1=\"323.056\" y1=\"197.412\" x2=\"313.397\" y2=\"200.0\" stroke-linecap=\"round\" style=\"stroke:white;stroke-width:4\"/>\n",
       "        <g visibility=visible transform=\"rotate(300.0,140.192,100.0) translate(122.19200000000001, 82.0)\">\n",
       "<path style=\" stroke:none;fill-rule:evenodd;fill:white;fill-opacity:1;\" d=\"M 18.214844 0.632812 C 16.109375 1.800781 15.011719 4.074219 15.074219 7.132812 L 15.085938 7.652344 L 14.785156 7.496094 C 13.476562 6.824219 11.957031 6.671875 10.40625 7.066406 C 8.46875 7.550781 6.515625 9.15625 4.394531 11.992188 C 3.0625 13.777344 2.679688 14.636719 3.042969 15.027344 L 3.15625 15.152344 L 3.519531 15.152344 C 4.238281 15.152344 4.828125 14.886719 8.1875 13.039062 C 9.386719 12.378906 10.371094 11.839844 10.378906 11.839844 C 10.386719 11.839844 10.355469 11.929688 10.304688 12.035156 C 9.832031 13.09375 9.257812 14.820312 8.96875 16.078125 C 7.914062 20.652344 8.617188 24.53125 11.070312 27.660156 C 11.351562 28.015625 11.363281 27.914062 10.972656 28.382812 C 8.925781 30.84375 7.945312 33.28125 8.238281 35.1875 C 8.289062 35.527344 8.28125 35.523438 8.917969 35.523438 C 10.941406 35.523438 13.074219 34.207031 15.136719 31.6875 C 15.359375 31.417969 15.328125 31.425781 15.5625 31.574219 C 16.292969 32.042969 18.023438 32.964844 18.175781 32.964844 C 18.335938 32.964844 19.941406 32.210938 20.828125 31.71875 C 20.996094 31.625 21.136719 31.554688 21.136719 31.558594 C 21.203125 31.664062 21.898438 32.414062 22.222656 32.730469 C 23.835938 34.300781 25.5625 35.132812 27.582031 35.300781 C 27.90625 35.328125 27.9375 35.308594 28.007812 34.984375 C 28.382812 33.242188 27.625 30.925781 25.863281 28.425781 L 25.542969 27.96875 L 25.699219 27.785156 C 28.945312 23.960938 29.132812 18.699219 26.257812 11.96875 L 26.207031 11.84375 L 27.945312 12.703125 C 31.53125 14.476562 32.316406 14.800781 33.03125 14.800781 C 33.976562 14.800781 33.78125 13.9375 32.472656 12.292969 C 28.519531 7.355469 25.394531 5.925781 21.921875 7.472656 L 21.558594 7.636719 L 21.578125 7.542969 C 21.699219 6.992188 21.761719 5.742188 21.699219 5.164062 C 21.496094 3.296875 20.664062 1.964844 19.003906 0.855469 C 18.480469 0.503906 18.457031 0.5 18.214844 0.632812\"/>\n",
       "</g>\n",
       "      </svg>\n",
       "    "
      ],
      "text/plain": [
       "<IPython.core.display.HTML object>"
      ]
     },
     "metadata": {},
     "output_type": "display_data"
    }
   ],
   "source": [
    "from ColabTurtle.Turtle import *\n",
    "\n",
    "initializeTurtle()\n",
    "\n",
    "for i in range(6):\n",
    "    forward(100)\n",
    "    right(60)# it will change the direction towards the right at 60 degrees from the direction the turtle is facing\n",
    "left(120)\n",
    "for i in range(6):\n",
    "    forward(100)\n",
    "    right(60)\n",
    "for i in range(6):\n",
    "    forward(50)\n",
    "    left(60)\n",
    "for i in range(6):\n",
    "    forward(100)\n",
    "    left(60)\n",
    "penup() # turtle is like a pen so lift it up if we don't want to write something\n",
    "right(60)\n",
    "forward(100)\n",
    "pendown()\n",
    "for i in range(8):\n",
    "    forward(10)\n",
    "    right(360/8)\n",
    "penup()\n",
    "forward(200)\n",
    "pendown()\n",
    "# ValueError if we put a wrong color in color() or bgcolor()"
   ]
  },
  {
   "cell_type": "code",
   "execution_count": 21,
   "metadata": {},
   "outputs": [
    {
     "data": {
      "text/html": [
       "\n",
       "      <svg width=\"800\" height=\"500\">\n",
       "        <rect width=\"100%\" height=\"100%\" fill=\"black\"/>\n",
       "        <line x1=\"400\" y1=\"250\" x2=\"400.0\" y2=\"150.0\" stroke-linecap=\"round\" style=\"stroke:white;stroke-width:4\"/><line x1=\"400.0\" y1=\"150.0\" x2=\"450.0\" y2=\"63.397\" stroke-linecap=\"round\" style=\"stroke:white;stroke-width:4\"/><line x1=\"450.0\" y1=\"63.397\" x2=\"536.603\" y2=\"13.397\" stroke-linecap=\"round\" style=\"stroke:white;stroke-width:4\"/><line x1=\"536.603\" y1=\"13.397\" x2=\"636.603\" y2=\"13.397\" stroke-linecap=\"round\" style=\"stroke:white;stroke-width:4\"/><line x1=\"636.603\" y1=\"13.397\" x2=\"723.206\" y2=\"63.397\" stroke-linecap=\"round\" style=\"stroke:white;stroke-width:4\"/><line x1=\"723.206\" y1=\"63.397\" x2=\"773.206\" y2=\"150.0\" stroke-linecap=\"round\" style=\"stroke:white;stroke-width:4\"/><line x1=\"773.206\" y1=\"150.0\" x2=\"773.206\" y2=\"250.0\" stroke-linecap=\"round\" style=\"stroke:white;stroke-width:4\"/><line x1=\"773.206\" y1=\"250.0\" x2=\"723.206\" y2=\"336.603\" stroke-linecap=\"round\" style=\"stroke:white;stroke-width:4\"/><line x1=\"723.206\" y1=\"336.603\" x2=\"636.603\" y2=\"386.603\" stroke-linecap=\"round\" style=\"stroke:white;stroke-width:4\"/><line x1=\"636.603\" y1=\"386.603\" x2=\"536.603\" y2=\"386.603\" stroke-linecap=\"round\" style=\"stroke:white;stroke-width:4\"/><line x1=\"536.603\" y1=\"386.603\" x2=\"450.0\" y2=\"336.603\" stroke-linecap=\"round\" style=\"stroke:white;stroke-width:4\"/><line x1=\"450.0\" y1=\"336.603\" x2=\"400.0\" y2=\"250.0\" stroke-linecap=\"round\" style=\"stroke:white;stroke-width:4\"/>\n",
       "        <g visibility=visible transform=\"rotate(360.0,400.0,250.0) translate(382.0, 232.0)\">\n",
       "<path style=\" stroke:none;fill-rule:evenodd;fill:white;fill-opacity:1;\" d=\"M 18.214844 0.632812 C 16.109375 1.800781 15.011719 4.074219 15.074219 7.132812 L 15.085938 7.652344 L 14.785156 7.496094 C 13.476562 6.824219 11.957031 6.671875 10.40625 7.066406 C 8.46875 7.550781 6.515625 9.15625 4.394531 11.992188 C 3.0625 13.777344 2.679688 14.636719 3.042969 15.027344 L 3.15625 15.152344 L 3.519531 15.152344 C 4.238281 15.152344 4.828125 14.886719 8.1875 13.039062 C 9.386719 12.378906 10.371094 11.839844 10.378906 11.839844 C 10.386719 11.839844 10.355469 11.929688 10.304688 12.035156 C 9.832031 13.09375 9.257812 14.820312 8.96875 16.078125 C 7.914062 20.652344 8.617188 24.53125 11.070312 27.660156 C 11.351562 28.015625 11.363281 27.914062 10.972656 28.382812 C 8.925781 30.84375 7.945312 33.28125 8.238281 35.1875 C 8.289062 35.527344 8.28125 35.523438 8.917969 35.523438 C 10.941406 35.523438 13.074219 34.207031 15.136719 31.6875 C 15.359375 31.417969 15.328125 31.425781 15.5625 31.574219 C 16.292969 32.042969 18.023438 32.964844 18.175781 32.964844 C 18.335938 32.964844 19.941406 32.210938 20.828125 31.71875 C 20.996094 31.625 21.136719 31.554688 21.136719 31.558594 C 21.203125 31.664062 21.898438 32.414062 22.222656 32.730469 C 23.835938 34.300781 25.5625 35.132812 27.582031 35.300781 C 27.90625 35.328125 27.9375 35.308594 28.007812 34.984375 C 28.382812 33.242188 27.625 30.925781 25.863281 28.425781 L 25.542969 27.96875 L 25.699219 27.785156 C 28.945312 23.960938 29.132812 18.699219 26.257812 11.96875 L 26.207031 11.84375 L 27.945312 12.703125 C 31.53125 14.476562 32.316406 14.800781 33.03125 14.800781 C 33.976562 14.800781 33.78125 13.9375 32.472656 12.292969 C 28.519531 7.355469 25.394531 5.925781 21.921875 7.472656 L 21.558594 7.636719 L 21.578125 7.542969 C 21.699219 6.992188 21.761719 5.742188 21.699219 5.164062 C 21.496094 3.296875 20.664062 1.964844 19.003906 0.855469 C 18.480469 0.503906 18.457031 0.5 18.214844 0.632812\"/>\n",
       "</g>\n",
       "      </svg>\n",
       "    "
      ],
      "text/plain": [
       "<IPython.core.display.HTML object>"
      ]
     },
     "metadata": {},
     "output_type": "display_data"
    }
   ],
   "source": [
    "initializeTurtle()\n",
    "def shape_to_make(size ,n):\n",
    "    for i in range(n):\n",
    "        forward(size)\n",
    "        right(360/n)\n",
    "a,b = eval(input(\"What is the size and number of sides: \"))\n",
    "shape_to_make(a,b)"
   ]
  },
  {
   "cell_type": "code",
   "execution_count": 36,
   "metadata": {},
   "outputs": [
    {
     "data": {
      "text/html": [
       "\n",
       "      <svg width=\"800\" height=\"500\">\n",
       "        <rect width=\"100%\" height=\"100%\" fill=\"black\"/>\n",
       "        <line x1=\"400\" y1=\"250\" x2=\"400.0\" y2=\"150.0\" stroke-linecap=\"round\" style=\"stroke:white;stroke-width:4\"/><line x1=\"400.0\" y1=\"150.0\" x2=\"425.882\" y2=\"246.593\" stroke-linecap=\"round\" style=\"stroke:white;stroke-width:4\"/><line x1=\"425.882\" y1=\"246.593\" x2=\"375.882\" y2=\"159.99\" stroke-linecap=\"round\" style=\"stroke:white;stroke-width:4\"/><line x1=\"375.882\" y1=\"159.99\" x2=\"446.593\" y2=\"230.701\" stroke-linecap=\"round\" style=\"stroke:white;stroke-width:4\"/><line x1=\"446.593\" y1=\"230.701\" x2=\"359.99\" y2=\"180.701\" stroke-linecap=\"round\" style=\"stroke:white;stroke-width:4\"/><line x1=\"359.99\" y1=\"180.701\" x2=\"456.583\" y2=\"206.583\" stroke-linecap=\"round\" style=\"stroke:white;stroke-width:4\"/><line x1=\"456.583\" y1=\"206.583\" x2=\"356.583\" y2=\"206.583\" stroke-linecap=\"round\" style=\"stroke:white;stroke-width:4\"/><line x1=\"356.583\" y1=\"206.583\" x2=\"453.176\" y2=\"180.701\" stroke-linecap=\"round\" style=\"stroke:white;stroke-width:4\"/><line x1=\"453.176\" y1=\"180.701\" x2=\"366.573\" y2=\"230.701\" stroke-linecap=\"round\" style=\"stroke:white;stroke-width:4\"/><line x1=\"366.573\" y1=\"230.701\" x2=\"437.284\" y2=\"159.99\" stroke-linecap=\"round\" style=\"stroke:white;stroke-width:4\"/><line x1=\"437.284\" y1=\"159.99\" x2=\"387.284\" y2=\"246.593\" stroke-linecap=\"round\" style=\"stroke:white;stroke-width:4\"/><line x1=\"387.284\" y1=\"246.593\" x2=\"413.166\" y2=\"150.0\" stroke-linecap=\"round\" style=\"stroke:white;stroke-width:4\"/><line x1=\"413.166\" y1=\"150.0\" x2=\"413.166\" y2=\"250.0\" stroke-linecap=\"round\" style=\"stroke:white;stroke-width:4\"/><line x1=\"413.166\" y1=\"250.0\" x2=\"387.284\" y2=\"153.407\" stroke-linecap=\"round\" style=\"stroke:white;stroke-width:4\"/><line x1=\"387.284\" y1=\"153.407\" x2=\"437.284\" y2=\"240.01\" stroke-linecap=\"round\" style=\"stroke:white;stroke-width:4\"/>\n",
       "        <g visibility=visible transform=\"rotate(315,437.284,240.01) translate(419.284, 222.01)\">\n",
       "<path style=\" stroke:none;fill-rule:evenodd;fill:white;fill-opacity:1;\" d=\"M 18.214844 0.632812 C 16.109375 1.800781 15.011719 4.074219 15.074219 7.132812 L 15.085938 7.652344 L 14.785156 7.496094 C 13.476562 6.824219 11.957031 6.671875 10.40625 7.066406 C 8.46875 7.550781 6.515625 9.15625 4.394531 11.992188 C 3.0625 13.777344 2.679688 14.636719 3.042969 15.027344 L 3.15625 15.152344 L 3.519531 15.152344 C 4.238281 15.152344 4.828125 14.886719 8.1875 13.039062 C 9.386719 12.378906 10.371094 11.839844 10.378906 11.839844 C 10.386719 11.839844 10.355469 11.929688 10.304688 12.035156 C 9.832031 13.09375 9.257812 14.820312 8.96875 16.078125 C 7.914062 20.652344 8.617188 24.53125 11.070312 27.660156 C 11.351562 28.015625 11.363281 27.914062 10.972656 28.382812 C 8.925781 30.84375 7.945312 33.28125 8.238281 35.1875 C 8.289062 35.527344 8.28125 35.523438 8.917969 35.523438 C 10.941406 35.523438 13.074219 34.207031 15.136719 31.6875 C 15.359375 31.417969 15.328125 31.425781 15.5625 31.574219 C 16.292969 32.042969 18.023438 32.964844 18.175781 32.964844 C 18.335938 32.964844 19.941406 32.210938 20.828125 31.71875 C 20.996094 31.625 21.136719 31.554688 21.136719 31.558594 C 21.203125 31.664062 21.898438 32.414062 22.222656 32.730469 C 23.835938 34.300781 25.5625 35.132812 27.582031 35.300781 C 27.90625 35.328125 27.9375 35.308594 28.007812 34.984375 C 28.382812 33.242188 27.625 30.925781 25.863281 28.425781 L 25.542969 27.96875 L 25.699219 27.785156 C 28.945312 23.960938 29.132812 18.699219 26.257812 11.96875 L 26.207031 11.84375 L 27.945312 12.703125 C 31.53125 14.476562 32.316406 14.800781 33.03125 14.800781 C 33.976562 14.800781 33.78125 13.9375 32.472656 12.292969 C 28.519531 7.355469 25.394531 5.925781 21.921875 7.472656 L 21.558594 7.636719 L 21.578125 7.542969 C 21.699219 6.992188 21.761719 5.742188 21.699219 5.164062 C 21.496094 3.296875 20.664062 1.964844 19.003906 0.855469 C 18.480469 0.503906 18.457031 0.5 18.214844 0.632812\"/>\n",
       "</g>\n",
       "      </svg>\n",
       "    "
      ],
      "text/plain": [
       "<IPython.core.display.HTML object>"
      ]
     },
     "metadata": {},
     "output_type": "display_data"
    }
   ],
   "source": [
    "initializeTurtle()\n",
    "def star(n):\n",
    "    x=int((n*(n-1))/2)\n",
    "    for i in range(x-n):\n",
    "        forward(100)\n",
    "        right(90+7)\n",
    "star(6)"
   ]
  },
  {
   "cell_type": "markdown",
   "metadata": {},
   "source": [
    "14 March 2024"
   ]
  },
  {
   "cell_type": "markdown",
   "metadata": {},
   "source": [
    "Question 1: WAP to find a distance between two points(represented as list(s)) also find midpoint, and show these three points using Turtle.\n",
    "Question 2: WAP to draw 5 concentric circles.\n",
    "Question 3: Draw a pentagon and put a line from each vertex to the center fill different colors in each of the block obtained."
   ]
  },
  {
   "cell_type": "markdown",
   "metadata": {},
   "source": [
    "Question 2:"
   ]
  },
  {
   "cell_type": "code",
   "execution_count": 10,
   "metadata": {},
   "outputs": [
    {
     "data": {
      "text/html": [
       "\n",
       "      <svg width=\"800\" height=\"500\">\n",
       "        <rect width=\"100%\" height=\"100%\" fill=\"black\"/>\n",
       "        \n",
       "        \n",
       "      <g visibility=visible transform=\"rotate(180,400,250) translate(400, 250)\">\n",
       "        <circle stroke=\"white\" stroke-width=\"3\" fill=\"transparent\" r=\"12\" cx=\"0\" cy=\"0\"/>\n",
       "        <polygon points=\"0,19 3,16 -3,16\" style=\"fill:white;stroke:white;stroke-width:2\"/>\n",
       "      </g>\n",
       "    \n",
       "      </svg>\n",
       "    "
      ],
      "text/plain": [
       "<IPython.core.display.HTML object>"
      ]
     },
     "metadata": {},
     "output_type": "display_data"
    }
   ],
   "source": [
    "# import ColabTurtle.Turtle as turtle\n",
    "from ColabTurtle.Turtle import *\n",
    "# or Use ColabTurtlePlus\n",
    "initializeTurtle()\n",
    "shape(\"circle\")\n",
    "\n",
    "for i in range(1,6):\n",
    "    pass"
   ]
  },
  {
   "cell_type": "markdown",
   "metadata": {},
   "source": [
    "14 March 2024 Image Processing"
   ]
  },
  {
   "cell_type": "code",
   "execution_count": 6,
   "metadata": {},
   "outputs": [],
   "source": [
    "from PIL import Image, ImageOps, ImageFilter\n",
    "#Image for Reading the Image so its a necessity ,ImageOps is for GrayScale conversion, and ImageFilter for Blur Gaussian Blur etc.\n",
    "img = Image.open(\"forimgprocessing.png\")\n",
    "img.show()\n",
    "\n",
    "# This also works fine it replaces our previous image variable as well\n",
    "# img = ImageOps.grayscale(img)# it returns the image object so make a new object to show ImageOps.grayscale(img).show(), I think ??\n",
    "# img.show()\n",
    "\n",
    "img_grayscale = ImageOps.grayscale(img)# it returns the image object so make a new object to show ImageOps.grayscale(img).show(), I think ??\n",
    "img_grayscale.show()\n",
    "\n",
    "img_blur = img.filter(ImageFilter.BLUR())\n",
    "img_blur.show()\n",
    "img_blur = img.filter(ImageFilter.GaussianBlur(3))\n",
    "img_blur.show()\n",
    "img.rotate(45, expand=True).show()\n",
    "# if we are not specifying any path we will have it saved in the current working directory\n",
    "img_blur.save(\"img_blur.png\")# we can't convert from png to jpeg as its higher quality, and try to keep the same extension we can convert from jpeg to png as its compressing for that conversion\n",
    "img_grayscale.save(\"img_grayscale.png\")\n",
    "\n",
    "\n",
    "# convert grayscale to binary colors that is only in black and white\n",
    "\n",
    "img1 = img.convert(\"RGB\")\n"
   ]
  }
 ],
 "metadata": {
  "kernelspec": {
   "display_name": "Python 3",
   "language": "python",
   "name": "python3"
  },
  "language_info": {
   "codemirror_mode": {
    "name": "ipython",
    "version": 3
   },
   "file_extension": ".py",
   "mimetype": "text/x-python",
   "name": "python",
   "nbconvert_exporter": "python",
   "pygments_lexer": "ipython3",
   "version": "3.12.0"
  }
 },
 "nbformat": 4,
 "nbformat_minor": 2
}
