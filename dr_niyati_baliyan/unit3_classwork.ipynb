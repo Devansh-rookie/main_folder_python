{
 "cells": [
  {
   "cell_type": "code",
   "execution_count": 32,
   "metadata": {},
   "outputs": [
    {
     "data": {
      "text/html": [
       "\n",
       "      <svg width=\"800\" height=\"500\">\n",
       "        <rect width=\"100%\" height=\"100%\" fill=\"lavender\"/>\n",
       "        <text x=\"400\" y=\"250\" fill=\"rgb(120,120,120)\" text-anchor=\"middle\" style=\"font-size:40px;font-family:'Arial';font-style:italic;\">Hello</text><line x1=\"400\" y1=\"250\" x2=\"400.0\" y2=\"200.0\" stroke-linecap=\"round\" style=\"stroke:rgb(120,120,120);stroke-width:4\"/><line x1=\"400.0\" y1=\"200.0\" x2=\"450.0\" y2=\"200.0\" stroke-linecap=\"round\" style=\"stroke:rgb(120,120,120);stroke-width:4\"/><line x1=\"450.0\" y1=\"200.0\" x2=\"540.0\" y2=\"200.0\" stroke-linecap=\"round\" style=\"stroke:rgb(120,120,120);stroke-width:4\"/><line x1=\"540.0\" y1=\"200.0\" x2=\"540.0\" y2=\"290.0\" stroke-linecap=\"round\" style=\"stroke:rgb(120,120,120);stroke-width:4\"/><line x1=\"540.0\" y1=\"290.0\" x2=\"450.0\" y2=\"290.0\" stroke-linecap=\"round\" style=\"stroke:rgb(120,120,120);stroke-width:4\"/><line x1=\"450.0\" y1=\"290.0\" x2=\"450.0\" y2=\"200.0\" stroke-linecap=\"round\" style=\"stroke:rgb(120,120,120);stroke-width:4\"/>\n",
       "        \n",
       "      <g visibility=visible transform=\"rotate(-90,450.0,200.0) translate(450.0, 200.0)\">\n",
       "        <circle stroke=\"rgb(120,120,120)\" stroke-width=\"3\" fill=\"transparent\" r=\"12\" cx=\"0\" cy=\"0\"/>\n",
       "        <polygon points=\"0,19 3,16 -3,16\" style=\"fill:rgb(120,120,120);stroke:rgb(120,120,120);stroke-width:2\"/>\n",
       "      </g>\n",
       "    \n",
       "      </svg>\n",
       "    "
      ],
      "text/plain": [
       "<IPython.core.display.HTML object>"
      ]
     },
     "metadata": {},
     "output_type": "display_data"
    }
   ],
   "source": [
    "# a cursor is given, by default it is a turtle in the turtle module but it can be changed to be fixed defined shape\n",
    "\n",
    "# !pip install ColabTurtle, # for colab\n",
    "# from ColabTurtle.Turtle import *\n",
    "# import turtle\n",
    "# wn = turtle.Screen()\n",
    "\n",
    "from ColabTurtle.Turtle import *\n",
    "initializeTurtle()\n",
    "# by default it's bg colour is black and turtle is white\n",
    "# it runs line by line so first spae is changed then bgcolor and color after that\n",
    "\n",
    "shape(\"circle\") # \n",
    "bgcolor(\"lavender\") # remember some colours, crimson or mediumblue lightgreen etc.\n",
    "color(\"black\") # everything we write and, so its foreground colour\n",
    "color(170,90,42) # for rgb values\n",
    "color('rgb(120,120,120)')\n",
    "# only 2 valid shapes are turtle and circle for the cursor\n",
    "\n",
    "# goto(20,30) # this will leave a trace and the cursor goes to x= 20 and y= 30\n",
    "# penup and pendown would lift the pen up and put the pen down and we can write using goto if we use pendown otherwise if penup no line would be made only the cursor is moved\n",
    "\n",
    "# penup()\n",
    "# goto(20,30)\n",
    "# pendown()\n",
    "\n",
    "write(\"Hello\", align='center', font=(40,\"Arial\", \"italic\"))\n",
    "# align uses right, left and center with respect to cursor in align right it will write the text to the left the cursor goes to the left\n",
    "# 3-6 digit hex codes\n",
    "# color('#efefef')\n",
    "forward(50)# went up as cursor was pointing up now we have to change the angle, in pixels, moves towards the face\n",
    "right(90) # in degrees it will move to the right\n",
    "forward(50)\n",
    "for i in range(4): # will draw a square here.\n",
    "    forward(90)\n",
    "    right(90)\n",
    "    # left can also work for angle and \n",
    "    # backward can be used instead of forward here"
   ]
  }
 ],
 "metadata": {
  "kernelspec": {
   "display_name": "Python 3",
   "language": "python",
   "name": "python3"
  },
  "language_info": {
   "codemirror_mode": {
    "name": "ipython",
    "version": 3
   },
   "file_extension": ".py",
   "mimetype": "text/x-python",
   "name": "python",
   "nbconvert_exporter": "python",
   "pygments_lexer": "ipython3",
   "version": "3.12.0"
  }
 },
 "nbformat": 4,
 "nbformat_minor": 2
}
