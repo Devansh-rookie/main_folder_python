{
  "cells": [
    {
      "cell_type": "markdown",
      "metadata": {
        "id": "exsyWnXdbLAq"
      },
      "source": [
        "and, or, IDE"
      ]
    },
    {
      "cell_type": "code",
      "execution_count": null,
      "metadata": {
        "id": "ERT9xZerbIgL"
      },
      "outputs": [],
      "source": [
        "print(\"Hello\")"
      ]
    },
    {
      "cell_type": "markdown",
      "metadata": {
        "id": "_0pUehs_cyke"
      },
      "source": [
        "Basic I/O seeks an input, if we add a string in input it will print the statement and seek an input\n"
      ]
    },
    {
      "cell_type": "code",
      "execution_count": null,
      "metadata": {
        "colab": {
          "base_uri": "https://localhost:8080/"
        },
        "id": "cU8CEMfXc0Mi",
        "outputId": "d1ab1989-2576-451e-d6bf-ad507fde3f39"
      },
      "outputs": [
        {
          "name": "stdout",
          "output_type": "stream",
          "text": [
            "What is a,b(Enter them separated by a comma)4,5\n",
            "4 5\n"
          ]
        }
      ],
      "source": [
        "a,b= eval(input(\"What is a,b(Enter them separated by a comma)\"))\n",
        "print(a,b)"
      ]
    },
    {
      "cell_type": "code",
      "execution_count": null,
      "metadata": {
        "colab": {
          "base_uri": "https://localhost:8080/"
        },
        "id": "tXPT_aLleaz_",
        "outputId": "0ccbe8cf-c2fd-4bc0-e4b7-bf0a7143d994"
      },
      "outputs": [
        {
          "name": "stdout",
          "output_type": "stream",
          "text": [
            "7\n"
          ]
        }
      ],
      "source": [
        "a=5\n",
        "b=2\n",
        "print(a+b)"
      ]
    },
    {
      "cell_type": "code",
      "execution_count": null,
      "metadata": {
        "colab": {
          "base_uri": "https://localhost:8080/"
        },
        "id": "sxDdaia-egAM",
        "outputId": "13af5c56-e465-41e3-c611-344a5c5957ee"
      },
      "outputs": [
        {
          "name": "stdout",
          "output_type": "stream",
          "text": [
            "52\n"
          ]
        }
      ],
      "source": [
        "a=\"5\"\n",
        "b=\"2\"\n",
        "print(a+b)"
      ]
    },
    {
      "cell_type": "code",
      "execution_count": null,
      "metadata": {
        "colab": {
          "base_uri": "https://localhost:8080/"
        },
        "id": "EEO0noT6erny",
        "outputId": "a88b5994-f3f1-4d3f-9932-8b14ba6f8e70"
      },
      "outputs": [
        {
          "name": "stdout",
          "output_type": "stream",
          "text": [
            "ca\n"
          ]
        }
      ],
      "source": [
        "a=\"c\"\n",
        "b=\"a\"\n",
        "print(a+b)"
      ]
    },
    {
      "cell_type": "markdown",
      "metadata": {
        "id": "btjQ3P1tgFoP"
      },
      "source": [
        "Grading *System*\n",
        "#include<stdio.h>\n",
        "\n",
        "int main(){\n",
        "    float a;\n",
        "    scanf(\"%f\",&a);\n",
        "    if(a>=85){\n",
        "        printf(\"Grade A+\");\n",
        "    }\n",
        "    else if(a>=75){\n",
        "        printf(\"Grade A\");\n",
        "    }\n",
        "    else if(a>=65){\n",
        "        printf(\"Grade B\");\n",
        "    }\n",
        "    else if(a>=55){\n",
        "        printf(\"Grade C\");\n",
        "    }\n",
        "      \n",
        "    else{\n",
        "        printf(\"Grade F\");\n",
        "    }\n",
        "    return 0;\n",
        "}\n",
        "\n",
        "now in Python"
      ]
    },
    {
      "cell_type": "code",
      "execution_count": null,
      "metadata": {
        "colab": {
          "base_uri": "https://localhost:8080/"
        },
        "id": "sT6P4N-0ewLZ",
        "outputId": "bb332e4f-ebfd-4088-97c4-722e86b76d1f"
      },
      "outputs": [
        {
          "name": "stdout",
          "output_type": "stream",
          "text": [
            "What are the marks: 85\n",
            "Grade A+\n"
          ]
        }
      ],
      "source": [
        "a= eval(input(\"What are the marks: \"))\n",
        "if a>=85 and a<=100:\n",
        "  print(\"Grade A+\")\n",
        "elif a>=75:\n",
        "  print(\"Grade A\")\n",
        "elif a>=65:\n",
        "  print(\"Grade B\")\n",
        "elif a>=55:\n",
        "  print(\"Grade C\")\n",
        "elif a>=40:\n",
        "  print(\"Grade D\")\n",
        "elif a>=0:\n",
        "  print(\"Grade F\")\n",
        "else:\n",
        "  print(\"Wrong Input\")"
      ]
    },
    {
      "cell_type": "markdown",
      "metadata": {
        "id": "AKg6ROOph4Q-"
      },
      "source": [
        "if we want to make an empty if statement we have use the pass keyword like\n",
        "\n",
        "if a==5:\n",
        "  pass\n",
        "else:\n",
        "  print(\"a is not 5\")"
      ]
    },
    {
      "cell_type": "code",
      "execution_count": null,
      "metadata": {
        "colab": {
          "base_uri": "https://localhost:8080/"
        },
        "id": "JqCqcNf9ivGQ",
        "outputId": "ac1ebb78-95c4-4559-90d2-6a7b20a35fec"
      },
      "outputs": [
        {
          "name": "stdout",
          "output_type": "stream",
          "text": [
            "What are the marks: 77\n",
            "Grade A\n"
          ]
        }
      ],
      "source": [
        "a= eval(input(\"What are the marks: \"))\n",
        "if a<=100:\n",
        "  if a<=85:\n",
        "    if a<=75:\n",
        "      if a<=65:\n",
        "        if a<=55:\n",
        "          if a<=40:\n",
        "            if a<=0:\n",
        "              print(\"Wrong Input\")\n",
        "            else:\n",
        "              print(\"Grade F\")\n",
        "          else:\n",
        "            print(\"Grade D\")\n",
        "        else:\n",
        "          print(\"Grade C\")\n",
        "      else:\n",
        "        print(\"Grade B\")\n",
        "    else:\n",
        "      print(\"Grade A\")\n",
        "  else:\n",
        "    print(\"Grade A+\")\n",
        "else:\n",
        "  print(\"Wrong Input\")"
      ]
    },
    {
      "cell_type": "code",
      "execution_count": null,
      "metadata": {
        "colab": {
          "base_uri": "https://localhost:8080/"
        },
        "id": "kAnKIj0Yj5VX",
        "outputId": "fa892025-4044-4add-8e26-ed3ab858af5b"
      },
      "outputs": [
        {
          "name": "stdout",
          "output_type": "stream",
          "text": [
            "a is not 5\n"
          ]
        }
      ],
      "source": [
        "a=6\n",
        "if not a==5:\n",
        "  print(\"a is not 5\")\n",
        "else:\n",
        "  print(\"a is 5\")"
      ]
    },
    {
      "cell_type": "markdown",
      "metadata": {
        "id": "6lLKoU7GCxvF"
      },
      "source": [
        "For Loop and if clause :\n",
        "\n",
        "PIE:\n",
        "\n",
        "polymorphism - OOP Language Polymorphism/ Overloading\n",
        "functions can be different example can be area of things\n",
        "same function take different arguments depending on the situation\n",
        "overloaded function another example is the range function of python\n",
        "range can get 1 argument 2 arguments or 3 arguments any of them can be used\n",
        "range(5) represents that the function will go from 0 to 4, 5 is the limiter there.\n",
        "\n",
        "Otherwise we have to use the other form of the range function that is the 2 valued function\n",
        "range(1,3), range(start, end) end is excluded in the interval\n",
        "\n",
        "otherwise range(start, end, stepsize) stepsize should be an integer excluded in the interval\n",
        "print(i,end=\"\") is required to tell the intepreter what to put after printing the thing by default it will use \"\\n\" tell the delimiter what to put there\n",
        "\n",
        "elif is short for else if in python\n",
        "\n",
        "\n"
      ]
    },
    {
      "cell_type": "code",
      "execution_count": null,
      "metadata": {
        "colab": {
          "base_uri": "https://localhost:8080/"
        },
        "id": "uK522w43CxL6",
        "outputId": "ddc4b97f-f0ad-4e10-e847-78a5f99cdac9"
      },
      "outputs": [
        {
          "name": "stdout",
          "output_type": "stream",
          "text": [
            "1 2 3 4 "
          ]
        }
      ],
      "source": [
        "for i in range(1,5):\n",
        "  print(i,end=\" \")"
      ]
    },
    {
      "cell_type": "code",
      "execution_count": null,
      "metadata": {
        "id": "AC1JsMK5GrDR"
      },
      "outputs": [],
      "source": [
        "a=3\n",
        "# Both are the same thing\n",
        "# if a>2:\n",
        "#   if(a<5):\n",
        "#     print(a)\n",
        "\n",
        "# if (a>2 and a<5):\n",
        "#   print(a)\n",
        "# Syntax Error\n",
        "# if a not 2:\n",
        "#   print(a) syntax error"
      ]
    },
    {
      "cell_type": "markdown",
      "metadata": {
        "id": "LYLtyLMrHu6a"
      },
      "source": [
        "Here 5 will not be printed as we are continuing the iteration as soon as we reach i==5, continue skips the current iteration and continues with the other iterations.\n",
        "\n",
        "break statement breaks the innermost for loop only\n",
        "\n"
      ]
    },
    {
      "cell_type": "code",
      "execution_count": null,
      "metadata": {
        "colab": {
          "base_uri": "https://localhost:8080/"
        },
        "id": "eP3Si_UrHYYv",
        "outputId": "8990cf26-e201-4ad6-cd93-5c13405ad7af"
      },
      "outputs": [
        {
          "name": "stdout",
          "output_type": "stream",
          "text": [
            "0\n",
            "1\n",
            "2\n",
            "3\n",
            "4\n",
            "6\n",
            "7\n",
            "8\n",
            "9\n",
            "10\n"
          ]
        }
      ],
      "source": [
        "for i in range(11):\n",
        "  if (i==5):\n",
        "    continue\n",
        "  print(i)"
      ]
    },
    {
      "cell_type": "code",
      "execution_count": null,
      "metadata": {
        "id": "q3ZdWgeEIjOC"
      },
      "outputs": [],
      "source": [
        "\"\"\"\n",
        "Multiple Line comment using triple quotes\n",
        "\"\"\"\n",
        "\n",
        "n= int(input(\"What is n\"))\n",
        "sum=0\n",
        "for i in range(1,n+1):\n",
        "  flag=0\n",
        "  for j in range(2,n+1):\n",
        "    if (i%j==0):\n",
        "      flag+=1\n",
        "  if(flag==2):\n",
        "    sum= sum +i\n",
        "\n",
        "print(sum)"
      ]
    },
    {
      "cell_type": "markdown",
      "metadata": {
        "id": "HE_vDsR1L8hD"
      },
      "source": [
        "using else will the for loop will show us that\n",
        "\n",
        "when the break inside the for loop the else will not be executed but else it would be used.....\n",
        "\n",
        "*   List item\n",
        "*   List item\n",
        "\n"
      ]
    },
    {
      "cell_type": "code",
      "execution_count": null,
      "metadata": {
        "colab": {
          "base_uri": "https://localhost:8080/"
        },
        "id": "7Kcb2R7_uheB",
        "outputId": "4df18ae7-5cf7-49ec-fd71-75d7fd3c2435"
      },
      "outputs": [
        {
          "name": "stdout",
          "output_type": "stream",
          "text": [
            "Hello World\n"
          ]
        }
      ],
      "source": [
        "print(\"Hello World\")"
      ]
    },
    {
      "cell_type": "code",
      "execution_count": null,
      "metadata": {
        "colab": {
          "base_uri": "https://localhost:8080/"
        },
        "id": "NKPQWdoyv5xI",
        "outputId": "83db9e12-c56a-46e1-df22-96b749106371"
      },
      "outputs": [
        {
          "name": "stdout",
          "output_type": "stream",
          "text": [
            "50\n",
            "5\n"
          ]
        }
      ],
      "source": [
        "num=50\n",
        "while(num!=0):\n",
        "  print(num)\n",
        "  # i-=1\n",
        "  num = num //10 # Floor division will divide and take GIF not in points or fraction only integers Floor will be taken here\n"
      ]
    },
    {
      "cell_type": "markdown",
      "metadata": {
        "id": "hLHzqScwwmWT"
      },
      "source": [
        "Equivalent for of while"
      ]
    },
    {
      "cell_type": "code",
      "execution_count": null,
      "metadata": {
        "colab": {
          "base_uri": "https://localhost:8080/"
        },
        "id": "_hkpZ5WlwpcR",
        "outputId": "5b499d81-02d2-4deb-a99d-2c02b5b097ca"
      },
      "outputs": [
        {
          "name": "stdout",
          "output_type": "stream",
          "text": [
            "0\n",
            "1\n",
            "2\n",
            "3\n",
            "4\n",
            "5\n",
            "6\n",
            "7\n",
            "8\n"
          ]
        }
      ],
      "source": [
        "num =100\n",
        "for(i) in range(0,100):# num!=0 would give 1 as its True\n",
        "#chekc again as argument 3 can't be 0\n",
        "  print(i)\n",
        "  i//=10"
      ]
    },
    {
      "cell_type": "markdown",
      "metadata": {
        "id": "PHShPI7oxpqE"
      },
      "source": [
        "4 Digit integer and display the number in reverse order"
      ]
    },
    {
      "cell_type": "markdown",
      "metadata": {
        "id": "w60KrvQxymqM"
      },
      "source": [
        "Using Str/ Cheat method to solve it"
      ]
    },
    {
      "cell_type": "code",
      "execution_count": null,
      "metadata": {
        "colab": {
          "base_uri": "https://localhost:8080/"
        },
        "id": "EA2Sn4e_ylnK",
        "outputId": "2c547d21-9384-46c2-bc71-b1393236038e"
      },
      "outputs": [
        {
          "name": "stdout",
          "output_type": "stream",
          "text": [
            "Integer: 500\n",
            "005\n"
          ]
        }
      ],
      "source": [
        "num = input(\"Integer: \")\n",
        "print(num[::-1])# to print the string in reverse"
      ]
    },
    {
      "cell_type": "markdown",
      "metadata": {
        "id": "YGGIrZcrywB-"
      },
      "source": [
        "Proper Method"
      ]
    },
    {
      "cell_type": "code",
      "execution_count": null,
      "metadata": {
        "colab": {
          "base_uri": "https://localhost:8080/"
        },
        "id": "joOagRz5xpSZ",
        "outputId": "20797469-2676-41a2-f1a7-bef8cb6b8029"
      },
      "outputs": [
        {
          "name": "stdout",
          "output_type": "stream",
          "text": [
            "Integer: 670\n",
            "You entered: 670\n",
            "076"
          ]
        }
      ],
      "source": [
        "num = int(input(\"Integer: \"))\n",
        "print(f\"You entered: {num}\")\n",
        "while(num!=0):\n",
        "  print(num%10,end=\"\")# end=\"\" is required as the number would otherwise come in the next line now it will be printed alright\n",
        "  num//=10"
      ]
    },
    {
      "cell_type": "markdown",
      "metadata": {
        "id": "CTzQvZcizdaK"
      },
      "source": [
        "Let the user give 2 numbers under 100 and checks the users additions skills\n",
        "\n",
        "random had to be used if generation had to be done"
      ]
    },
    {
      "cell_type": "code",
      "execution_count": null,
      "metadata": {
        "colab": {
          "base_uri": "https://localhost:8080/"
        },
        "id": "gZ__CAl50jEC",
        "outputId": "0b7b8ac4-ae29-4b57-89d0-8685767bc3af"
      },
      "outputs": [
        {
          "name": "stdout",
          "output_type": "stream",
          "text": [
            "a: 10\n",
            "b: 0\n",
            "Sum: 10\n",
            "True\n"
          ]
        }
      ],
      "source": [
        "a= eval(input(\"a: \"))\n",
        "b= eval(input(\"b: \"))\n",
        "# sum = a+b # or without the extra varaible also\n",
        "sum= eval(input(\"Sum: \"))\n",
        "print(a+b==sum) # if correct then true else false"
      ]
    },
    {
      "cell_type": "code",
      "execution_count": null,
      "metadata": {
        "colab": {
          "base_uri": "https://localhost:8080/"
        },
        "id": "TrGnmquYzrTW",
        "outputId": "58d89fe1-39e0-4cf4-e7b5-4ed48b68bb90"
      },
      "outputs": [
        {
          "name": "stdout",
          "output_type": "stream",
          "text": [
            "a: 10\n",
            "b: 0\n",
            "Sum: 10\n",
            "True\n"
          ]
        }
      ],
      "source": [
        "a= eval(input(\"a: \"))\n",
        "b= eval(input(\"b: \"))\n",
        "# sum = a+b # or without the extra varaible also\n",
        "sum= eval(input(\"Sum: \"))\n",
        "if(sum==a+b):\n",
        "  print(True)# can be printed without using the quotes\n",
        "else:\n",
        "  print(False)# if correct then true else false"
      ]
    },
    {
      "cell_type": "code",
      "execution_count": null,
      "metadata": {
        "id": "0ADzBWGn0EI5"
      },
      "outputs": [],
      "source": [
        "a= eval(input(\"a: \"))\n",
        "b= eval(input(\"b: \"))\n",
        "sum= eval(input(\"Sum: \"))\n",
        "while True:\n",
        "  if(a+b==sum):\n",
        "    print(True)\n",
        "    break\n",
        "  else:\n",
        "    print(False,\"Try again\") # or the entire thing in quotes is also fine"
      ]
    },
    {
      "cell_type": "markdown",
      "metadata": {
        "id": "5ZP0h98N1y2F"
      },
      "source": [
        "Integer for today's day of the week:\n",
        "\n",
        "0 to 6 Sunday is 0 and so on\n",
        "\n",
        "also prompt the user to enter x and display the future day\n",
        "\n",
        "if-else ladder and array and dictionary\n",
        "\n",
        "Check again"
      ]
    },
    {
      "cell_type": "code",
      "execution_count": null,
      "metadata": {
        "colab": {
          "base_uri": "https://localhost:8080/"
        },
        "id": "8JbWygVq1waI",
        "outputId": "de8c1071-84e7-4228-a428-a383baf46f00"
      },
      "outputs": [
        {
          "name": "stdout",
          "output_type": "stream",
          "text": [
            "What is today's Day's number?: 5\n",
            "How many days after?: 23\n",
            "Friday\n"
          ]
        }
      ],
      "source": [
        "today = int(input(\"What is today's Day's number?: \"))\n",
        "x= int(input(\"How many days after?: \"))\n",
        "\n",
        "a=[\"Sunday\",\"Monday\", \"Tuesday\", \"Wednessday\",\"Thursday\",\"Friday\",\"Saturday\"]\n"
      ]
    },
    {
      "cell_type": "markdown",
      "metadata": {
        "id": "LvzXj2lQ4IdA"
      },
      "source": [
        "Rice in 2 different sized packets write a program compare the 2 packet's cost\n",
        "weight and cost so find cost per gram or kilogram"
      ]
    },
    {
      "cell_type": "code",
      "execution_count": null,
      "metadata": {
        "id": "Wg_zY8xp4mE7"
      },
      "outputs": [],
      "source": [
        "c1,w1= eval(input(\"What is the value of c1 and w1: (comma separated)\"))\n",
        "c2,w2= eval(input(\"What is the value of c2 and w2: (comma separated)\"))\n",
        "if(c1/w1>c2/w2):\n",
        "  print(\"1st is more expensive than 2nd\")\n",
        "elif(c1/w1<c2/w2):\n",
        "  print(\"2nd is more expensive than 1st\")\n",
        "else:\n",
        "  print(\"Both are of same price/ weight\")"
      ]
    },
    {
      "cell_type": "markdown",
      "metadata": {
        "id": "GVhbCTAd5WYW"
      },
      "source": [
        "enter an integer and check whether its divisible by uboth 5 and 6\n",
        "or 5 or 6 alone but not both not by either"
      ]
    },
    {
      "cell_type": "code",
      "execution_count": null,
      "metadata": {
        "id": "MD8tcW_j5UrK"
      },
      "outputs": [],
      "source": [
        "# a= eval(input(\"Number: \"))\n",
        "# if(a%5 and a%6):\n",
        "#   print(\"Number is not divisible by both\")\n",
        "# elif(not a%6 ):\n",
        "#   print()\n",
        "\n",
        "# do again"
      ]
    },
    {
      "cell_type": "markdown",
      "metadata": {
        "id": "YCowtDwDc2WR"
      },
      "source": [
        "16/1/24"
      ]
    },
    {
      "cell_type": "code",
      "execution_count": null,
      "metadata": {
        "colab": {
          "base_uri": "https://localhost:8080/"
        },
        "id": "FmVgW2z5c5Io",
        "outputId": "1c43cf34-7f4c-4b7d-8c72-c39edfc0a025"
      },
      "outputs": [
        {
          "name": "stdout",
          "output_type": "stream",
          "text": [
            "Rows, n: 5\n",
            "1 \n",
            "\n",
            "1 2 \n",
            "\n",
            "1 2 3 \n",
            "\n",
            "1 2 3 4 \n",
            "\n",
            "1 2 3 4 5 \n",
            "\n",
            "Rows, n: 4\n",
            "1 \n",
            "\n",
            "1 2 \n",
            "\n",
            "1 2 3 \n",
            "\n",
            "1 2 3 4 \n",
            "\n",
            "Rows, n: 0\n"
          ]
        }
      ],
      "source": [
        "n=1\n",
        "while(n!=0): # while n: directly\n",
        "  n = int(input(\"Rows, n: \"))\n",
        "  for i in range(1,n+1):\n",
        "    for j in range(1,i+1):\n",
        "      print(j,end=\" \")\n",
        "    print(\"\\n\")"
      ]
    },
    {
      "cell_type": "code",
      "execution_count": null,
      "metadata": {
        "colab": {
          "base_uri": "https://localhost:8080/"
        },
        "id": "iQP3I_HvgF6s",
        "outputId": "45b64987-5c6c-4afe-afa3-2dfa5d886787"
      },
      "outputs": [
        {
          "name": "stdout",
          "output_type": "stream",
          "text": [
            "1 2 3 4 5 end\n"
          ]
        }
      ],
      "source": [
        "for i in range(1,6,1):\n",
        "  print(i,end=\" \")\n",
        "else: # its like multiple if statements merged toghether after that else when for has ended even without for this thing would work\n",
        "  print(\"end\")"
      ]
    },
    {
      "cell_type": "code",
      "execution_count": null,
      "metadata": {
        "colab": {
          "base_uri": "https://localhost:8080/"
        },
        "id": "J8O1KcbbgXYo",
        "outputId": "4d2e20e1-efee-46bf-a16b-a5dd41d407f1"
      },
      "outputs": [
        {
          "name": "stdout",
          "output_type": "stream",
          "text": [
            "Rows, n: 5\n",
            "1 \n",
            "\n",
            "1 2 \n",
            "\n",
            "1 2 3 \n",
            "\n",
            "1 2 3 4 \n",
            "\n",
            "1 2 3 4 5 \n",
            "\n",
            "Pattern Ended\n",
            "----------Rows, n: 4\n",
            "1 \n",
            "\n",
            "1 2 \n",
            "\n",
            "1 2 3 \n",
            "\n",
            "1 2 3 4 \n",
            "\n",
            "Pattern Ended\n",
            "--------Rows, n: 0\n",
            "Pattern Ended\n"
          ]
        }
      ],
      "source": [
        "n=1\n",
        "while(n!=0): # while n: directly\n",
        "  n = int(input(\"Rows, n: \"))\n",
        "  for i in range(1,n+1):\n",
        "    for j in range(1,i+1):\n",
        "      print(j,end=\" \")\n",
        "    else:\n",
        "      print(\"\\n\")\n",
        "  else:\n",
        "    print(\"Pattern Ended\")\n",
        "    for i in range(2*n):\n",
        "      print(\"-\",end=\"\")"
      ]
    },
    {
      "cell_type": "code",
      "execution_count": null,
      "metadata": {
        "colab": {
          "base_uri": "https://localhost:8080/"
        },
        "id": "o0XGRu8ehY4C",
        "outputId": "31760c9f-5ba6-4db9-99d9-d088d3223559"
      },
      "outputs": [
        {
          "name": "stdout",
          "output_type": "stream",
          "text": [
            "Start: 1\n",
            "End: 10\n",
            "55\n"
          ]
        }
      ],
      "source": [
        "start = int(input(\"Start: \"))\n",
        "end = int(input(\"End: \"))\n",
        "sumation = sum(range(start,end+1)) # +1 would be used in end as 1 is subtracted from that function\n",
        "print(sumation)"
      ]
    },
    {
      "cell_type": "markdown",
      "metadata": {
        "id": "FLnow6Kiia_k"
      },
      "source": [
        "Sumation of multiples of 3, now if odd only or even only and step size 2"
      ]
    },
    {
      "cell_type": "code",
      "execution_count": null,
      "metadata": {
        "colab": {
          "base_uri": "https://localhost:8080/"
        },
        "id": "lQ0H9rt_iOWd",
        "outputId": "d9583892-32a9-4c53-fc1c-ef7add13cf81"
      },
      "outputs": [
        {
          "name": "stdout",
          "output_type": "stream",
          "text": [
            "Start: 3\n",
            "End: 9\n",
            "18\n"
          ]
        }
      ],
      "source": [
        "start = int(input(\"Start: \"))\n",
        "end = int(input(\"End: \"))\n",
        "sumation = sum(range(start,end+1,3)) # +1 would be used in end as 1 is subtracted from that function\n",
        "print(sumation)"
      ]
    },
    {
      "cell_type": "markdown",
      "metadata": {
        "id": "trht5ftAiZoY"
      },
      "source": [
        "Print Table"
      ]
    },
    {
      "cell_type": "code",
      "execution_count": null,
      "metadata": {
        "id": "bIwekrz3iY21"
      },
      "outputs": [],
      "source": [
        "def table(a):\n",
        "  for i in range(1,11):\n",
        "      print(a*i)\n",
        "a= int(input(\"What table to print: \"))\n",
        "\n",
        "if a<=0:\n",
        "  print(\"Mercy Chance\")\n",
        "else:\n",
        "  table(a)"
      ]
    },
    {
      "cell_type": "code",
      "execution_count": null,
      "metadata": {
        "colab": {
          "base_uri": "https://localhost:8080/"
        },
        "id": "HwC-WoM7kFBi",
        "outputId": "bd47a056-46bc-4780-f9b8-b518f1c84169"
      },
      "outputs": [
        {
          "name": "stdout",
          "output_type": "stream",
          "text": [
            "Number: 100\n",
            "3\n"
          ]
        }
      ],
      "source": [
        "def digit(a):\n",
        "  dig=0\n",
        "  while a!=0:\n",
        "    a//=10\n",
        "    dig+=1\n",
        "  return dig\n",
        "a= int(input(\"Number: \"))\n",
        "print(digit(a))"
      ]
    },
    {
      "cell_type": "markdown",
      "metadata": {
        "id": "FyGRtt5_k2LR"
      },
      "source": [
        "Accept until -1"
      ]
    },
    {
      "cell_type": "code",
      "execution_count": null,
      "metadata": {
        "colab": {
          "base_uri": "https://localhost:8080/"
        },
        "id": "7nJA_3kxkyPe",
        "outputId": "064975ed-6894-4e3c-db06-5280d2a85580"
      },
      "outputs": [
        {
          "name": "stdout",
          "output_type": "stream",
          "text": [
            "What is the number: 3\n",
            "What is the number: 4\n",
            "What is the number: 3\n",
            "What is the number: -1\n",
            "3.3333333333333335\n"
          ]
        }
      ],
      "source": [
        "sum=0\n",
        "count=0\n",
        "while True:\n",
        "  n= int(input(\"What is the number: \"))\n",
        "  if n==-1:\n",
        "    print(sum/count)\n",
        "    break\n",
        "  else:\n",
        "    sum+=n\n",
        "    count+=1"
      ]
    },
    {
      "cell_type": "code",
      "execution_count": null,
      "metadata": {
        "id": "0MMb8bcumkWH"
      },
      "outputs": [],
      "source": [
        "while True:\n",
        "  n= int(input(\"What is the number: \"))\n",
        "  if n==-1:\n",
        "\n",
        "    break\n",
        "  else:\n"
      ]
    },
    {
      "cell_type": "markdown",
      "metadata": {
        "id": "wM2ClJwlGfUW"
      },
      "source": [
        "18/1/24\n",
        "\n",
        "match case statements in python 3.10 onwards\n",
        "\n",
        "it is similar to our swtich case statements in C"
      ]
    },
    {
      "cell_type": "code",
      "execution_count": null,
      "metadata": {
        "id": "vFl_5OpSGsU-"
      },
      "outputs": [],
      "source": [
        "month = int(input(\"Month: \"))\n",
        "year = int(input(\"Year: \"))\n",
        "match(month):\n",
        "  case 1|3|5|7|8|10|12:\n",
        "    days=31\n",
        "  case 4|6|9|11:\n",
        "    days =30\n",
        "  case 2:\n",
        "    # and so on......\n",
        "    leap = True if year/4==0 and year%100!=0 or year%400==0 else False # for checking leap year\n",
        "    if(leap):\n",
        "      days =29\n",
        "    else:\n",
        "      days =28"
      ]
    },
    {
      "cell_type": "markdown",
      "metadata": {
        "id": "ooAsCCnmG9fz"
      },
      "source": [
        "_____? _____:______\n",
        "\n",
        "statement? execute if true: execute if False\n",
        "\n",
        "that was in C\n",
        "\n",
        "now in Python\n",
        "\n",
        "small = 3 if 3<4 else 4\n",
        "\n",
        "\n",
        "print(\"3\") if 3<4 else \"4\"\n",
        "\n",
        "here anything can be written in else, other than assignments like a= 5 or something\n",
        "\n",
        "\n",
        "\n"
      ]
    },
    {
      "cell_type": "markdown",
      "metadata": {
        "id": "pEZH1PnmI_mB"
      },
      "source": [
        "Mode problem using most occured and ascending values"
      ]
    },
    {
      "cell_type": "code",
      "execution_count": null,
      "metadata": {
        "colab": {
          "base_uri": "https://localhost:8080/"
        },
        "id": "YT2753eTJS8K",
        "outputId": "bd947e80-fca5-4c99-9b8c-f0ac332f7c50"
      },
      "outputs": [
        {
          "name": "stdout",
          "output_type": "stream",
          "text": [
            "Mile\t\tKms\n",
            "1 \t\t 1.609\n",
            "2 \t\t 3.218\n",
            "3 \t\t 4.827\n",
            "4 \t\t 6.436\n",
            "5 \t\t 8.045\n",
            "6 \t\t 9.654\n",
            "7 \t\t 11.263\n",
            "8 \t\t 12.872\n",
            "9 \t\t 14.481\n",
            "10 \t\t 16.09\n"
          ]
        }
      ],
      "source": [
        "print(\"Mile\\t\\tKms\")\n",
        "for i in range(1,11):\n",
        "  print(i,\"\\t\\t\",i*1.609)"
      ]
    },
    {
      "cell_type": "markdown",
      "metadata": {
        "id": "eGCuX__fJ8FG"
      },
      "source": [
        "Suppose that the Fee for a University is 10000 USD this year and it increases 5% each year\n",
        "\n",
        "WAP Compute tuition fees 5 years from now total cost of a 4 year program which will begin 5 years from now"
      ]
    },
    {
      "cell_type": "code",
      "execution_count": null,
      "metadata": {
        "colab": {
          "base_uri": "https://localhost:8080/"
        },
        "id": "prrn3nGbKSOe",
        "outputId": "76f9b767-581c-4f8f-a012-f5c3caaf48c1"
      },
      "outputs": [
        {
          "name": "stdout",
          "output_type": "stream",
          "text": [
            "5 Years from now:  12762.815625\n",
            "The total fees:  57759.797230488286\n"
          ]
        }
      ],
      "source": [
        "start_fee = 10000\n",
        "rate = 5.00\n",
        "fee_5=10000\n",
        "for i in range(1,6):\n",
        "  fee_5=fee_5+fee_5*rate/100\n",
        "print(\"5 Years from now: \", fee_5)\n",
        "\n",
        "_4_year= fee_5\n",
        "sum=0\n",
        "for i in range(1,5):\n",
        "    _4_year += _4_year*rate/100\n",
        "    sum += _4_year\n",
        "print(\"The total fees: \", sum)"
      ]
    },
    {
      "cell_type": "markdown",
      "metadata": {
        "id": "OfmZ_l-kNA6D"
      },
      "source": [
        "100-1000\n",
        "\n",
        "both 5 and 6 divisible by\n",
        "\n",
        "we can only output 10 items in a row then next row"
      ]
    },
    {
      "cell_type": "code",
      "execution_count": null,
      "metadata": {
        "colab": {
          "base_uri": "https://localhost:8080/"
        },
        "id": "X-R1JGJJM_tK",
        "outputId": "928e81ed-a82e-4918-cf6b-00cef08f67b7"
      },
      "outputs": [
        {
          "name": "stdout",
          "output_type": "stream",
          "text": [
            "\n",
            "\n",
            "120 150 180 210 240 270 300 330 360 390 \n",
            "\n",
            "420 450 480 510 540 570 600 630 660 690 \n",
            "\n",
            "720 750 780 810 840 870 900 930 960 990 "
          ]
        }
      ],
      "source": [
        "count =0\n",
        "for i in range(100,1001):\n",
        "    if(i%30==0): # or directly check with 30\n",
        "        if(count%10!=0):\n",
        "            print(i,end=\" \")\n",
        "            count+=1\n",
        "        else:\n",
        "            print(\"\\n\")\n",
        "            print(i,end=\" \")\n",
        "            count+=1"
      ]
    },
    {
      "cell_type": "markdown",
      "metadata": {
        "id": "HygtlmC_1Rg5"
      },
      "source": [
        "Strings:\n",
        "Character data type doesn't really exist in Python\n",
        "Indivisual value: Unicode\n",
        "\n",
        "Characters here are nothing but strings of length 1\n",
        "String Matching by the inbuilt dictionary\n",
        "\n",
        "String Matching and stuff to be used\n",
        "\n",
        "Applications of strings:\n",
        "\n",
        "Passwords, Username Checking, Word replacements"
      ]
    },
    {
      "cell_type": "code",
      "execution_count": null,
      "metadata": {
        "id": "Oz8Nr_qp1Rg5",
        "outputId": "4ef77c61-e049-408d-e9a7-bba5869659c8"
      },
      "outputs": [
        {
          "name": "stdout",
          "output_type": "stream",
          "text": [
            "Apple\n",
            "A\n",
            "p\n",
            "p\n",
            "l\n",
            "e\n"
          ]
        }
      ],
      "source": [
        "fruit = \"Apple\"\n",
        "print(fruit)\n",
        "\n",
        "for i in fruit:\n",
        "    print(i)"
      ]
    },
    {
      "cell_type": "code",
      "execution_count": null,
      "metadata": {
        "id": "kELReCWc1Rg5",
        "outputId": "9adb406d-60c3-4883-c304-cf2065e6610f"
      },
      "outputs": [
        {
          "name": "stdout",
          "output_type": "stream",
          "text": [
            "Applepp\n",
            "5\n"
          ]
        }
      ],
      "source": [
        "fruit = \"Apple\"\n",
        "\n",
        "for i in range(5): # in this range function length of string can be added directly\n",
        "    print(fruit[i],end=\"\")\n",
        "\n",
        "print(fruit[1:3])\n",
        "print(len(fruit))"
      ]
    },
    {
      "cell_type": "code",
      "execution_count": null,
      "metadata": {
        "id": "5cWkiVIm1Rg5",
        "outputId": "efee9642-760f-4197-be82-cdc523be94a7"
      },
      "outputs": [
        {
          "name": "stdout",
          "output_type": "stream",
          "text": [
            "11\n",
            "HelloWorld\n",
            "\n",
            "HelloWorld\n",
            "\n",
            "HelloWorld"
          ]
        }
      ],
      "source": [
        "a= \"Hello World\"\n",
        "print(len(a))\n",
        "for i in a:\n",
        "    if(i!=\" \"):\n",
        "        print(i,end =\"\")\n",
        "#OR\n",
        "print(\"\\n\")\n",
        "for j in range(len(a)):\n",
        "    if(a[j]==\" \"):\n",
        "        continue\n",
        "    else:\n",
        "        print(a[j],end=\"\")\n",
        "#OR\n",
        "print(\"\\n\")\n",
        "for j in range(len(a)):\n",
        "    if(a[j]!=\" \"):\n",
        "        print(a[j],end=\"\")"
      ]
    },
    {
      "cell_type": "markdown",
      "metadata": {
        "id": "Cxt8DVwl1Rg5"
      },
      "source": [
        "If we try to print the 11th index in the string Hello World, it will an error \"string index out of range\""
      ]
    },
    {
      "cell_type": "code",
      "execution_count": null,
      "metadata": {
        "id": "Wlmbh7_V1Rg5",
        "outputId": "7c06ecb5-0546-4c12-b743-c0f109e2a6bb"
      },
      "outputs": [
        {
          "ename": "IndexError",
          "evalue": "string index out of range",
          "output_type": "error",
          "traceback": [
            "\u001b[0;31m---------------------------------------------------------------------------\u001b[0m",
            "\u001b[0;31mIndexError\u001b[0m                                Traceback (most recent call last)",
            "Cell \u001b[0;32mIn[10], line 2\u001b[0m\n\u001b[1;32m      1\u001b[0m a\u001b[38;5;241m=\u001b[39m \u001b[38;5;124m\"\u001b[39m\u001b[38;5;124mabc\u001b[39m\u001b[38;5;124m\"\u001b[39m\n\u001b[0;32m----> 2\u001b[0m \u001b[38;5;28mprint\u001b[39m(\u001b[43ma\u001b[49m\u001b[43m[\u001b[49m\u001b[38;5;241;43m3\u001b[39;49m\u001b[43m]\u001b[49m)\n",
            "\u001b[0;31mIndexError\u001b[0m: string index out of range"
          ]
        }
      ],
      "source": [
        "a= \"abc\"\n",
        "print(a[3])"
      ]
    },
    {
      "cell_type": "code",
      "execution_count": null,
      "metadata": {
        "id": "c_Abpkfv1Rg5",
        "outputId": "92e54094-8eaa-4e2f-dd25-b60bd304e44d"
      },
      "outputs": [
        {
          "name": "stdout",
          "output_type": "stream",
          "text": [
            "Found\n",
            "True\n",
            "True\n"
          ]
        }
      ],
      "source": [
        "string = \"Hell0 World\"\n",
        "\n",
        "if \"Hell\" in string:\n",
        "    print(\"Found\")\n",
        "print(\"Hello\" not in string)\n",
        "print(\"Hel\" in string[0:5])"
      ]
    },
    {
      "cell_type": "markdown",
      "metadata": {
        "id": "99Iceezz1Rg5"
      },
      "source": [
        "in str[1,5] the 5th element would be excluded and 1 would be included 1st to 4th element would be included\n",
        "str[:] --> it will print the entire thing\n",
        "\n",
        "str[1:] --> will go till the end, automatically ends at the length of the string\n",
        "\n",
        "str[:5] --> will start from 0 automatically and go till 5-1 that is 4\n",
        "\n",
        "str[0:11:2] --> will start from 0 and go in the step size of 2 start from 0 then 2 then 4 then 6 until 10 as 11 is not included\n",
        "\n",
        "str[0:-1] --> print from 0 to the end of the loop it will skip the last element\n",
        "\n"
      ]
    },
    {
      "cell_type": "code",
      "execution_count": null,
      "metadata": {
        "id": "VMh8gF151Rg6",
        "outputId": "37778beb-de08-428b-b71a-065e69efe7cd"
      },
      "outputs": [
        {
          "name": "stdout",
          "output_type": "stream",
          "text": [
            "dlroW olleH\n"
          ]
        }
      ],
      "source": [
        "a= input(\"String: \")\n",
        "print(a[::-1])"
      ]
    },
    {
      "cell_type": "markdown",
      "metadata": {
        "id": "6Cj5yKgp1Rg6"
      },
      "source": [
        "WAP to find the first repeated word in a string"
      ]
    },
    {
      "cell_type": "markdown",
      "metadata": {
        "id": "FSTg_jnX1Rg6"
      },
      "source": [
        "WAP to find the index of a given string at which a particular sub string would start(user inputted) otherwise print not found"
      ]
    },
    {
      "cell_type": "code",
      "execution_count": null,
      "metadata": {
        "id": "Y3hEz2cc1Rg6",
        "outputId": "9d4ee7ae-69a5-405e-be33-da17b4fd2f6f"
      },
      "outputs": [
        {
          "name": "stdout",
          "output_type": "stream",
          "text": [
            "['World', 'Hello']\n",
            "6\n",
            "1\n"
          ]
        }
      ],
      "source": [
        "a= \"World Hello\"\n",
        "\n",
        "b= a.split(\" \")\n",
        "\n",
        "print(b)\n",
        "\n",
        "print(a.index(\"Hello\"))\n",
        "print(b.index(\"Hello\"))"
      ]
    },
    {
      "cell_type": "markdown",
      "source": [
        "os and sys modules along with file handling"
      ],
      "metadata": {
        "id": "3EaOtzkv3ApT"
      }
    },
    {
      "cell_type": "markdown",
      "source": [
        "Short Circuit/ Lazy Evaluation"
      ],
      "metadata": {
        "id": "plHXpnzG3H_x"
      }
    },
    {
      "cell_type": "code",
      "source": [
        "x=False\n",
        "y=True\n",
        "print(x or y)"
      ],
      "metadata": {
        "colab": {
          "base_uri": "https://localhost:8080/"
        },
        "id": "uH2zXDhP3FRo",
        "outputId": "d561d95d-1cc2-4a1e-d1e4-6a315eec3c90"
      },
      "execution_count": null,
      "outputs": [
        {
          "output_type": "stream",
          "name": "stdout",
          "text": [
            "True\n"
          ]
        }
      ]
    },
    {
      "cell_type": "code",
      "source": [
        "x=0\n",
        "y=1\n",
        "print(x or y)"
      ],
      "metadata": {
        "colab": {
          "base_uri": "https://localhost:8080/"
        },
        "id": "oXPV-O7i5yB8",
        "outputId": "71f946be-6c13-41d8-f427-5ed67ca59642"
      },
      "execution_count": null,
      "outputs": [
        {
          "output_type": "stream",
          "name": "stdout",
          "text": [
            "1\n"
          ]
        }
      ]
    },
    {
      "cell_type": "code",
      "source": [
        "x=1\n",
        "y=0\n",
        "print(x or y)\n",
        "print(x and y)"
      ],
      "metadata": {
        "colab": {
          "base_uri": "https://localhost:8080/"
        },
        "id": "1L19OF7X53IP",
        "outputId": "1485e860-40a3-4b66-cbd5-625948d3029b"
      },
      "execution_count": null,
      "outputs": [
        {
          "output_type": "stream",
          "name": "stdout",
          "text": [
            "1\n",
            "0\n"
          ]
        }
      ]
    },
    {
      "cell_type": "code",
      "source": [
        "print(any([True,False,False])) # shortciruiting at the first True"
      ],
      "metadata": {
        "colab": {
          "base_uri": "https://localhost:8080/"
        },
        "id": "4sgaLqGn7_bn",
        "outputId": "4ff4825c-9216-4a80-fdb7-ced92e31d309"
      },
      "execution_count": null,
      "outputs": [
        {
          "output_type": "stream",
          "name": "stdout",
          "text": [
            "True\n"
          ]
        }
      ]
    },
    {
      "cell_type": "code",
      "source": [
        "print(all([True,False,False]))"
      ],
      "metadata": {
        "colab": {
          "base_uri": "https://localhost:8080/"
        },
        "id": "KQG42mTJ-9H8",
        "outputId": "02ff36c5-2a15-413f-8465-830fbb5e2d32"
      },
      "execution_count": null,
      "outputs": [
        {
          "output_type": "stream",
          "name": "stdout",
          "text": [
            "False\n"
          ]
        }
      ]
    },
    {
      "cell_type": "markdown",
      "source": [
        "Output based questions:"
      ],
      "metadata": {
        "id": "iH0Neupv8cVX"
      }
    },
    {
      "cell_type": "code",
      "source": [
        "def check():\n",
        "  return \"hi\"\n",
        "print(1 and check())\n",
        "print(1 or check())\n",
        "print(0 and check())\n",
        "print(0 or check())"
      ],
      "metadata": {
        "colab": {
          "base_uri": "https://localhost:8080/"
        },
        "id": "7_svUuKf8KIx",
        "outputId": "25959a52-bca6-41dd-86ad-d82d2a16d34a"
      },
      "execution_count": null,
      "outputs": [
        {
          "output_type": "stream",
          "name": "stdout",
          "text": [
            "hi\n",
            "1\n",
            "0\n",
            "hi\n"
          ]
        }
      ]
    },
    {
      "cell_type": "code",
      "source": [
        "def check():\n",
        "  print(\"hi\")\n",
        "print(1 and check())\n",
        "print(1 or check())\n",
        "print(0 and check())\n",
        "print(0 or check())"
      ],
      "metadata": {
        "colab": {
          "base_uri": "https://localhost:8080/"
        },
        "id": "SoEefrdh9UGm",
        "outputId": "54db387b-592d-44d2-e635-0e9935a7978b"
      },
      "execution_count": null,
      "outputs": [
        {
          "output_type": "stream",
          "name": "stdout",
          "text": [
            "hi\n",
            "None\n",
            "1\n",
            "0\n",
            "hi\n",
            "None\n"
          ]
        }
      ]
    },
    {
      "cell_type": "code",
      "source": [
        "a=1\n",
        "b=2\n",
        "c=3\n",
        "def check(a):\n",
        "  print(a)\n",
        "  return a\n",
        "if a==1: # short circuited here\n",
        "  print(\"a==1\")\n",
        "elif b==2 and c==3:\n",
        "  print(\"b==2 and c==3\")\n",
        "elif b==a+a and 0<len(check(\"hi\")):\n",
        "  print(\"b==a+a\")"
      ],
      "metadata": {
        "colab": {
          "base_uri": "https://localhost:8080/"
        },
        "id": "wBPwkCIr_Ked",
        "outputId": "c71adffa-e5fa-47ab-c784-b0327d705783"
      },
      "execution_count": null,
      "outputs": [
        {
          "output_type": "stream",
          "name": "stdout",
          "text": [
            "a==1\n"
          ]
        }
      ]
    },
    {
      "cell_type": "markdown",
      "source": [
        "Read, append, write and create\n",
        "\n",
        "dll -> dynamic link libraries -> also executable\n",
        "\n",
        "Default mode of file handling in python is .txt file while we can also edit and handle .csv .bin etc.....\n",
        "\n",
        "File Handling-> \"t\" or \"b\"\n",
        "\n",
        "r,a,w,x\n",
        "r -> read\n",
        "a-> append\n",
        "w-> write\n",
        "x-> create (if the file already byt the same name exists then python shows an error)"
      ],
      "metadata": {
        "id": "ASE2WQ7yjD_M"
      }
    },
    {
      "cell_type": "markdown",
      "source": [
        "OS and SYS modules\n",
        "\n",
        "os.path()\n",
        "\n",
        "Path can be:\n",
        "\n",
        "-> absolute\n",
        "\n",
        "-> realtive\n"
      ],
      "metadata": {
        "id": "JWVzsHGEn0ab"
      }
    },
    {
      "cell_type": "code",
      "source": [
        "import os\n",
        "if(os.path.exists(\"hi.txt\")):\n",
        "  print(True)\n",
        "else:\n",
        "  print(False)"
      ],
      "metadata": {
        "colab": {
          "base_uri": "https://localhost:8080/"
        },
        "id": "RwgObpH2lmlq",
        "outputId": "69292356-7720-4f08-bde7-f23787e03ef6"
      },
      "execution_count": null,
      "outputs": [
        {
          "output_type": "stream",
          "name": "stdout",
          "text": [
            "False\n"
          ]
        }
      ]
    },
    {
      "cell_type": "code",
      "source": [
        "import os\n",
        "print(os.path.exists(\"hi.txt\"))"
      ],
      "metadata": {
        "colab": {
          "base_uri": "https://localhost:8080/"
        },
        "id": "i2SOTnpfqi-5",
        "outputId": "25083a96-a3aa-4c15-90fa-d88c3380034e"
      },
      "execution_count": null,
      "outputs": [
        {
          "output_type": "stream",
          "name": "stdout",
          "text": [
            "False\n"
          ]
        }
      ]
    },
    {
      "cell_type": "code",
      "source": [
        "import os\n",
        "if(os.path.exists(\"hello.txt\")):\n",
        "  os.remove(\"hello.txt\")\n",
        "  print(True)\n",
        "else:\n",
        "  print(\"File doesn't exist.\")"
      ],
      "metadata": {
        "colab": {
          "base_uri": "https://localhost:8080/"
        },
        "id": "kRhxUe8JqpYP",
        "outputId": "cb2999fd-0058-4654-9520-e563ff5f7be0"
      },
      "execution_count": null,
      "outputs": [
        {
          "output_type": "stream",
          "name": "stdout",
          "text": [
            "True\n"
          ]
        }
      ]
    },
    {
      "cell_type": "markdown",
      "source": [
        "in order to delete a folder we have to delete everything inside that folder first\n",
        "\n",
        "rmdir-> remove directory"
      ],
      "metadata": {
        "id": "GWVdhDbFrifP"
      }
    },
    {
      "cell_type": "code",
      "source": [
        "import os\n",
        "if os.path.exists(\"abc\"):\n",
        "  os.rmdir(\"abc\")\n",
        "  print(True)\n",
        "else:\n",
        "  print(\"Folder doesn't exists\")"
      ],
      "metadata": {
        "colab": {
          "base_uri": "https://localhost:8080/",
          "height": 250
        },
        "id": "d43nkkThroZK",
        "outputId": "44f9d0dc-d746-4e4f-8a01-1da7a0b6c692"
      },
      "execution_count": null,
      "outputs": [
        {
          "output_type": "error",
          "ename": "OSError",
          "evalue": "[Errno 39] Directory not empty: 'abc'",
          "traceback": [
            "\u001b[0;31m---------------------------------------------------------------------------\u001b[0m",
            "\u001b[0;31mOSError\u001b[0m                                   Traceback (most recent call last)",
            "\u001b[0;32m<ipython-input-5-d43e12bb19dc>\u001b[0m in \u001b[0;36m<cell line: 2>\u001b[0;34m()\u001b[0m\n\u001b[1;32m      1\u001b[0m \u001b[0;32mimport\u001b[0m \u001b[0mos\u001b[0m\u001b[0;34m\u001b[0m\u001b[0;34m\u001b[0m\u001b[0m\n\u001b[1;32m      2\u001b[0m \u001b[0;32mif\u001b[0m \u001b[0mos\u001b[0m\u001b[0;34m.\u001b[0m\u001b[0mpath\u001b[0m\u001b[0;34m.\u001b[0m\u001b[0mexists\u001b[0m\u001b[0;34m(\u001b[0m\u001b[0;34m\"abc\"\u001b[0m\u001b[0;34m)\u001b[0m\u001b[0;34m:\u001b[0m\u001b[0;34m\u001b[0m\u001b[0;34m\u001b[0m\u001b[0m\n\u001b[0;32m----> 3\u001b[0;31m   \u001b[0mos\u001b[0m\u001b[0;34m.\u001b[0m\u001b[0mrmdir\u001b[0m\u001b[0;34m(\u001b[0m\u001b[0;34m\"abc\"\u001b[0m\u001b[0;34m)\u001b[0m\u001b[0;34m\u001b[0m\u001b[0;34m\u001b[0m\u001b[0m\n\u001b[0m\u001b[1;32m      4\u001b[0m   \u001b[0mprint\u001b[0m\u001b[0;34m(\u001b[0m\u001b[0;32mTrue\u001b[0m\u001b[0;34m)\u001b[0m\u001b[0;34m\u001b[0m\u001b[0;34m\u001b[0m\u001b[0m\n\u001b[1;32m      5\u001b[0m \u001b[0;32melse\u001b[0m\u001b[0;34m:\u001b[0m\u001b[0;34m\u001b[0m\u001b[0;34m\u001b[0m\u001b[0m\n",
            "\u001b[0;31mOSError\u001b[0m: [Errno 39] Directory not empty: 'abc'"
          ]
        }
      ]
    },
    {
      "cell_type": "code",
      "source": [
        "import os\n",
        "if os.path.exists(\"abc/hi.txt\"):\n",
        "  os.remove(\"abc/hi.txt\")\n",
        "  print(True)\n",
        "else:\n",
        "  print(\"Folder doesn't exists\")"
      ],
      "metadata": {
        "colab": {
          "base_uri": "https://localhost:8080/"
        },
        "id": "VlaVgFB1sGu2",
        "outputId": "b4a62567-6381-458f-e2b5-6befe0aae0cf"
      },
      "execution_count": null,
      "outputs": [
        {
          "output_type": "stream",
          "name": "stdout",
          "text": [
            "True\n"
          ]
        }
      ]
    },
    {
      "cell_type": "code",
      "source": [
        "import os\n",
        "if os.path.exists(\"abc\"):\n",
        "  os.rmdir(\"abc\")\n",
        "  print(True)\n",
        "else:\n",
        "  print(\"Folder doesn't exists\")"
      ],
      "metadata": {
        "colab": {
          "base_uri": "https://localhost:8080/",
          "height": 250
        },
        "id": "Gm0SS8cHsPVB",
        "outputId": "1e3f88dd-24d1-4ccc-fa55-6993d708e447"
      },
      "execution_count": null,
      "outputs": [
        {
          "output_type": "error",
          "ename": "OSError",
          "evalue": "[Errno 39] Directory not empty: 'abc'",
          "traceback": [
            "\u001b[0;31m---------------------------------------------------------------------------\u001b[0m",
            "\u001b[0;31mOSError\u001b[0m                                   Traceback (most recent call last)",
            "\u001b[0;32m<ipython-input-14-d43e12bb19dc>\u001b[0m in \u001b[0;36m<cell line: 2>\u001b[0;34m()\u001b[0m\n\u001b[1;32m      1\u001b[0m \u001b[0;32mimport\u001b[0m \u001b[0mos\u001b[0m\u001b[0;34m\u001b[0m\u001b[0;34m\u001b[0m\u001b[0m\n\u001b[1;32m      2\u001b[0m \u001b[0;32mif\u001b[0m \u001b[0mos\u001b[0m\u001b[0;34m.\u001b[0m\u001b[0mpath\u001b[0m\u001b[0;34m.\u001b[0m\u001b[0mexists\u001b[0m\u001b[0;34m(\u001b[0m\u001b[0;34m\"abc\"\u001b[0m\u001b[0;34m)\u001b[0m\u001b[0;34m:\u001b[0m\u001b[0;34m\u001b[0m\u001b[0;34m\u001b[0m\u001b[0m\n\u001b[0;32m----> 3\u001b[0;31m   \u001b[0mos\u001b[0m\u001b[0;34m.\u001b[0m\u001b[0mrmdir\u001b[0m\u001b[0;34m(\u001b[0m\u001b[0;34m\"abc\"\u001b[0m\u001b[0;34m)\u001b[0m\u001b[0;34m\u001b[0m\u001b[0;34m\u001b[0m\u001b[0m\n\u001b[0m\u001b[1;32m      4\u001b[0m   \u001b[0mprint\u001b[0m\u001b[0;34m(\u001b[0m\u001b[0;32mTrue\u001b[0m\u001b[0;34m)\u001b[0m\u001b[0;34m\u001b[0m\u001b[0;34m\u001b[0m\u001b[0m\n\u001b[1;32m      5\u001b[0m \u001b[0;32melse\u001b[0m\u001b[0;34m:\u001b[0m\u001b[0;34m\u001b[0m\u001b[0;34m\u001b[0m\u001b[0m\n",
            "\u001b[0;31mOSError\u001b[0m: [Errno 39] Directory not empty: 'abc'"
          ]
        }
      ]
    },
    {
      "cell_type": "markdown",
      "source": [
        "Write a python program to read an entire text file\n",
        "\n",
        "in exam we will give the statement like where the file is stored and assume that the file is in the same working directory\n",
        "\n",
        "that is readlines();"
      ],
      "metadata": {
        "id": "xnH9wqkFJoCf"
      }
    },
    {
      "cell_type": "code",
      "source": [
        "f= open(\"demo.txt\", \"r\")\n",
        "abc= f.read()# if we add a parameter to the function it will read that many bytes only\n",
        "print(abc)\n",
        "f.close()"
      ],
      "metadata": {
        "colab": {
          "base_uri": "https://localhost:8080/"
        },
        "id": "_s523d-qJjGH",
        "outputId": "3e266796-56ac-4e60-8439-ca914ac9ebea"
      },
      "execution_count": null,
      "outputs": [
        {
          "output_type": "stream",
          "name": "stdout",
          "text": [
            "Hello\n"
          ]
        }
      ]
    },
    {
      "cell_type": "code",
      "source": [
        "f= open(\"demo.txt\", \"r\")\n",
        "abc= f.readline(4)\n",
        "# when we use argument in readline it tells you the number of the bytes to read in the file for eg if we put 4 there it will only read the first line and the first 4 characters only and if we want to read the entire file use the for loops\n",
        "print(abc)\n",
        "f.close()"
      ],
      "metadata": {
        "colab": {
          "base_uri": "https://localhost:8080/"
        },
        "id": "WTqmuwmIKx2u",
        "outputId": "c162a425-a101-4988-fa24-50421584a8d7"
      },
      "execution_count": null,
      "outputs": [
        {
          "output_type": "stream",
          "name": "stdout",
          "text": [
            "Hell\n"
          ]
        }
      ]
    },
    {
      "cell_type": "code",
      "source": [
        "f= open(\"demo.txt\", \"r\")\n",
        "abc= f.readlines(1)\n",
        "# may be right may be wrongif we add a parameter in this function then it will only read that many lines from the file\n",
        "# the readlines function gives the lines in a list in which all the lines , line by line\n",
        "print(abc)\n",
        "f.close()"
      ],
      "metadata": {
        "colab": {
          "base_uri": "https://localhost:8080/"
        },
        "id": "XB3w1D1DKz7H",
        "outputId": "2e2b5662-2c78-4586-cdfd-3c73898f4fe1"
      },
      "execution_count": null,
      "outputs": [
        {
          "output_type": "stream",
          "name": "stdout",
          "text": [
            "['Hello\\n']\n"
          ]
        }
      ]
    },
    {
      "cell_type": "code",
      "source": [
        "f= open(\"demo.txt\", \"r\")\n",
        "abc= f.readlines()\n",
        "# the readlines function gives the lines in a list in which all the lines , line by line\n",
        "print(abc)\n",
        "f.close()"
      ],
      "metadata": {
        "colab": {
          "base_uri": "https://localhost:8080/"
        },
        "id": "lFqzvmtxLuqt",
        "outputId": "13468fc0-1d17-42b9-b684-4653a3c668ef"
      },
      "execution_count": null,
      "outputs": [
        {
          "output_type": "stream",
          "name": "stdout",
          "text": [
            "['Hello\\n']\n"
          ]
        }
      ]
    },
    {
      "cell_type": "code",
      "source": [
        "f= open(\"demo.txt\", \"r\")\n",
        "abc= f.readlines()\n",
        "# the readlines function gives the lines in a list in which all the lines , line by line\n",
        "# \\n would also be there its baically split about the \\n and then \\n is also added to the end of each line\n",
        "print(abc)\n",
        "f.close()"
      ],
      "metadata": {
        "colab": {
          "base_uri": "https://localhost:8080/"
        },
        "id": "thAw9egCL8-o",
        "outputId": "e9e53ddf-157b-498a-8152-6af9c0e43dea"
      },
      "execution_count": null,
      "outputs": [
        {
          "output_type": "stream",
          "name": "stdout",
          "text": [
            "['Hello\\n', 'World\\n', 'Hi']\n"
          ]
        }
      ]
    },
    {
      "cell_type": "code",
      "source": [
        "f= open(\"demo.txt\", \"r\")\n",
        "for i in range(3):\n",
        "  if i==2:# won't work we have to use seek and tell here\n",
        "    print(f.readline(1))\n",
        "f.close()"
      ],
      "metadata": {
        "colab": {
          "base_uri": "https://localhost:8080/"
        },
        "id": "3UXnnE5ONGEU",
        "outputId": "8a9596f7-cc46-425a-e6be-38f817a85c35"
      },
      "execution_count": null,
      "outputs": [
        {
          "output_type": "stream",
          "name": "stdout",
          "text": [
            "\n"
          ]
        }
      ]
    },
    {
      "cell_type": "markdown",
      "source": [],
      "metadata": {
        "id": "sRgw5V9iOKSv"
      }
    },
    {
      "cell_type": "code",
      "source": [
        "f= open(\"demo.txt\", \"r\")\n",
        "for i in range(3):\n",
        "    print(f.readline())\n",
        "f.close()"
      ],
      "metadata": {
        "colab": {
          "base_uri": "https://localhost:8080/"
        },
        "id": "P58oEpVQOGNb",
        "outputId": "468bd8ff-a6b5-4a57-93b1-3e389387a49e"
      },
      "execution_count": null,
      "outputs": [
        {
          "output_type": "stream",
          "name": "stdout",
          "text": [
            "Hello\n",
            "\n",
            "World\n",
            "\n",
            "Hi\n"
          ]
        }
      ]
    },
    {
      "cell_type": "code",
      "source": [
        "f= open(\"demo.txt\", \"r\")\n",
        "a= f.readlines()\n",
        "for i in range(3):# not dynamic yet very static\n",
        "    print(a[i])\n",
        "f.close()"
      ],
      "metadata": {
        "colab": {
          "base_uri": "https://localhost:8080/"
        },
        "id": "SXCSzoavOOY7",
        "outputId": "880ab51c-92c1-4d54-dcfd-234904f36a67"
      },
      "execution_count": null,
      "outputs": [
        {
          "output_type": "stream",
          "name": "stdout",
          "text": [
            "Hello\n",
            "\n",
            "World\n",
            "\n",
            "Hi\n"
          ]
        }
      ]
    },
    {
      "cell_type": "markdown",
      "source": [
        "how many words  in a file"
      ],
      "metadata": {
        "id": "VvKN18GPOZZz"
      }
    },
    {
      "cell_type": "code",
      "source": [
        "f = open(\"demo.txt\", \"r\")\n",
        "a= f.read()\n",
        "count=0\n",
        "\n",
        "count+=len(a.split())\n",
        "\n",
        "print(len(a.split()))\n",
        "\n",
        "f.close()"
      ],
      "metadata": {
        "colab": {
          "base_uri": "https://localhost:8080/"
        },
        "id": "VtlSiY0XOZPM",
        "outputId": "5e56d3af-5fe9-418f-c1ab-54edae436a6a"
      },
      "execution_count": null,
      "outputs": [
        {
          "output_type": "stream",
          "name": "stdout",
          "text": [
            "5\n"
          ]
        }
      ]
    },
    {
      "cell_type": "code",
      "source": [
        "f = open(\"demo.txt\", \"r\")\n",
        "a= f.read()\n",
        "count=0\n",
        "count+=len(a.split())\n",
        "for i in a:\n",
        "  i.split(\",\")\n",
        "\n",
        "print(a)\n",
        "f.close()"
      ],
      "metadata": {
        "colab": {
          "base_uri": "https://localhost:8080/"
        },
        "id": "_PJlgw6rQYAm",
        "outputId": "85120c55-e046-4ed5-e750-1cf707cbaa53"
      },
      "execution_count": null,
      "outputs": [
        {
          "output_type": "stream",
          "name": "stdout",
          "text": [
            "Hello,World\n",
            "World Hello \n",
            "Hi Hello\n"
          ]
        }
      ]
    },
    {
      "cell_type": "markdown",
      "source": [
        "Write a python program to generate 26 text files"
      ],
      "metadata": {
        "id": "Zu-sDwVzQtUg"
      }
    },
    {
      "cell_type": "code",
      "source": [
        "for i in range(26):\n",
        "  name = \"file\"+str(i+1)+\".txt\"\n",
        "  f = open(name,\"w\")\n",
        "  f.close()\n"
      ],
      "metadata": {
        "id": "KQE_NYcJQx1u"
      },
      "execution_count": null,
      "outputs": []
    },
    {
      "cell_type": "markdown",
      "source": [
        "6/2/2024"
      ],
      "metadata": {
        "id": "psEjDkRMmJe7"
      }
    },
    {
      "cell_type": "code",
      "source": [
        "print(int(\"003\"))"
      ],
      "metadata": {
        "colab": {
          "base_uri": "https://localhost:8080/"
        },
        "id": "q0waukJSmJMF",
        "outputId": "2b3da537-9520-417f-8467-34a28cee6f02"
      },
      "execution_count": null,
      "outputs": [
        {
          "output_type": "stream",
          "name": "stdout",
          "text": [
            "3\n"
          ]
        }
      ]
    },
    {
      "cell_type": "code",
      "source": [
        "eval(\"003\") # in eval leading 0's are not allowed for integers"
      ],
      "metadata": {
        "colab": {
          "base_uri": "https://localhost:8080/",
          "height": 286
        },
        "id": "20H9Ld1HnXpY",
        "outputId": "601d77bd-63bd-46be-f3d1-a34078c91126"
      },
      "execution_count": null,
      "outputs": [
        {
          "output_type": "error",
          "ename": "SyntaxError",
          "evalue": "leading zeros in decimal integer literals are not permitted; use an 0o prefix for octal integers (<string>, line 1)",
          "traceback": [
            "Traceback \u001b[0;36m(most recent call last)\u001b[0m:\n",
            "  File \u001b[1;32m\"/usr/local/lib/python3.10/dist-packages/IPython/core/interactiveshell.py\"\u001b[0m, line \u001b[1;32m3553\u001b[0m, in \u001b[1;35mrun_code\u001b[0m\n    exec(code_obj, self.user_global_ns, self.user_ns)\n",
            "\u001b[0;36m  File \u001b[0;32m\"<ipython-input-2-e53ae6c30aa7>\"\u001b[0;36m, line \u001b[0;32m1\u001b[0;36m, in \u001b[0;35m<cell line: 1>\u001b[0;36m\u001b[0m\n\u001b[0;31m    eval(\"003\")\u001b[0m\n",
            "\u001b[0;36m  File \u001b[0;32m\"<string>\"\u001b[0;36m, line \u001b[0;32m1\u001b[0m\n\u001b[0;31m    003\u001b[0m\n\u001b[0m    ^\u001b[0m\n\u001b[0;31mSyntaxError\u001b[0m\u001b[0;31m:\u001b[0m leading zeros in decimal integer literals are not permitted; use an 0o prefix for octal integers\n"
          ]
        }
      ]
    },
    {
      "cell_type": "code",
      "source": [
        "a=5\n",
        "b=0\n",
        "a,b=b,a\n",
        "print(a,b)"
      ],
      "metadata": {
        "colab": {
          "base_uri": "https://localhost:8080/"
        },
        "id": "4QD4tMb0ntei",
        "outputId": "e49c70b1-2d71-4cd5-8725-3bc10317f716"
      },
      "execution_count": null,
      "outputs": [
        {
          "output_type": "stream",
          "name": "stdout",
          "text": [
            "0 5\n"
          ]
        }
      ]
    },
    {
      "cell_type": "code",
      "source": [
        "print(10//6/2) # same precedence whatever is leftmost would come first"
      ],
      "metadata": {
        "colab": {
          "base_uri": "https://localhost:8080/"
        },
        "id": "xvCfRKydnzmb",
        "outputId": "16a6adb9-9f51-472f-a2ba-a4ce56fa3849"
      },
      "execution_count": null,
      "outputs": [
        {
          "output_type": "stream",
          "name": "stdout",
          "text": [
            "0.5\n"
          ]
        }
      ]
    },
    {
      "cell_type": "markdown",
      "source": [
        "Modular Programming\n"
      ],
      "metadata": {
        "id": "0RxM8jq6s6Ca"
      }
    },
    {
      "cell_type": "code",
      "source": [
        "def swap(a=1,b=8): # default values if the user doesn't call any value then it will take these values\n",
        "  a,b=b,a\n",
        "  return a,b\n",
        "def direct_swap(a=2,b=4):\n",
        "  return b,a\n",
        "# a=eval(input(\"Number:\"))\n",
        "# b=eval(input(\"Number:\"))\n",
        "print(swap())\n",
        "print(direct_swap())"
      ],
      "metadata": {
        "colab": {
          "base_uri": "https://localhost:8080/"
        },
        "id": "7J7YitKDsFJ4",
        "outputId": "91cb0b72-7c3e-4a56-a771-afd1cbc55086"
      },
      "execution_count": null,
      "outputs": [
        {
          "output_type": "stream",
          "name": "stdout",
          "text": [
            "(8, 1)\n",
            "(4, 2)\n"
          ]
        }
      ]
    }
  ],
  "metadata": {
    "colab": {
      "provenance": []
    },
    "kernelspec": {
      "display_name": "Python 3",
      "name": "python3"
    },
    "language_info": {
      "codemirror_mode": {
        "name": "ipython",
        "version": 3
      },
      "file_extension": ".py",
      "mimetype": "text/x-python",
      "name": "python",
      "nbconvert_exporter": "python",
      "pygments_lexer": "ipython3",
      "version": "3.9.6"
    }
  },
  "nbformat": 4,
  "nbformat_minor": 0
}