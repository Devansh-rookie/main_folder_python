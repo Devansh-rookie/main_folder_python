{
 "cells": [
  {
   "cell_type": "markdown",
   "metadata": {},
   "source": [
    "Q1: Write a Python class to convert a roman numeral to an integer."
   ]
  },
  {
   "cell_type": "code",
   "execution_count": 4,
   "metadata": {},
   "outputs": [
    {
     "name": "stdout",
     "output_type": "stream",
     "text": [
      "The converted value from MMMCMXCIX is: 3999\n"
     ]
    }
   ],
   "source": [
    "class Solution:\n",
    "    def romanToInt(self, s: str)-> int: # -> would give the return type and the s: str gives the data type of s\n",
    "        char_to_int = {\"I\":1,\"V\":5, \"X\":10, \"L\":50, \"C\":100, \"D\":500,\"M\":1000}\n",
    "        ans =0\n",
    "        length = len(s)\n",
    "        i=0\n",
    "        while(i<length):\n",
    "            if s[i] == \"I\":\n",
    "                if i+1<length and (s[i+1]==\"V\" or s[i+1]==\"X\"):\n",
    "                    ans += (char_to_int[s[i+1]]-char_to_int[s[i]])\n",
    "                    i+=2\n",
    "                    continue\n",
    "                else:\n",
    "                    ans += char_to_int[s[i]]\n",
    "                    i+=1\n",
    "            elif s[i] == \"X\":\n",
    "                if i+1<length and (s[i+1]==\"L\" or s[i+1]==\"C\"):\n",
    "                    ans += (char_to_int[s[i+1]]-char_to_int[s[i]])\n",
    "                    i+=2\n",
    "                    continue\n",
    "                else:\n",
    "                    ans += char_to_int[s[i]]\n",
    "                    i+=1\n",
    "            elif s[i] == \"C\":\n",
    "                if i+1<length and (s[i+1]==\"D\" or s[i+1]==\"M\"):\n",
    "                    ans += (char_to_int[s[i+1]]-char_to_int[s[i]])\n",
    "                    i+=2\n",
    "                    continue\n",
    "                else:\n",
    "                    ans += char_to_int[s[i]]\n",
    "                    i+=1\n",
    "            else:\n",
    "                ans+= char_to_int[s[i]]\n",
    "                i+=1\n",
    "        return ans\n",
    "\n",
    "object_1 = Solution()\n",
    "string_input = input(\"What is the value to convert to integer: \")\n",
    "\n",
    "print(f\"The converted value from {string_input} is: {object_1.romanToInt(string_input)}\")"
   ]
  },
  {
   "cell_type": "markdown",
   "metadata": {},
   "source": [
    "Q2: Write a Python class to find the validity of a string of parentheses, '(', ')', '{', '} ', '[' and '].\n",
    "These brackets must be close in the correct order, for example\"()\" and\"()[]{}\" are valid\n",
    "but \"[)\", \"( {[)]\" and \" { { {\" are invalid."
   ]
  },
  {
   "cell_type": "code",
   "execution_count": 19,
   "metadata": {},
   "outputs": [
    {
     "name": "stdout",
     "output_type": "stream",
     "text": [
      "(){}[{}] is Valid\n"
     ]
    }
   ],
   "source": [
    "class Stack(list):\n",
    "    def isEmpty(self)-> bool:\n",
    "        if self == []:\n",
    "            return True\n",
    "        return False\n",
    "    def popStk(self):\n",
    "        if not self.isEmpty():\n",
    "            return self.pop()\n",
    "    def push(self, val):\n",
    "        self.append(val)\n",
    "    def peek(self):\n",
    "        return self[-1]\n",
    "\n",
    "class Solution2():\n",
    "    def validParenthesis(self , s:str)-> bool:\n",
    "        stack = Stack()\n",
    "        i=0\n",
    "        length=len(s)\n",
    "        while(i<length):\n",
    "            if(s[i]=='(' or s[i]=='{' or s[i]=='['):\n",
    "                stack.push(s[i])\n",
    "            \n",
    "            elif(s[i]==')'or s[i]=='}'or s[i]==']'):\n",
    "                if(stack.isEmpty()):\n",
    "                    return False\n",
    "                if(stack.peek() =='(' and s[i]== ')'):\n",
    "                    stack.pop()\n",
    "                elif(stack.peek()=='{' and s[i]== '}'):\n",
    "                    stack.pop()\n",
    "                elif(stack.peek()=='[' and s[i]== ']'):\n",
    "                    stack.pop()\n",
    "                else:\n",
    "                    return False; # Brilliant to check for the cases  where only ] is present not the entire thing\n",
    "            i+=1\n",
    "        if(stack.isEmpty()):\n",
    "            return True\n",
    "        return False\n",
    "\n",
    "object_2 = Solution2()\n",
    "s = input(\"What is the string to check: \")\n",
    "if object_2.validParenthesis(s):\n",
    "    print(f\"{s} is Valid\")\n",
    "else:\n",
    "    print(f\"{s} is not Valid\")\n"
   ]
  },
  {
   "cell_type": "markdown",
   "metadata": {},
   "source": [
    "Q3: Write a Python class which has two methods get_ String and print_String. get String\n",
    "accepts a string from the user and print_string prints the string in upper case."
   ]
  },
  {
   "cell_type": "code",
   "execution_count": 21,
   "metadata": {},
   "outputs": [
    {
     "name": "stdout",
     "output_type": "stream",
     "text": [
      "Original String:  Abc\n",
      "Updated String:  ABC\n"
     ]
    }
   ],
   "source": [
    "class StringAnswer:\n",
    "    \n",
    "    def getString(self):\n",
    "        self.string = input(\"String is: \")\n",
    "    \n",
    "    def printString(self):\n",
    "        print(\"Updated String: \",self.string.upper())\n",
    "\n",
    "a = StringAnswer()\n",
    "a.getString()\n",
    "print(\"Original String: \",a.string)\n",
    "a.printString()"
   ]
  },
  {
   "cell_type": "markdown",
   "metadata": {},
   "source": [
    "Q4: Write a Python class named Circle constructed by a radius and two methods which will compute the area and the perimeter of a circle."
   ]
  },
  {
   "cell_type": "code",
   "execution_count": 23,
   "metadata": {},
   "outputs": [
    {
     "name": "stdout",
     "output_type": "stream",
     "text": [
      "The Radius inputted is: 10\n",
      "The perimeter of the circle is: 62.83185307179586\n",
      "The Area of the circle is 314.1592653589793\n"
     ]
    }
   ],
   "source": [
    "import math\n",
    "class Circle:\n",
    "    def __init__(self, radius) -> None:\n",
    "        self.radius = radius\n",
    "    \n",
    "    def perimeter(self):\n",
    "        return math.pi*2*self.radius\n",
    "    \n",
    "    def area(self):\n",
    "        return math.pi * (self.radius)**2\n",
    "    \n",
    "\n",
    "radius = eval(input(\"What is the radius: \"))\n",
    "circle1 = Circle(radius= radius)\n",
    "print(f\"The Radius inputted is: {circle1.radius}\\nThe perimeter of the circle is: {circle1.perimeter()}\\nThe Area of the circle is {circle1.area()}\")"
   ]
  },
  {
   "cell_type": "markdown",
   "metadata": {},
   "source": [
    "Q5. (Inheritance) Design a class named triangle that extends the GeometricObject class. The Triangle class contains:\n",
    "• Three float fields named side 1, side2, and side3 to denote the three sides of the\n",
    "Triangle.\n",
    "• A constructor that creates a triangle with the specified side1, side2, and side3, with\n",
    "default value 1.0.\n",
    "• The accessor methods for all three data fields.\n",
    "• A method named getArea() that returns the Area of this triangle.\n",
    "• A method named getPerimeter() that returns the Perimeter of this triangle.\n",
    "• A method named __ str __ () that returns a string description for the triangle."
   ]
  },
  {
   "cell_type": "code",
   "execution_count": 3,
   "metadata": {},
   "outputs": [
    {
     "name": "stdout",
     "output_type": "stream",
     "text": [
      "Area is: 26.663411259626926\n",
      "Perimeter is: 25\n",
      "Side 1: 6\n",
      "Side 2: 9\n",
      "Side 3: 10\n",
      "\n",
      "The Triangle has\n",
      "Side 1: 6\n",
      "Side 2: 9\n",
      "Side 3: 10\n",
      "Area : 26.663411259626926\n",
      "Perimeter :25\n"
     ]
    }
   ],
   "source": [
    "import math\n",
    "from abc import ABC, abstractmethod\n",
    "class GeometricObject(ABC):\n",
    "    @abstractmethod\n",
    "    def accessor(self):\n",
    "        pass\n",
    "\n",
    "\n",
    "class Triangle(GeometricObject):\n",
    "    # Assuming that the user would input correct values in sides for a triangle\n",
    "    def __init__(self,side1=1.0,side2=1.0, side3=1.0):\n",
    "        super().__init__()\n",
    "        self.side1 = side1\n",
    "        self.side2 = side2\n",
    "        self.side3 = side3\n",
    "\n",
    "    def accessor(self):\n",
    "        print(f\"Side 1: {self.side1}\\nSide 2: {self.side2}\\nSide 3: {self.side3}\\n\")\n",
    "\n",
    "    def getArea(self):\n",
    "        s = float((self.side1+self.side2+self.side3)/2.0)\n",
    "        return math.sqrt(s*(s-self.side1)*(s-self.side2)*(s-self.side3))\n",
    "    \n",
    "    def getPerimeter(self):\n",
    "        return self.side1+self.side2+self.side3\n",
    "    \n",
    "    def __str__(self):\n",
    "        return f\"The Triangle has\\nSide 1: {self.side1}\\nSide 2: {self.side2}\\nSide 3: {self.side3}\\nArea : {self.getArea()}\\nPerimeter :{self.getPerimeter()}\"\n",
    "\n",
    "side1 = eval(input(\"What is the side 1: \"))\n",
    "side2 = eval(input(\"What is the side 2: \"))\n",
    "side3 = eval(input(\"What is the side 3: \"))\n",
    "\n",
    "tri = Triangle(side1, side2, side3)\n",
    "\n",
    "print(f\"Area is: {tri.getArea()}\")\n",
    "print(f\"Perimeter is: {tri.getPerimeter()}\")\n",
    "tri.accessor()\n",
    "\n",
    "print(tri)\n"
   ]
  }
 ],
 "metadata": {
  "kernelspec": {
   "display_name": "Python 3",
   "language": "python",
   "name": "python3"
  },
  "language_info": {
   "codemirror_mode": {
    "name": "ipython",
    "version": 3
   },
   "file_extension": ".py",
   "mimetype": "text/x-python",
   "name": "python",
   "nbconvert_exporter": "python",
   "pygments_lexer": "ipython3",
   "version": "3.12.0"
  }
 },
 "nbformat": 4,
 "nbformat_minor": 2
}
