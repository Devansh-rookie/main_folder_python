{
 "cells": [
  {
   "cell_type": "markdown",
   "metadata": {},
   "source": [
    "I. Write a Python program to read a file line by line and store it in a list."
   ]
  },
  {
   "cell_type": "code",
   "execution_count": 1,
   "metadata": {},
   "outputs": [
    {
     "name": "stdout",
     "output_type": "stream",
     "text": [
      "['1234\\n', '5\\n', '14\\n', '5\\n', '613\\n', '6\\n', '431\\n', '6\\n', '346\\n', '136\\n']\n"
     ]
    }
   ],
   "source": [
    "f = open(\"sample.txt\",\"r\")\n",
    "data = f.readlines()\n",
    "print(data)"
   ]
  },
  {
   "cell_type": "markdown",
   "metadata": {},
   "source": [
    "II. Write a Python function to multiply all the items in a list."
   ]
  },
  {
   "cell_type": "code",
   "execution_count": 4,
   "metadata": {},
   "outputs": [
    {
     "name": "stdout",
     "output_type": "stream",
     "text": [
      "Input was:  [1, 2, 3, 4, 5]\n",
      "The answer of the operation is:  120\n"
     ]
    }
   ],
   "source": [
    "list1 = eval(input(\"What is the list enter in the correct format: \"))\n",
    "mul=1\n",
    "for i in list1:\n",
    "    mul*=i\n",
    "print(\"Input was: \",list1)\n",
    "print(\"The answer of the operation is: \",mul)"
   ]
  },
  {
   "cell_type": "markdown",
   "metadata": {},
   "source": [
    "III. Write a Python program to count the number of strings where the string length is 2 or more and the first and last character are the same from a given list of strings.\n",
    "Sample List: ['abc', 'xyz', 'aba', '1221']\n",
    "Expected Result : 2"
   ]
  },
  {
   "cell_type": "code",
   "execution_count": 5,
   "metadata": {},
   "outputs": [
    {
     "name": "stdout",
     "output_type": "stream",
     "text": [
      "Inputted List:  ['abc', 'xyz', 'aba', '1221']\n",
      "The output is:  2\n"
     ]
    }
   ],
   "source": [
    "list1 = eval(input(\"What is the list enter in the correct format: \"))# or we can use append here\n",
    "count = 0\n",
    "for i in list1:\n",
    "    if len(i)>=2 and i[0]==i[len(i)-1]:\n",
    "            count+=1\n",
    "print(\"Inputted List: \", list1)\n",
    "print(\"The output is: \", count)\n"
   ]
  },
  {
   "cell_type": "markdown",
   "metadata": {},
   "source": [
    "IV. Write a Python function that takes two lists and returns True if they have at least one common member."
   ]
  },
  {
   "cell_type": "code",
   "execution_count": 10,
   "metadata": {},
   "outputs": [
    {
     "name": "stdout",
     "output_type": "stream",
     "text": [
      "List1:  [1, 2, 3]\n",
      "List2:  [4, 3]\n",
      "The result is: True\n"
     ]
    }
   ],
   "source": [
    "def check_two_lists(list1,list2):\n",
    "    for i in list1:\n",
    "        if i in list2:\n",
    "            return True\n",
    "    return False\n",
    "list1 = eval(input(\"What is list1 enter in the correct format: \"))\n",
    "list2 = eval(input(\"What is list2 enter in the correct format: \"))\n",
    "print(\"List1: \", list1)\n",
    "print(\"List2: \", list2)\n",
    "print(\"The result is:\",check_two_lists(list1,list2))"
   ]
  },
  {
   "cell_type": "markdown",
   "metadata": {},
   "source": [
    "V. · Write a Python program to generate and print a list of first and last 5 elements where the values are squares of numbers between 1 and 30 (both included)."
   ]
  },
  {
   "cell_type": "code",
   "execution_count": 16,
   "metadata": {},
   "outputs": [
    {
     "name": "stdout",
     "output_type": "stream",
     "text": [
      "[1, 4, 9, 16, 25, 676, 729, 784, 841, 900]\n"
     ]
    }
   ],
   "source": [
    "lst1 = list()\n",
    "lst2= list()\n",
    "for i in range(1,31):\n",
    "    lst1.append(i**2)\n",
    "for i in range(0,5):\n",
    "    lst2.append(lst1[i])\n",
    "for i in range(-5,0):\n",
    "    lst2.append(lst1[i])\n",
    "print(lst2)"
   ]
  },
  {
   "cell_type": "markdown",
   "metadata": {},
   "source": [
    "VI. Write a python program to check whether two lists are circularly identical. E.g., [1,2,3] is circularly identical with: [2,3,1] and [3,1,2]"
   ]
  },
  {
   "cell_type": "code",
   "execution_count": 29,
   "metadata": {},
   "outputs": [
    {
     "name": "stdout",
     "output_type": "stream",
     "text": [
      "List 1:  [1, 2, 3]\n",
      "Check List:  [3, 2, 1]\n",
      "The list is not circular.\n"
     ]
    }
   ],
   "source": [
    "def check_listss(list2,check_list):\n",
    "    for i in range(len(list2)):\n",
    "        c=0\n",
    "        for j in range(len(check_list)):\n",
    "            if i<len(list2) and j<len(check_list) and check_list[j]==list2[i]:\n",
    "                c+=1\n",
    "                i+=1\n",
    "        if c== length:\n",
    "            print(\"The list is circular.\")\n",
    "            return\n",
    "    print(\"The list is not circular.\")\n",
    "\n",
    "list1 = eval(input(\"What is the list: \"))\n",
    "check_list= eval(input(\"What is list to check: \"))\n",
    "list2= list()\n",
    "length = len(check_list)\n",
    "list2.extend(list1)\n",
    "list2.extend(list1)\n",
    "print(\"List 1: \", list1)\n",
    "print(\"Check List: \", check_list)\n",
    "check_listss(list2, check_list)"
   ]
  },
  {
   "cell_type": "markdown",
   "metadata": {},
   "source": [
    "VII. Write a Python program to convert a pair of values into a sorted unique array."
   ]
  },
  {
   "cell_type": "code",
   "execution_count": 37,
   "metadata": {},
   "outputs": [
    {
     "name": "stdout",
     "output_type": "stream",
     "text": [
      "[1, 6, 13, 16, 124, 346, 364, 436]\n"
     ]
    }
   ],
   "source": [
    "def unique_sorted(list1, list2):\n",
    "    list1.extend(list2)\n",
    "    unique_set = set(list1)\n",
    "    list1= list(unique_set)\n",
    "    list1.sort()\n",
    "    print(list1)\n",
    "\n",
    "list1 = eval(input(\"What is the main list: \"))\n",
    "add = eval(input(\"What is list to add: \"))\n",
    "unique_sorted(list1, add)"
   ]
  },
  {
   "cell_type": "markdown",
   "metadata": {},
   "source": [
    "VIII. Write a Python program to detect the number of local variables declared in a function."
   ]
  },
  {
   "cell_type": "code",
   "execution_count": 41,
   "metadata": {},
   "outputs": [
    {
     "name": "stdout",
     "output_type": "stream",
     "text": [
      "{'a': 123, 'b': 'hello', 'c': [1, 2, 3]}\n",
      "Number of variables in the function: 3\n"
     ]
    }
   ],
   "source": [
    "def example_function():\n",
    "    a = 123\n",
    "    b = 'hello'\n",
    "    c = [1, 2, 3]\n",
    "    variables = locals() # it gives all the local variables in form of a dictionary with the name as the key and value as the value\n",
    "    variable_count = len(variables)\n",
    "    print(variables)\n",
    "    print(f\"Number of variables in the function: {variable_count}\")\n",
    "example_function()"
   ]
  }
 ],
 "metadata": {
  "kernelspec": {
   "display_name": "Python 3",
   "language": "python",
   "name": "python3"
  },
  "language_info": {
   "codemirror_mode": {
    "name": "ipython",
    "version": 3
   },
   "file_extension": ".py",
   "mimetype": "text/x-python",
   "name": "python",
   "nbconvert_exporter": "python",
   "pygments_lexer": "ipython3",
   "version": "3.9.6"
  }
 },
 "nbformat": 4,
 "nbformat_minor": 2
}
