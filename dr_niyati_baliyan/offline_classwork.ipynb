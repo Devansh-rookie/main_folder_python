{
 "cells": [
  {
   "cell_type": "markdown",
   "metadata": {},
   "source": [
    "8 February 2024\n",
    "Join it later with the colab files"
   ]
  },
  {
   "cell_type": "markdown",
   "metadata": {},
   "source": [
    "1) Modular Programming\n",
    "2) Interacting with other programs\n",
    "3) Reusability\n"
   ]
  },
  {
   "cell_type": "code",
   "execution_count": 3,
   "metadata": {},
   "outputs": [
    {
     "name": "stdout",
     "output_type": "stream",
     "text": [
      "2  x  1  =  2\n",
      "2  x  2  =  4\n",
      "2  x  3  =  6\n",
      "2  x  4  =  8\n",
      "2  x  5  =  10\n",
      "2  x  6  =  12\n",
      "2  x  7  =  14\n",
      "2  x  8  =  16\n",
      "2  x  9  =  18\n",
      "2  x  10  =  20\n",
      "\n",
      "\n",
      "3  x  1  =  3\n",
      "3  x  2  =  6\n",
      "3  x  3  =  9\n",
      "3  x  4  =  12\n",
      "3  x  5  =  15\n",
      "3  x  6  =  18\n",
      "3  x  7  =  21\n",
      "3  x  8  =  24\n",
      "3  x  9  =  27\n",
      "3  x  10  =  30\n",
      "\n",
      "\n",
      "4  x  1  =  4\n",
      "4  x  2  =  8\n",
      "4  x  3  =  12\n",
      "4  x  4  =  16\n",
      "4  x  5  =  20\n",
      "4  x  6  =  24\n",
      "4  x  7  =  28\n",
      "4  x  8  =  32\n",
      "4  x  9  =  36\n",
      "4  x  10  =  40\n",
      "\n",
      "\n",
      "5  x  1  =  5\n",
      "5  x  2  =  10\n",
      "5  x  3  =  15\n",
      "5  x  4  =  20\n",
      "5  x  5  =  25\n",
      "5  x  6  =  30\n",
      "5  x  7  =  35\n",
      "5  x  8  =  40\n",
      "5  x  9  =  45\n",
      "5  x  10  =  50\n",
      "\n",
      "\n"
     ]
    }
   ],
   "source": [
    "def tables(n=1):\n",
    "    for i in range(1,11):\n",
    "        print(n ,\" x \" , i, \" = \", n*i)\n",
    "    print(\"\\n\")\n",
    "n = int(input(\"How many tables to print from 2 to n, give n:\"))\n",
    "for i in range(2,n+1):\n",
    "    tables(i)\n"
   ]
  },
  {
   "cell_type": "markdown",
   "metadata": {},
   "source": [
    "Always Write functions in Python exam"
   ]
  },
  {
   "cell_type": "code",
   "execution_count": 12,
   "metadata": {},
   "outputs": [
    {
     "name": "stdout",
     "output_type": "stream",
     "text": [
      "sum, diff, mul, div, (3, -1, 2, 0.5) (3, -1, 2, 0.5)\n"
     ]
    }
   ],
   "source": [
    "def calc(a=1,b=1):\n",
    "    return a+b,a-b,a*b,a/b # returns a tuple and to store we need to use 4 different variables\n",
    "# when the first return is executed the control goes away from the function and exits that function\n",
    "a,b = eval(input(\"What are a,b\"))\n",
    "# sum,mul = calc(a,b) # this will give an error \n",
    "sum = calc(a,b) #this is assigning the tuple with values to the sum variable an calc(a,b) \n",
    "print(\"sum,\",\"diff,\", \"mul,\", \"div,\",calc(a,b) )"
   ]
  },
  {
   "cell_type": "markdown",
   "metadata": {},
   "source": [
    "Appreciate the use of function in Python and justify it using by making the following programs with functions\n"
   ]
  },
  {
   "cell_type": "markdown",
   "metadata": {},
   "source": [
    "Function Nesting"
   ]
  },
  {
   "cell_type": "code",
   "execution_count": 16,
   "metadata": {},
   "outputs": [
    {
     "name": "stdout",
     "output_type": "stream",
     "text": [
      "11\n"
     ]
    }
   ],
   "source": [
    "def update(a,b):\n",
    "    def total(a,b):\n",
    "        return a+b\n",
    "    return total(a,b)+5\n",
    "# print(update(4,2), total(4,2))\n",
    "print(update(4,2))"
   ]
  },
  {
   "cell_type": "code",
   "execution_count": 29,
   "metadata": {},
   "outputs": [
    {
     "name": "stdout",
     "output_type": "stream",
     "text": [
      "5 ! is 120\n"
     ]
    }
   ],
   "source": [
    "def factorial(n):\n",
    "    if n==0 or n==1:\n",
    "        return 1\n",
    "    else:\n",
    "        return n*factorial(n-1)\n",
    "n = int(input(\"n: \"))\n",
    "if n>=0:\n",
    "    print(n,\"! is\", factorial(n))\n",
    "else:\n",
    "    print(\"Enter a valid value.\")"
   ]
  },
  {
   "cell_type": "markdown",
   "metadata": {},
   "source": [
    "12 February 2024"
   ]
  },
  {
   "cell_type": "markdown",
   "metadata": {},
   "source": [
    "Reduces Redundancy -> no longer needed bekar main repeated\n",
    "Hides Complexity -> Recursive Function its easier to understand e.g. TOH\n",
    "\n",
    "Arguments \n",
    "Formal and actual\n",
    "(definition) and (call and pass value)\n",
    "def sum(a,b)        this is the sum(x,y)\n"
   ]
  },
  {
   "cell_type": "markdown",
   "metadata": {},
   "source": [
    "Return number of upper case and lowercase characters in the string"
   ]
  },
  {
   "cell_type": "code",
   "execution_count": 3,
   "metadata": {},
   "outputs": [
    {
     "name": "stdout",
     "output_type": "stream",
     "text": [
      "dlroW oll\n"
     ]
    }
   ],
   "source": [
    "h = \"Hello World\"\n",
    "print(h[-1:1:-1])"
   ]
  },
  {
   "cell_type": "code",
   "execution_count": 2,
   "metadata": {},
   "outputs": [
    {
     "name": "stdout",
     "output_type": "stream",
     "text": [
      "Hello World\n",
      "Number of Upper case character is : 2\n",
      "Number of Lower case character is : 8\n"
     ]
    }
   ],
   "source": [
    "def up_low(a):\n",
    "    up=0\n",
    "    low=0\n",
    "    for i in a:\n",
    "        if(i.islower()):\n",
    "            low+=1\n",
    "        elif(i.isupper()):\n",
    "            up+=1\n",
    "    print(f\"Number of Upper case character is : {up}\\nNumber of Lower case character is : {low}\")\n",
    "string = input(\"What is the string: \")\n",
    "print(string)\n",
    "up_low(string)\n"
   ]
  },
  {
   "cell_type": "markdown",
   "metadata": {},
   "source": [
    "Unit 2: Lists\n",
    "(BOW: Bag of Words in NLP(Natural Language Processing))\n",
    "list is a class in Python \n",
    "list() # blank constructor\n",
    "to make a list \n"
   ]
  },
  {
   "cell_type": "code",
   "execution_count": 9,
   "metadata": {},
   "outputs": [
    {
     "name": "stdout",
     "output_type": "stream",
     "text": [
      "[10, 20, 'Hello', 1.4, True, False]\n",
      "[10, 20, 'Hello', 1.4, False, False]\n",
      "[10, 20, 'Hello', 1.4, False]\n",
      "[10, 20, 'Hello', False]\n",
      "[10, 20, False]\n"
     ]
    },
    {
     "ename": "TypeError",
     "evalue": "'<' not supported between instances of 'str' and 'int'",
     "output_type": "error",
     "traceback": [
      "\u001b[0;31m---------------------------------------------------------------------------\u001b[0m",
      "\u001b[0;31mTypeError\u001b[0m                                 Traceback (most recent call last)",
      "Cell \u001b[0;32mIn[9], line 18\u001b[0m\n\u001b[1;32m     15\u001b[0m mylist\u001b[38;5;241m.\u001b[39mappend(\u001b[38;5;124m\"\u001b[39m\u001b[38;5;124mHello World\u001b[39m\u001b[38;5;124m\"\u001b[39m)\n\u001b[1;32m     16\u001b[0m \u001b[38;5;66;03m# list1= sorted(mylist) # this will return a new list\u001b[39;00m\n\u001b[1;32m     17\u001b[0m \u001b[38;5;66;03m# print(list1)\u001b[39;00m\n\u001b[0;32m---> 18\u001b[0m \u001b[43mmylist\u001b[49m\u001b[38;5;241;43m.\u001b[39;49m\u001b[43msort\u001b[49m\u001b[43m(\u001b[49m\u001b[43m)\u001b[49m \u001b[38;5;66;03m# this will return None and the sorting is inplace\u001b[39;00m\n\u001b[1;32m     19\u001b[0m \u001b[38;5;28mprint\u001b[39m(mylist)\n",
      "\u001b[0;31mTypeError\u001b[0m: '<' not supported between instances of 'str' and 'int'"
     ]
    }
   ],
   "source": [
    "#mylist = list([1,2,3])\n",
    "# 1. Creating a List\n",
    "mylist = [10, 20 ,\"Hello\",1.4, False]\n",
    "# insert() function to add to the list at the index and shift everything else to the right by default\n",
    "mylist.insert(4, True)\n",
    "print(mylist)\n",
    "mylist[4]= False # Direct Replacement \n",
    "print(mylist)\n",
    "del mylist[5]\n",
    "# del mylist[-1] # deletes the last element\n",
    "# del mylist[1:4] # deletes index 1,2,3 \n",
    "# del mylist[:] # is the same as mylist.clear()\n",
    "print(mylist)\n",
    "mylist.pop(3) # pop returns the value that is deleted\n",
    "print(mylist)\n",
    "mylist.remove(\"Hello\")\n",
    "print(mylist)\n",
    "mylist.append(\"Hello World\")\n",
    "list1= sorted(mylist) # this will return a new list\n",
    "print(list1)\n",
    "mylist.sort() # this will return None and the sorting is inplace\n",
    "print(mylist)\n",
    "mylist.clear() #makes is empty"
   ]
  },
  {
   "cell_type": "code",
   "execution_count": 16,
   "metadata": {},
   "outputs": [
    {
     "name": "stdout",
     "output_type": "stream",
     "text": [
      "['123', '123', 'ABC', 'a$', 'a%', 'a1', 'a2', 'a3', 'a5', 'abc', 'acb']\n",
      "0\n"
     ]
    }
   ],
   "source": [
    "mylist = [\"a1\",\"a2\",\"a5\",\"a3\",\"a$\",\"a%\",\"123\",\"ABC\",\"abc\",\"acb\",\"123\"] # ASCII inside of string Lexicographic order\n",
    "mylist.sort()\n",
    "print(mylist)\n",
    "print(mylist.index(\"123\")) # only the first occurrence would be printed\n"
   ]
  },
  {
   "cell_type": "code",
   "execution_count": 17,
   "metadata": {},
   "outputs": [
    {
     "name": "stdout",
     "output_type": "stream",
     "text": [
      "[1, 2, 3, 4, 5, 6]\n"
     ]
    }
   ],
   "source": [
    "l1 = [1,2,3]\n",
    "l2 = [4,5,6]\n",
    "print(l1+l2) # subtraction is not supported"
   ]
  },
  {
   "cell_type": "code",
   "execution_count": 21,
   "metadata": {},
   "outputs": [
    {
     "name": "stdout",
     "output_type": "stream",
     "text": [
      "[1, 2, 3, 1, 2, 3]\n"
     ]
    }
   ],
   "source": [
    "l1 = [1,2,3]\n",
    "l2 = [2,3,4]\n",
    "l3 = 2*l1 # same list 2 times, appended\n",
    "print(l3) "
   ]
  },
  {
   "cell_type": "code",
   "execution_count": 22,
   "metadata": {},
   "outputs": [
    {
     "name": "stdout",
     "output_type": "stream",
     "text": [
      "True\n"
     ]
    }
   ],
   "source": [
    "l1 = [1,2,3]\n",
    "l2 = [2,3,4]\n",
    "print(2 in l1)"
   ]
  },
  {
   "cell_type": "code",
   "execution_count": 28,
   "metadata": {},
   "outputs": [
    {
     "name": "stdout",
     "output_type": "stream",
     "text": [
      "[4, 7, 6, 5, 4, 2]\n"
     ]
    }
   ],
   "source": [
    "l1 = [1,2,4,5,6,7,4]\n",
    "print(l1[-1:0:-1]) # reverse other than first element\n"
   ]
  },
  {
   "cell_type": "markdown",
   "metadata": {},
   "source": [
    "Lists are heterogenous, Mutable, Sequential/ Indexed(unlike sets)"
   ]
  },
  {
   "cell_type": "code",
   "execution_count": 31,
   "metadata": {},
   "outputs": [
    {
     "name": "stdout",
     "output_type": "stream",
     "text": [
      "213\n",
      "1\n",
      "256\n",
      "[1, 24, 12, 6, 213]\n"
     ]
    }
   ],
   "source": [
    "l1 = [1,24,6,213,12]\n",
    "print(max(l1)) # if can be added\n",
    "print(min(l1))\n",
    "print(sum(l1))\n",
    "import random\n",
    "random.shuffle(l1) # will shuffle the list\n",
    "print(l1)"
   ]
  },
  {
   "cell_type": "code",
   "execution_count": 1,
   "metadata": {},
   "outputs": [
    {
     "name": "stdout",
     "output_type": "stream",
     "text": [
      "1 1 2 3 5 8 13 21 34 55 89 144 233 377 610 987 1597 2584 4181 6765 10946 17711 28657 46368 75025 121393 196418 317811 514229 832040 1346269 2178309 3524578 5702887 9227465 14930352 24157817 39088169 63245986 102334155 "
     ]
    }
   ],
   "source": [
    "def fib(n):\n",
    "    if n==1:\n",
    "        return 1\n",
    "    elif n==2:\n",
    "        return 1\n",
    "    else:\n",
    "        return fib(n-1)+fib(n-2)\n",
    "n = int(input(\"What is n: \"))\n",
    "for i in range(1,n+1):\n",
    "    print(fib(i), end=\" \")"
   ]
  },
  {
   "cell_type": "markdown",
   "metadata": {},
   "source": [
    "#predict the output\n",
    "list = [2,'two',[False, 5.1]]\n",
    "print(len(list))\n",
    "\n",
    "#predicted: 3\n",
    "\n",
    "list = [2,'two',[False, 5.1]]\n",
    "print(list.count(2))\n",
    "\n",
    "#: 1\n",
    "\n",
    "list1= ['Riding']\n",
    "list1.extend('Hood')\n",
    "print(list1)# ['Riding', 'H','o','o','d']\n",
    "list.remove(2)\n",
    "print(list) # ['']\n",
    "# list[2].append() to do things on array "
   ]
  },
  {
   "cell_type": "code",
   "execution_count": 1,
   "metadata": {},
   "outputs": [
    {
     "name": "stdout",
     "output_type": "stream",
     "text": [
      "3\n"
     ]
    }
   ],
   "source": [
    "list = [2,'two',[False, 5.1]]\n",
    "print(len(list))"
   ]
  },
  {
   "cell_type": "code",
   "execution_count": 5,
   "metadata": {},
   "outputs": [
    {
     "name": "stdout",
     "output_type": "stream",
     "text": [
      "3\n",
      "1\n",
      "['Riding', 'H', 'o', 'o', 'd']\n",
      "['Riding', 'H', 'o', 'o', 'd', 1, 2, 'Hood']\n",
      "['two', [False, 5.2]]\n"
     ]
    }
   ],
   "source": [
    "#predict the output\n",
    "list = [2,'two',[False, 5.2]]\n",
    "print(len(list))\n",
    "\n",
    "#predicted: 3\n",
    "\n",
    "list = [2,'two',[False, 5.2]]\n",
    "print(list.count(2))\n",
    "\n",
    "#: 1\n",
    "\n",
    "list1= ['Riding']\n",
    "list1.extend('Hood') # extend means to do it like a character array\n",
    "# list1.extend(1)\n",
    "print(list1)# ['Riding', 'H','o','o','d']\n",
    "list1.extend((1,2)) # tuple or list in extend\n",
    "list1.append(\"Hood\")\n",
    "print(list1)\n",
    "list.remove(2)\n",
    "print(list) # ['Two', [False, 5.2]]"
   ]
  },
  {
   "cell_type": "code",
   "execution_count": 5,
   "metadata": {},
   "outputs": [
    {
     "name": "stdout",
     "output_type": "stream",
     "text": [
      "14 occurs the max times at 4 times.\n"
     ]
    }
   ],
   "source": [
    "list1 =[1,2,12,3,14,14,13,43,1,14,13,51,1,14]\n",
    "maxi= 0\n",
    "for i in range(len(list1)):\n",
    "    a = list1.count(list1[i])\n",
    "    if(maxi<a):\n",
    "        maxi = a\n",
    "        save = i\n",
    "print(f\"{list1[save]} occurs the max times at {maxi} times.\")"
   ]
  },
  {
   "cell_type": "code",
   "execution_count": 16,
   "metadata": {},
   "outputs": [
    {
     "name": "stdout",
     "output_type": "stream",
     "text": [
      "[[2, 'two'], [False, 5.2], 'H', 'o', 'o', 'd'] \n",
      " [[2, 'two'], [False, 5.2], 'H', 'o', 'o', 'd']\n"
     ]
    }
   ],
   "source": [
    "list1 = [[2,'two'],[False, 5.2]]\n",
    "list2= list1\n",
    "list1.extend('Hood') # extend means to do it like a character array\n",
    "print(list1,\"\\n\",list2)"
   ]
  },
  {
   "cell_type": "code",
   "execution_count": 26,
   "metadata": {},
   "outputs": [
    {
     "ename": "TypeError",
     "evalue": "'list' object is not callable",
     "output_type": "error",
     "traceback": [
      "\u001b[0;31m---------------------------------------------------------------------------\u001b[0m",
      "\u001b[0;31mTypeError\u001b[0m                                 Traceback (most recent call last)",
      "Cell \u001b[0;32mIn[26], line 2\u001b[0m\n\u001b[1;32m      1\u001b[0m list1 \u001b[38;5;241m=\u001b[39m [\u001b[38;5;241m1\u001b[39m,\u001b[38;5;241m2\u001b[39m,\u001b[38;5;241m5\u001b[39m,\u001b[38;5;241m3\u001b[39m]\n\u001b[0;32m----> 2\u001b[0m my_list\u001b[38;5;241m=\u001b[39m \u001b[38;5;28;43mlist\u001b[39;49m\u001b[43m(\u001b[49m\u001b[38;5;28;43mreversed\u001b[39;49m\u001b[43m(\u001b[49m\u001b[43mlist1\u001b[49m\u001b[43m)\u001b[49m\u001b[43m)\u001b[49m\n\u001b[1;32m      3\u001b[0m \u001b[38;5;28mprint\u001b[39m(my_list)\n",
      "\u001b[0;31mTypeError\u001b[0m: 'list' object is not callable"
     ]
    }
   ],
   "source": [
    "list1 = [1,2,5,3]\n",
    "my_list= list(reversed(list1))\n",
    "print(my_list)"
   ]
  },
  {
   "cell_type": "code",
   "execution_count": 30,
   "metadata": {},
   "outputs": [
    {
     "name": "stdout",
     "output_type": "stream",
     "text": [
      "[1, 9, 25, 49, 81]\n"
     ]
    }
   ],
   "source": [
    "list1 = []\n",
    "for i in range(1,11):\n",
    "    if i%2==1:\n",
    "        list1.append(i**2)\n",
    "print(list1)"
   ]
  },
  {
   "cell_type": "code",
   "execution_count": 6,
   "metadata": {},
   "outputs": [
    {
     "name": "stdout",
     "output_type": "stream",
     "text": [
      "[81, 49, 25, 9, 1]\n"
     ]
    }
   ],
   "source": [
    "list1 = [i*i for i in range(1,11) if i%2!=0]\n",
    "# list1.sort(reverse=True)\n",
    "print(list1)"
   ]
  },
  {
   "cell_type": "markdown",
   "metadata": {},
   "source": [
    "26 February 2024"
   ]
  },
  {
   "cell_type": "markdown",
   "metadata": {},
   "source": [
    "count the frequencies of the items of the list"
   ]
  },
  {
   "cell_type": "code",
   "execution_count": 6,
   "metadata": {},
   "outputs": [
    {
     "name": "stdout",
     "output_type": "stream",
     "text": [
      "1 2\n",
      "2 1\n",
      "3 1\n",
      "4 1\n"
     ]
    }
   ],
   "source": [
    "def count_list(l1):\n",
    "    a={}\n",
    "    l1.sort()\n",
    "    for i in range(0,len(l1)):\n",
    "        a[l1[i]]=l1.count(l1[i])\n",
    "    # print(a)\n",
    "    for i in a:\n",
    "        print(i,a[i])\n",
    "l1 = [1,2,4,1,3]\n",
    "count_list(l1)"
   ]
  },
  {
   "cell_type": "markdown",
   "metadata": {},
   "source": [
    "dictionary\n",
    "--> Ordered\n",
    "--> Indexed\n",
    "--> Unchangeable/ Immutable(before 3.6)\n",
    "now Dictionaries can be changed with update method\n"
   ]
  },
  {
   "cell_type": "code",
   "execution_count": 10,
   "metadata": {},
   "outputs": [
    {
     "name": "stdout",
     "output_type": "stream",
     "text": [
      "{1: 2, 3: 4}\n",
      "1\n",
      "3\n",
      "dict_values([2, 4])\n",
      "2\n",
      "4\n"
     ]
    }
   ],
   "source": [
    "diction = {}\n",
    "list1 = []\n",
    "mydict = {\n",
    "    1:2, \"Hello\": 5, 4.2: \"hello\"\n",
    "}\n",
    "mydict = dict({1:2,3:4})\n",
    "print(mydict)\n",
    "for i in mydict.keys():\n",
    "    print(i)\n",
    "print(mydict.values())\n",
    "for i in mydict.values():\n",
    "    print(i)"
   ]
  },
  {
   "cell_type": "code",
   "execution_count": 12,
   "metadata": {},
   "outputs": [
    {
     "name": "stdout",
     "output_type": "stream",
     "text": [
      "dict_items([(1, 2), (3, 4)])\n",
      "1 2\n",
      "3 4\n"
     ]
    }
   ],
   "source": [
    "print(mydict.items())\n",
    "# one key value pair is an item\n",
    "for i,j in mydict.items():\n",
    "    print(i,j)"
   ]
  },
  {
   "cell_type": "markdown",
   "metadata": {},
   "source": [
    "Mandatory add a value for a key"
   ]
  },
  {
   "cell_type": "code",
   "execution_count": 32,
   "metadata": {},
   "outputs": [
    {
     "name": "stdout",
     "output_type": "stream",
     "text": [
      "(1, 2)\n",
      "(3, 4)\n",
      "(5, 2)\n",
      "('Thing', 1)\n",
      "(12, 1)\n",
      "('New Dict', 5)\n",
      "('CGPA', 9.5)\n"
     ]
    }
   ],
   "source": [
    "mydict[5]= 2\n",
    "mydict[\"CGPA\"]= 9.5\n",
    "# mydict.items() gives a list of tuples\n",
    "for i in mydict.items():\n",
    "    print(i)"
   ]
  },
  {
   "cell_type": "code",
   "execution_count": 31,
   "metadata": {},
   "outputs": [
    {
     "name": "stdout",
     "output_type": "stream",
     "text": [
      "1 2\n",
      "3 4\n",
      "5 9\n",
      "Thing 1\n",
      "12 1\n",
      "New Dict 5\n"
     ]
    }
   ],
   "source": [
    "mydict.update({5:9,\"Thing\":1})\n",
    "# i will take first value of the tuples and j will take the second\n",
    "for i,j in mydict.items():\n",
    "    print(i,j)"
   ]
  },
  {
   "cell_type": "code",
   "execution_count": 30,
   "metadata": {},
   "outputs": [
    {
     "name": "stdout",
     "output_type": "stream",
     "text": [
      "1 2\n",
      "3 4\n",
      "5 2\n",
      "Thing 1\n",
      "12 1\n",
      "New Dict 5\n"
     ]
    }
   ],
   "source": [
    "dict2 = {12:1, \"New Dict\":5}\n",
    "# mydict.append(dict2)\n",
    "mydict.update(dict2)\n",
    "for i,j in mydict.items():\n",
    "    print(i,j)"
   ]
  },
  {
   "cell_type": "code",
   "execution_count": 33,
   "metadata": {},
   "outputs": [
    {
     "name": "stdout",
     "output_type": "stream",
     "text": [
      "1 2\n",
      "3 4\n",
      "5 2\n",
      "Thing 1\n",
      "12 1\n",
      "New Dict 5\n",
      "\n",
      "\n",
      "1 2\n",
      "3 4\n",
      "5 2\n",
      "Thing 1\n",
      "12 1\n",
      "\n",
      "\n",
      "1 2\n",
      "3 4\n",
      "5 2\n",
      "Thing 1\n"
     ]
    },
    {
     "ename": "TypeError",
     "evalue": "pop expected at least 1 argument, got 0",
     "output_type": "error",
     "traceback": [
      "\u001b[0;31m---------------------------------------------------------------------------\u001b[0m",
      "\u001b[0;31mTypeError\u001b[0m                                 Traceback (most recent call last)",
      "Cell \u001b[0;32mIn[33], line 12\u001b[0m\n\u001b[1;32m     10\u001b[0m \u001b[38;5;28;01mfor\u001b[39;00m i,j \u001b[38;5;129;01min\u001b[39;00m mydict\u001b[38;5;241m.\u001b[39mitems():\n\u001b[1;32m     11\u001b[0m     \u001b[38;5;28mprint\u001b[39m(i,j)\n\u001b[0;32m---> 12\u001b[0m \u001b[43mmydict\u001b[49m\u001b[38;5;241;43m.\u001b[39;49m\u001b[43mpop\u001b[49m\u001b[43m(\u001b[49m\u001b[43m)\u001b[49m\n\u001b[1;32m     13\u001b[0m \u001b[38;5;28mprint\u001b[39m(\u001b[38;5;124m\"\u001b[39m\u001b[38;5;130;01m\\n\u001b[39;00m\u001b[38;5;124m\"\u001b[39m)\n\u001b[1;32m     14\u001b[0m \u001b[38;5;28;01mfor\u001b[39;00m i,j \u001b[38;5;129;01min\u001b[39;00m mydict\u001b[38;5;241m.\u001b[39mitems():\n",
      "\u001b[0;31mTypeError\u001b[0m: pop expected at least 1 argument, got 0"
     ]
    }
   ],
   "source": [
    "del mydict[\"CGPA\"]\n",
    "for i,j in mydict.items():\n",
    "    print(i,j)\n",
    "mydict.pop(\"New Dict\")\n",
    "print(\"\\n\")\n",
    "for i,j in mydict.items():\n",
    "    print(i,j)\n",
    "mydict.popitem() # if no argument then just pop the last element\n",
    "print(\"\\n\")\n",
    "for i,j in mydict.items():\n",
    "    print(i,j)\n",
    "mydict.pop() # requires at least one argument\n",
    "print(\"\\n\")\n",
    "for i,j in mydict.items():\n",
    "    print(i,j)\n"
   ]
  },
  {
   "cell_type": "code",
   "execution_count": 34,
   "metadata": {},
   "outputs": [
    {
     "ename": "NameError",
     "evalue": "name 'mydict' is not defined",
     "output_type": "error",
     "traceback": [
      "\u001b[0;31m---------------------------------------------------------------------------\u001b[0m",
      "\u001b[0;31mNameError\u001b[0m                                 Traceback (most recent call last)",
      "Cell \u001b[0;32mIn[34], line 2\u001b[0m\n\u001b[1;32m      1\u001b[0m \u001b[38;5;28;01mdel\u001b[39;00m mydict\n\u001b[0;32m----> 2\u001b[0m \u001b[38;5;28mprint\u001b[39m(\u001b[43mmydict\u001b[49m)\n",
      "\u001b[0;31mNameError\u001b[0m: name 'mydict' is not defined"
     ]
    }
   ],
   "source": [
    "# del completely removes it from the memory\n",
    "del mydict\n",
    "print(mydict)\n",
    "mydict.clear()\n",
    "# this just removes the values and makes it an empty dictionary"
   ]
  },
  {
   "cell_type": "markdown",
   "metadata": {},
   "source": [
    "if we directly do\n",
    "for i in  dict1:\n",
    "    print(i)\n",
    "it will just give the keys directly in separate lines\n",
    "dict.keys() would give {1,2,3,4}\n",
    "the keys"
   ]
  },
  {
   "cell_type": "code",
   "execution_count": 42,
   "metadata": {},
   "outputs": [
    {
     "name": "stdout",
     "output_type": "stream",
     "text": [
      "1 3\n",
      "2 1\n",
      "3 1\n",
      "4 1\n",
      "5 1\n"
     ]
    }
   ],
   "source": [
    "def count_list(l1):\n",
    "    a={}\n",
    "    l1.sort()\n",
    "    for i in range(0,len(l1)):\n",
    "        a[l1[i]]=l1.count(l1[i])\n",
    "    # print(a)\n",
    "    # for i in a:\n",
    "    #     print(i,a[i])\n",
    "    return a\n",
    "l1 = [1,2,4,1,3,5,1]\n",
    "a=count_list(l1)\n",
    "for i,j in a.items():\n",
    "        print(i,j)"
   ]
  },
  {
   "cell_type": "code",
   "execution_count": 43,
   "metadata": {},
   "outputs": [
    {
     "name": "stdout",
     "output_type": "stream",
     "text": [
      "{1: 2, 3: 5}\n"
     ]
    }
   ],
   "source": [
    "mydict = {1:2,3:4}\n",
    "mydict[3]= 5\n",
    "print(mydict)"
   ]
  },
  {
   "cell_type": "markdown",
   "metadata": {},
   "source": [
    "27/2/2024"
   ]
  },
  {
   "cell_type": "markdown",
   "metadata": {},
   "source": [
    "create a dictionary that contains student information, Roll No. Name, Percentage, grades in 5 Subjects(A to E)"
   ]
  },
  {
   "cell_type": "code",
   "execution_count": 48,
   "metadata": {},
   "outputs": [
    {
     "name": "stdout",
     "output_type": "stream",
     "text": [
      "{'Name': 'ABC', 'Roll No.': 1, 'Percentage': 95, 'Grades': {'Maths': 'A', 'English': 'B', 'DS': 'A', 'Python': 'A', 'ABCD': 'A'}}\n",
      "{'Name': 'DEF', 'Roll No.': 1, 'Percentage': 95, 'Grades': {'Maths': 'A', 'English': 'B', 'DS': 'A', 'Python': 'A', 'ABCD': 'A'}}\n",
      "{'Name': 'DEF', 'Roll No.': 123110034, 'Percentage': 95, 'Grades': {'Maths': 'A', 'English': 'B', 'DS': 'A', 'Python': 'A', 'ABCD': 'A'}}\n"
     ]
    }
   ],
   "source": [
    "mydict= {\n",
    "    \"Name\":\"ABC\", \"Roll No.\":1, \"Percentage\":95, \"Grades\": {\"Maths\":\"A\",\"English\":\"B\", \"DS\":\"A\", \"Python\":\"A\",\"ABCD\":\"A\"}\n",
    "    }\n",
    "print(mydict)\n",
    "# Dictionaries are mutable objects unlike strings\n",
    "mydict = dict({\n",
    "    \"Name\":\"DEF\", \"Roll No.\":1, \"Percentage\":95, \"Grades\": {\"Maths\":\"A\",\"English\":\"B\", \"DS\":\"A\", \"Python\":\"A\",\"ABCD\":\"A\"}\n",
    "    })\n",
    "print(mydict)\n",
    "mydict[\"Roll No.\"]= 123110034\n",
    "print(mydict)"
   ]
  },
  {
   "cell_type": "code",
   "execution_count": 51,
   "metadata": {},
   "outputs": [
    {
     "name": "stdout",
     "output_type": "stream",
     "text": [
      "4\n",
      "<class 'dict'>\n",
      "<class 'str'>\n"
     ]
    }
   ],
   "source": [
    "print(len(mydict)) # number of keys\n",
    "print(type(mydict))\n",
    "a = \"ABC\"\n",
    "print(type(a))"
   ]
  },
  {
   "cell_type": "code",
   "execution_count": 57,
   "metadata": {},
   "outputs": [
    {
     "name": "stdout",
     "output_type": "stream",
     "text": [
      "dict_keys(['Name', 'Roll No.', 'Percentage', 'Grades'])\n",
      "dict_values(['DEF', 123110034, 95, {'Maths': 'A', 'English': 'B', 'DS': 'A', 'Python': 'A', 'ABCD': 'A'}])\n",
      "dict_items([('Name', 'DEF'), ('Roll No.', 123110034), ('Percentage', 95), ('Grades', {'Maths': 'A', 'English': 'B', 'DS': 'A', 'Python': 'A', 'ABCD': 'A'})])\n",
      "Name\n",
      "Roll No.\n",
      "Percentage\n",
      "Grades\n",
      "Name DEF\n",
      "Roll No. 123110034\n",
      "Percentage 95\n",
      "Grades {'Maths': 'A', 'English': 'B', 'DS': 'A', 'Python': 'A', 'ABCD': 'A'}\n"
     ]
    }
   ],
   "source": [
    "print(mydict.keys())\n",
    "print(mydict.values())\n",
    "\n",
    "print(mydict.items())\n",
    "\n",
    "for i in mydict:\n",
    "    print(i)\n",
    "for i,j in mydict.items():# key value pair\n",
    "    print(i,j)"
   ]
  },
  {
   "cell_type": "markdown",
   "metadata": {},
   "source": [
    "The key value pairs are unique, keys are unique"
   ]
  },
  {
   "cell_type": "code",
   "execution_count": 58,
   "metadata": {},
   "outputs": [
    {
     "name": "stdout",
     "output_type": "stream",
     "text": [
      "{'Name': 'DEF', 'Roll No.': 123110034, 'Percentage': 99, 'Grades': {'Maths': 'A', 'English': 'B', 'DS': 'A', 'Python': 'A', 'ABCD': 'A'}}\n"
     ]
    }
   ],
   "source": [
    "mydict[\"Percentage\"]= 99\n",
    "print(mydict)"
   ]
  },
  {
   "cell_type": "markdown",
   "metadata": {},
   "source": [
    "Here the Percentage value was updated as the keys are unique the duplicates are not allowed the thing is the new value would overwrite the previous value "
   ]
  },
  {
   "cell_type": "code",
   "execution_count": 59,
   "metadata": {},
   "outputs": [
    {
     "name": "stdout",
     "output_type": "stream",
     "text": [
      "{'Name': 'DEF', 'Roll No.': 123110034, 'Percentage': 99, 'Grades': {'Maths': 'A', 'English': 'B', 'DS': 'A', 'Python': 'A', 'ABCD': 'A'}, 'ClassRank': 2}\n"
     ]
    }
   ],
   "source": [
    "mydict[\"ClassRank\"]= 2\n",
    "# any new value would be appended at he end\n",
    "print(mydict)"
   ]
  },
  {
   "cell_type": "code",
   "execution_count": 61,
   "metadata": {},
   "outputs": [
    {
     "name": "stdout",
     "output_type": "stream",
     "text": [
      "('Grades', {'Maths': 'A', 'English': 'B', 'DS': 'A', 'Python': 'A', 'ABCD': 'A'})\n",
      "{'Name': 'DEF', 'Roll No.': 123110034, 'Percentage': 99}\n"
     ]
    }
   ],
   "source": [
    "a=mydict.popitem()# this will pop the last item added to the value item means key value pair\n",
    "print(a)\n",
    "print(mydict)"
   ]
  },
  {
   "cell_type": "code",
   "execution_count": 62,
   "metadata": {},
   "outputs": [
    {
     "name": "stdout",
     "output_type": "stream",
     "text": [
      "99\n",
      "{'Name': 'DEF', 'Roll No.': 123110034}\n"
     ]
    }
   ],
   "source": [
    "a = mydict.pop(\"Percentage\")\n",
    "print(a) # returns value which was deleted as we already used the key to return it\n",
    "print(mydict)"
   ]
  },
  {
   "cell_type": "code",
   "execution_count": 64,
   "metadata": {},
   "outputs": [
    {
     "name": "stdout",
     "output_type": "stream",
     "text": [
      "{'Name': 'DEF'}\n"
     ]
    }
   ],
   "source": [
    "# a= del mydict[\"Roll No.\"]\n",
    "del mydict[\"Roll No.\"]\n",
    "print(mydict)"
   ]
  },
  {
   "cell_type": "code",
   "execution_count": 65,
   "metadata": {},
   "outputs": [
    {
     "name": "stdout",
     "output_type": "stream",
     "text": [
      "{}\n"
     ]
    }
   ],
   "source": [
    "mydict.clear() # contents were deleted all items have been removed only empty brackets are found\n",
    "print(mydict)"
   ]
  },
  {
   "cell_type": "code",
   "execution_count": 67,
   "metadata": {},
   "outputs": [
    {
     "ename": "NameError",
     "evalue": "name 'mydict' is not defined",
     "output_type": "error",
     "traceback": [
      "\u001b[0;31m---------------------------------------------------------------------------\u001b[0m",
      "\u001b[0;31mNameError\u001b[0m                                 Traceback (most recent call last)",
      "Cell \u001b[0;32mIn[67], line 1\u001b[0m\n\u001b[0;32m----> 1\u001b[0m \u001b[38;5;28;01mdel\u001b[39;00m \u001b[43mmydict\u001b[49m\n\u001b[1;32m      2\u001b[0m \u001b[38;5;28mprint\u001b[39m(mydict)\n",
      "\u001b[0;31mNameError\u001b[0m: name 'mydict' is not defined"
     ]
    }
   ],
   "source": [
    "del mydict"
   ]
  },
  {
   "cell_type": "markdown",
   "metadata": {},
   "source": [
    "del completely deletes the dictionary from the memory it self"
   ]
  },
  {
   "cell_type": "code",
   "execution_count": 69,
   "metadata": {},
   "outputs": [
    {
     "name": "stdout",
     "output_type": "stream",
     "text": [
      "{'Name': 'Devansh', 'Roll': 123110034}\n"
     ]
    }
   ],
   "source": [
    "mydict ={}\n",
    "mydict.update({\"Name\":\"Devansh\", \"Roll\":123110034})\n",
    "print(mydict)"
   ]
  },
  {
   "cell_type": "markdown",
   "metadata": {},
   "source": [
    "WAP to check if a given is already exists in the dictionary else add it\n",
    "WAP to generate and to print a dictionary, number (1 to n) in form\n",
    "    x:x^2, 1:1, 2:4\n",
    "WAP to get the maximum and minimum value of a dictionary, maximum and sorted values of the dictionary\n",
    "WAP to count the values associated with a key in dict, \"id\"=int, \"success\"=bool, \"name\" = str, total sub-dictionaries{\"id1\":{},\"id2\":{},\"id3\":{},{}} count how many times the success is taking the value True\n",
    "WAP to create a dictionary from 2 lists without losing duplicate values 1 2 3 4 match with A B B C don't lose out B B so make it into the values list and make the other one a list of keys."
   ]
  }
 ],
 "metadata": {
  "kernelspec": {
   "display_name": "Python 3",
   "language": "python",
   "name": "python3"
  },
  "language_info": {
   "codemirror_mode": {
    "name": "ipython",
    "version": 3
   },
   "file_extension": ".py",
   "mimetype": "text/x-python",
   "name": "python",
   "nbconvert_exporter": "python",
   "pygments_lexer": "ipython3",
   "version": "3.12.0"
  }
 },
 "nbformat": 4,
 "nbformat_minor": 2
}
