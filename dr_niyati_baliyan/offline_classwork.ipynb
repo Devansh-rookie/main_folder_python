{
 "cells": [
  {
   "cell_type": "markdown",
   "metadata": {},
   "source": [
    "8 February 2024\n",
    "Join it later with the colab files"
   ]
  },
  {
   "cell_type": "markdown",
   "metadata": {},
   "source": [
    "1) Modular Programming\n",
    "2) Interacting with other programs\n",
    "3) Reusability\n"
   ]
  },
  {
   "cell_type": "code",
   "execution_count": 3,
   "metadata": {},
   "outputs": [
    {
     "name": "stdout",
     "output_type": "stream",
     "text": [
      "2  x  1  =  2\n",
      "2  x  2  =  4\n",
      "2  x  3  =  6\n",
      "2  x  4  =  8\n",
      "2  x  5  =  10\n",
      "2  x  6  =  12\n",
      "2  x  7  =  14\n",
      "2  x  8  =  16\n",
      "2  x  9  =  18\n",
      "2  x  10  =  20\n",
      "\n",
      "\n",
      "3  x  1  =  3\n",
      "3  x  2  =  6\n",
      "3  x  3  =  9\n",
      "3  x  4  =  12\n",
      "3  x  5  =  15\n",
      "3  x  6  =  18\n",
      "3  x  7  =  21\n",
      "3  x  8  =  24\n",
      "3  x  9  =  27\n",
      "3  x  10  =  30\n",
      "\n",
      "\n",
      "4  x  1  =  4\n",
      "4  x  2  =  8\n",
      "4  x  3  =  12\n",
      "4  x  4  =  16\n",
      "4  x  5  =  20\n",
      "4  x  6  =  24\n",
      "4  x  7  =  28\n",
      "4  x  8  =  32\n",
      "4  x  9  =  36\n",
      "4  x  10  =  40\n",
      "\n",
      "\n",
      "5  x  1  =  5\n",
      "5  x  2  =  10\n",
      "5  x  3  =  15\n",
      "5  x  4  =  20\n",
      "5  x  5  =  25\n",
      "5  x  6  =  30\n",
      "5  x  7  =  35\n",
      "5  x  8  =  40\n",
      "5  x  9  =  45\n",
      "5  x  10  =  50\n",
      "\n",
      "\n"
     ]
    }
   ],
   "source": [
    "def tables(n=1):\n",
    "    for i in range(1,11):\n",
    "        print(n ,\" x \" , i, \" = \", n*i)\n",
    "    print(\"\\n\")\n",
    "n = int(input(\"How many tables to print from 2 to n, give n:\"))\n",
    "for i in range(2,n+1):\n",
    "    tables(i)\n"
   ]
  },
  {
   "cell_type": "markdown",
   "metadata": {},
   "source": [
    "Always Write functions in Python exam"
   ]
  },
  {
   "cell_type": "code",
   "execution_count": 12,
   "metadata": {},
   "outputs": [
    {
     "name": "stdout",
     "output_type": "stream",
     "text": [
      "sum, diff, mul, div, (3, -1, 2, 0.5) (3, -1, 2, 0.5)\n"
     ]
    }
   ],
   "source": [
    "def calc(a=1,b=1):\n",
    "    return a+b,a-b,a*b,a/b # returns a tuple and to store we need to use 4 different variables\n",
    "# when the first return is executed the control goes away from the function and exits that function\n",
    "a,b = eval(input(\"What are a,b\"))\n",
    "# sum,mul = calc(a,b) # this will give an error \n",
    "sum = calc(a,b) #this is assigning the tuple with values to the sum variable an calc(a,b) \n",
    "print(\"sum,\",\"diff,\", \"mul,\", \"div,\",calc(a,b) )"
   ]
  },
  {
   "cell_type": "markdown",
   "metadata": {},
   "source": [
    "Appreciate the use of function in Python and justify it using by making the following programs with functions\n"
   ]
  },
  {
   "cell_type": "markdown",
   "metadata": {},
   "source": [
    "Function Nesting"
   ]
  },
  {
   "cell_type": "code",
   "execution_count": 16,
   "metadata": {},
   "outputs": [
    {
     "name": "stdout",
     "output_type": "stream",
     "text": [
      "11\n"
     ]
    }
   ],
   "source": [
    "def update(a,b):\n",
    "    def total(a,b):\n",
    "        return a+b\n",
    "    return total(a,b)+5\n",
    "# print(update(4,2), total(4,2))\n",
    "print(update(4,2))"
   ]
  },
  {
   "cell_type": "code",
   "execution_count": 29,
   "metadata": {},
   "outputs": [
    {
     "name": "stdout",
     "output_type": "stream",
     "text": [
      "5 ! is 120\n"
     ]
    }
   ],
   "source": [
    "def factorial(n):\n",
    "    if n==0 or n==1:\n",
    "        return 1\n",
    "    else:\n",
    "        return n*factorial(n-1)\n",
    "n = int(input(\"n: \"))\n",
    "if n>=0:\n",
    "    print(n,\"! is\", factorial(n))\n",
    "else:\n",
    "    print(\"Enter a valid value.\")"
   ]
  },
  {
   "cell_type": "markdown",
   "metadata": {},
   "source": [
    "12 February 2024"
   ]
  },
  {
   "cell_type": "markdown",
   "metadata": {},
   "source": [
    "Reduces Redundancy -> no longer needed bekar main repeated\n",
    "Hides Complexity -> Recursive Function its easier to understand e.g. TOH\n",
    "\n",
    "Arguments \n",
    "Formal and actual\n",
    "(definition) and (call and pass value)\n",
    "def sum(a,b)        this is the sum(x,y)\n"
   ]
  },
  {
   "cell_type": "markdown",
   "metadata": {},
   "source": [
    "Return number of upper case and lowercase characters in the string"
   ]
  },
  {
   "cell_type": "code",
   "execution_count": 3,
   "metadata": {},
   "outputs": [
    {
     "name": "stdout",
     "output_type": "stream",
     "text": [
      "dlroW oll\n"
     ]
    }
   ],
   "source": [
    "h = \"Hello World\"\n",
    "print(h[-1:1:-1])"
   ]
  },
  {
   "cell_type": "code",
   "execution_count": 2,
   "metadata": {},
   "outputs": [
    {
     "name": "stdout",
     "output_type": "stream",
     "text": [
      "Hello World\n",
      "Number of Upper case character is : 2\n",
      "Number of Lower case character is : 8\n"
     ]
    }
   ],
   "source": [
    "def up_low(a):\n",
    "    up=0\n",
    "    low=0\n",
    "    for i in a:\n",
    "        if(i.islower()):\n",
    "            low+=1\n",
    "        elif(i.isupper()):\n",
    "            up+=1\n",
    "    print(f\"Number of Upper case character is : {up}\\nNumber of Lower case character is : {low}\")\n",
    "string = input(\"What is the string: \")\n",
    "print(string)\n",
    "up_low(string)\n"
   ]
  },
  {
   "cell_type": "markdown",
   "metadata": {},
   "source": [
    "Unit 2: Lists\n",
    "(BOW: Bag of Words in NLP(Natural Language Processing))\n",
    "list is a class in Python \n",
    "list() # blank constructor\n",
    "to make a list \n"
   ]
  },
  {
   "cell_type": "code",
   "execution_count": 9,
   "metadata": {},
   "outputs": [
    {
     "name": "stdout",
     "output_type": "stream",
     "text": [
      "[10, 20, 'Hello', 1.4, True, False]\n",
      "[10, 20, 'Hello', 1.4, False, False]\n",
      "[10, 20, 'Hello', 1.4, False]\n",
      "[10, 20, 'Hello', False]\n",
      "[10, 20, False]\n"
     ]
    },
    {
     "ename": "TypeError",
     "evalue": "'<' not supported between instances of 'str' and 'int'",
     "output_type": "error",
     "traceback": [
      "\u001b[0;31m---------------------------------------------------------------------------\u001b[0m",
      "\u001b[0;31mTypeError\u001b[0m                                 Traceback (most recent call last)",
      "Cell \u001b[0;32mIn[9], line 18\u001b[0m\n\u001b[1;32m     15\u001b[0m mylist\u001b[38;5;241m.\u001b[39mappend(\u001b[38;5;124m\"\u001b[39m\u001b[38;5;124mHello World\u001b[39m\u001b[38;5;124m\"\u001b[39m)\n\u001b[1;32m     16\u001b[0m \u001b[38;5;66;03m# list1= sorted(mylist) # this will return a new list\u001b[39;00m\n\u001b[1;32m     17\u001b[0m \u001b[38;5;66;03m# print(list1)\u001b[39;00m\n\u001b[0;32m---> 18\u001b[0m \u001b[43mmylist\u001b[49m\u001b[38;5;241;43m.\u001b[39;49m\u001b[43msort\u001b[49m\u001b[43m(\u001b[49m\u001b[43m)\u001b[49m \u001b[38;5;66;03m# this will return None and the sorting is inplace\u001b[39;00m\n\u001b[1;32m     19\u001b[0m \u001b[38;5;28mprint\u001b[39m(mylist)\n",
      "\u001b[0;31mTypeError\u001b[0m: '<' not supported between instances of 'str' and 'int'"
     ]
    }
   ],
   "source": [
    "#mylist = list([1,2,3])\n",
    "# 1. Creating a List\n",
    "mylist = [10, 20 ,\"Hello\",1.4, False]\n",
    "# insert() function to add to the list at the index and shift everything else to the right by default\n",
    "mylist.insert(4, True)\n",
    "print(mylist)\n",
    "mylist[4]= False # Direct Replacement \n",
    "print(mylist)\n",
    "del mylist[5]\n",
    "# del mylist[-1] # deletes the last element\n",
    "# del mylist[1:4] # deletes index 1,2,3 \n",
    "# del mylist[:] # is the same as mylist.clear()\n",
    "print(mylist)\n",
    "mylist.pop(3) # pop returns the value that is deleted\n",
    "print(mylist)\n",
    "mylist.remove(\"Hello\")\n",
    "print(mylist)\n",
    "mylist.append(\"Hello World\")\n",
    "list1= sorted(mylist) # this will return a new list\n",
    "print(list1)\n",
    "mylist.sort() # this will return None and the sorting is inplace\n",
    "print(mylist)\n",
    "mylist.clear() #makes is empty"
   ]
  },
  {
   "cell_type": "code",
   "execution_count": 16,
   "metadata": {},
   "outputs": [
    {
     "name": "stdout",
     "output_type": "stream",
     "text": [
      "['123', '123', 'ABC', 'a$', 'a%', 'a1', 'a2', 'a3', 'a5', 'abc', 'acb']\n",
      "0\n"
     ]
    }
   ],
   "source": [
    "mylist = [\"a1\",\"a2\",\"a5\",\"a3\",\"a$\",\"a%\",\"123\",\"ABC\",\"abc\",\"acb\",\"123\"] # ASCII inside of string Lexicographic order\n",
    "mylist.sort()\n",
    "print(mylist)\n",
    "print(mylist.index(\"123\")) # only the first occurrence would be printed\n"
   ]
  },
  {
   "cell_type": "code",
   "execution_count": 17,
   "metadata": {},
   "outputs": [
    {
     "name": "stdout",
     "output_type": "stream",
     "text": [
      "[1, 2, 3, 4, 5, 6]\n"
     ]
    }
   ],
   "source": [
    "l1 = [1,2,3]\n",
    "l2 = [4,5,6]\n",
    "print(l1+l2) # subtraction is not supported"
   ]
  },
  {
   "cell_type": "code",
   "execution_count": 21,
   "metadata": {},
   "outputs": [
    {
     "name": "stdout",
     "output_type": "stream",
     "text": [
      "[1, 2, 3, 1, 2, 3]\n"
     ]
    }
   ],
   "source": [
    "l1 = [1,2,3]\n",
    "l2 = [2,3,4]\n",
    "l3 = 2*l1 # same list 2 times, appended\n",
    "print(l3) "
   ]
  },
  {
   "cell_type": "code",
   "execution_count": 22,
   "metadata": {},
   "outputs": [
    {
     "name": "stdout",
     "output_type": "stream",
     "text": [
      "True\n"
     ]
    }
   ],
   "source": [
    "l1 = [1,2,3]\n",
    "l2 = [2,3,4]\n",
    "print(2 in l1)"
   ]
  },
  {
   "cell_type": "code",
   "execution_count": 28,
   "metadata": {},
   "outputs": [
    {
     "name": "stdout",
     "output_type": "stream",
     "text": [
      "[4, 7, 6, 5, 4, 2]\n"
     ]
    }
   ],
   "source": [
    "l1 = [1,2,4,5,6,7,4]\n",
    "print(l1[-1:0:-1]) # reverse other than first element\n"
   ]
  },
  {
   "cell_type": "markdown",
   "metadata": {},
   "source": [
    "Lists are heterogenous, Mutable, Sequential/ Indexed(unlike sets)"
   ]
  },
  {
   "cell_type": "code",
   "execution_count": 31,
   "metadata": {},
   "outputs": [
    {
     "name": "stdout",
     "output_type": "stream",
     "text": [
      "213\n",
      "1\n",
      "256\n",
      "[1, 24, 12, 6, 213]\n"
     ]
    }
   ],
   "source": [
    "l1 = [1,24,6,213,12]\n",
    "print(max(l1)) # if can be added\n",
    "print(min(l1))\n",
    "print(sum(l1))\n",
    "import random\n",
    "random.shuffle(l1) # will shuffle the list\n",
    "print(l1)"
   ]
  },
  {
   "cell_type": "code",
   "execution_count": 1,
   "metadata": {},
   "outputs": [
    {
     "name": "stdout",
     "output_type": "stream",
     "text": [
      "1 1 2 3 5 8 13 21 34 55 89 144 233 377 610 987 1597 2584 4181 6765 10946 17711 28657 46368 75025 121393 196418 317811 514229 832040 1346269 2178309 3524578 5702887 9227465 14930352 24157817 39088169 63245986 102334155 "
     ]
    }
   ],
   "source": [
    "def fib(n):\n",
    "    if n==1:\n",
    "        return 1\n",
    "    elif n==2:\n",
    "        return 1\n",
    "    else:\n",
    "        return fib(n-1)+fib(n-2)\n",
    "n = int(input(\"What is n: \"))\n",
    "for i in range(1,n+1):\n",
    "    print(fib(i), end=\" \")"
   ]
  },
  {
   "cell_type": "markdown",
   "metadata": {},
   "source": [
    "#predict the output\n",
    "list = [2,'two',[False, 5.1]]\n",
    "print(len(list))\n",
    "\n",
    "#predicted: 3\n",
    "\n",
    "list = [2,'two',[False, 5.1]]\n",
    "print(list.count(2))\n",
    "\n",
    "#: 1\n",
    "\n",
    "list1= ['Riding']\n",
    "list1.extend('Hood')\n",
    "print(list1)# ['Riding', 'H','o','o','d']\n",
    "list.remove(2)\n",
    "print(list) # ['']\n",
    "# list[2].append() to do things on array "
   ]
  },
  {
   "cell_type": "code",
   "execution_count": 1,
   "metadata": {},
   "outputs": [
    {
     "name": "stdout",
     "output_type": "stream",
     "text": [
      "3\n"
     ]
    }
   ],
   "source": [
    "list = [2,'two',[False, 5.1]]\n",
    "print(len(list))"
   ]
  },
  {
   "cell_type": "code",
   "execution_count": 5,
   "metadata": {},
   "outputs": [
    {
     "name": "stdout",
     "output_type": "stream",
     "text": [
      "3\n",
      "1\n",
      "['Riding', 'H', 'o', 'o', 'd']\n",
      "['Riding', 'H', 'o', 'o', 'd', 1, 2, 'Hood']\n",
      "['two', [False, 5.2]]\n"
     ]
    }
   ],
   "source": [
    "#predict the output\n",
    "list = [2,'two',[False, 5.2]]\n",
    "print(len(list))\n",
    "\n",
    "#predicted: 3\n",
    "\n",
    "list = [2,'two',[False, 5.2]]\n",
    "print(list.count(2))\n",
    "\n",
    "#: 1\n",
    "\n",
    "list1= ['Riding']\n",
    "list1.extend('Hood') # extend means to do it like a character array\n",
    "# list1.extend(1)\n",
    "print(list1)# ['Riding', 'H','o','o','d']\n",
    "list1.extend((1,2)) # tuple or list in extend\n",
    "list1.append(\"Hood\")\n",
    "print(list1)\n",
    "list.remove(2)\n",
    "print(list) # ['Two', [False, 5.2]]"
   ]
  },
  {
   "cell_type": "code",
   "execution_count": 5,
   "metadata": {},
   "outputs": [
    {
     "name": "stdout",
     "output_type": "stream",
     "text": [
      "14 occurs the max times at 4 times.\n"
     ]
    }
   ],
   "source": [
    "list1 =[1,2,12,3,14,14,13,43,1,14,13,51,1,14]\n",
    "maxi= 0\n",
    "for i in range(len(list1)):\n",
    "    a = list1.count(list1[i])\n",
    "    if(maxi<a):\n",
    "        maxi = a\n",
    "        save = i\n",
    "print(f\"{list1[save]} occurs the max times at {maxi} times.\")"
   ]
  },
  {
   "cell_type": "code",
   "execution_count": 16,
   "metadata": {},
   "outputs": [
    {
     "name": "stdout",
     "output_type": "stream",
     "text": [
      "[[2, 'two'], [False, 5.2], 'H', 'o', 'o', 'd'] \n",
      " [[2, 'two'], [False, 5.2], 'H', 'o', 'o', 'd']\n"
     ]
    }
   ],
   "source": [
    "list1 = [[2,'two'],[False, 5.2]]\n",
    "list2= list1\n",
    "list1.extend('Hood') # extend means to do it like a character array\n",
    "print(list1,\"\\n\",list2)"
   ]
  },
  {
   "cell_type": "code",
   "execution_count": 26,
   "metadata": {},
   "outputs": [
    {
     "ename": "TypeError",
     "evalue": "'list' object is not callable",
     "output_type": "error",
     "traceback": [
      "\u001b[0;31m---------------------------------------------------------------------------\u001b[0m",
      "\u001b[0;31mTypeError\u001b[0m                                 Traceback (most recent call last)",
      "Cell \u001b[0;32mIn[26], line 2\u001b[0m\n\u001b[1;32m      1\u001b[0m list1 \u001b[38;5;241m=\u001b[39m [\u001b[38;5;241m1\u001b[39m,\u001b[38;5;241m2\u001b[39m,\u001b[38;5;241m5\u001b[39m,\u001b[38;5;241m3\u001b[39m]\n\u001b[0;32m----> 2\u001b[0m my_list\u001b[38;5;241m=\u001b[39m \u001b[38;5;28;43mlist\u001b[39;49m\u001b[43m(\u001b[49m\u001b[38;5;28;43mreversed\u001b[39;49m\u001b[43m(\u001b[49m\u001b[43mlist1\u001b[49m\u001b[43m)\u001b[49m\u001b[43m)\u001b[49m\n\u001b[1;32m      3\u001b[0m \u001b[38;5;28mprint\u001b[39m(my_list)\n",
      "\u001b[0;31mTypeError\u001b[0m: 'list' object is not callable"
     ]
    }
   ],
   "source": [
    "list1 = [1,2,5,3]\n",
    "my_list= list(reversed(list1))\n",
    "print(my_list)"
   ]
  },
  {
   "cell_type": "code",
   "execution_count": 30,
   "metadata": {},
   "outputs": [
    {
     "name": "stdout",
     "output_type": "stream",
     "text": [
      "[1, 9, 25, 49, 81]\n"
     ]
    }
   ],
   "source": [
    "list1 = []\n",
    "for i in range(1,11):\n",
    "    if i%2==1:\n",
    "        list1.append(i**2)\n",
    "print(list1)"
   ]
  },
  {
   "cell_type": "code",
   "execution_count": 6,
   "metadata": {},
   "outputs": [
    {
     "name": "stdout",
     "output_type": "stream",
     "text": [
      "[81, 49, 25, 9, 1]\n"
     ]
    }
   ],
   "source": [
    "list1 = [i*i for i in range(1,11) if i%2!=0]\n",
    "# list1.sort(reverse=True)\n",
    "print(list1)"
   ]
  }
 ],
 "metadata": {
  "kernelspec": {
   "display_name": "Python 3",
   "language": "python",
   "name": "python3"
  },
  "language_info": {
   "codemirror_mode": {
    "name": "ipython",
    "version": 3
   },
   "file_extension": ".py",
   "mimetype": "text/x-python",
   "name": "python",
   "nbconvert_exporter": "python",
   "pygments_lexer": "ipython3",
   "version": "3.9.6"
  }
 },
 "nbformat": 4,
 "nbformat_minor": 2
}
